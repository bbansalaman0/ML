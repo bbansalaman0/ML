{
 "cells": [
  {
   "cell_type": "markdown",
   "metadata": {},
   "source": [
    "# **Titanic:Machine Learning Disaster**"
   ]
  },
  {
   "cell_type": "markdown",
   "metadata": {},
   "source": [
    "Hello everyone,<br>\n",
    "This is my first detailed contest notebook. A month ago I did the first submission just for fun and my ranking was around 80 percent. After that, I wanted to deal with it again and I was able to reduce it to **%8**.\n",
    "\n",
    "Notebook content is as follows:\n",
    "\n",
    " - [Exploratory Data Analysis](#1)\n",
    " - [Missing Value Analysis](#2)\n",
    " - [Feature Engineering](#3)\n",
    " - [Label Encoding](#4)\n",
    " - [Modelling](#5)\n",
    " - [Submission](#6)"
   ]
  },
  {
   "cell_type": "code",
   "execution_count": 1,
   "metadata": {
    "id": "xoR6ajkemwcV"
   },
   "outputs": [],
   "source": [
    "import pandas as pd\n",
    "import numpy as np\n",
    "import seaborn as sns\n",
    "import matplotlib.pyplot as plt\n",
    "\n",
    "sns.set()"
   ]
  },
  {
   "cell_type": "code",
   "execution_count": 2,
   "metadata": {
    "id": "z0IGYubAm8yh"
   },
   "outputs": [],
   "source": [
    "test_path = \"/kaggle/input/titanic/test.csv\"\n",
    "train_path = \"/kaggle/input/titanic/train.csv\"\n",
    "\n",
    "titanic_test = pd.read_csv(test_path)\n",
    "titanic_train = pd.read_csv(train_path)"
   ]
  },
  {
   "cell_type": "code",
   "execution_count": 3,
   "metadata": {
    "id": "DYfGP_lqqOrK",
    "outputId": "a09a80c0-c262-4127-d4f8-159ed932692f"
   },
   "outputs": [
    {
     "data": {
      "text/html": [
       "<div>\n",
       "<style scoped>\n",
       "    .dataframe tbody tr th:only-of-type {\n",
       "        vertical-align: middle;\n",
       "    }\n",
       "\n",
       "    .dataframe tbody tr th {\n",
       "        vertical-align: top;\n",
       "    }\n",
       "\n",
       "    .dataframe thead th {\n",
       "        text-align: right;\n",
       "    }\n",
       "</style>\n",
       "<table border=\"1\" class=\"dataframe\">\n",
       "  <thead>\n",
       "    <tr style=\"text-align: right;\">\n",
       "      <th></th>\n",
       "      <th>PassengerId</th>\n",
       "      <th>Survived</th>\n",
       "      <th>Pclass</th>\n",
       "      <th>Name</th>\n",
       "      <th>Sex</th>\n",
       "      <th>Age</th>\n",
       "      <th>SibSp</th>\n",
       "      <th>Parch</th>\n",
       "      <th>Ticket</th>\n",
       "      <th>Fare</th>\n",
       "      <th>Cabin</th>\n",
       "      <th>Embarked</th>\n",
       "    </tr>\n",
       "  </thead>\n",
       "  <tbody>\n",
       "    <tr>\n",
       "      <th>0</th>\n",
       "      <td>1</td>\n",
       "      <td>0</td>\n",
       "      <td>3</td>\n",
       "      <td>Braund, Mr. Owen Harris</td>\n",
       "      <td>male</td>\n",
       "      <td>22.0</td>\n",
       "      <td>1</td>\n",
       "      <td>0</td>\n",
       "      <td>A/5 21171</td>\n",
       "      <td>7.2500</td>\n",
       "      <td>NaN</td>\n",
       "      <td>S</td>\n",
       "    </tr>\n",
       "    <tr>\n",
       "      <th>1</th>\n",
       "      <td>2</td>\n",
       "      <td>1</td>\n",
       "      <td>1</td>\n",
       "      <td>Cumings, Mrs. John Bradley (Florence Briggs Th...</td>\n",
       "      <td>female</td>\n",
       "      <td>38.0</td>\n",
       "      <td>1</td>\n",
       "      <td>0</td>\n",
       "      <td>PC 17599</td>\n",
       "      <td>71.2833</td>\n",
       "      <td>C85</td>\n",
       "      <td>C</td>\n",
       "    </tr>\n",
       "    <tr>\n",
       "      <th>2</th>\n",
       "      <td>3</td>\n",
       "      <td>1</td>\n",
       "      <td>3</td>\n",
       "      <td>Heikkinen, Miss. Laina</td>\n",
       "      <td>female</td>\n",
       "      <td>26.0</td>\n",
       "      <td>0</td>\n",
       "      <td>0</td>\n",
       "      <td>STON/O2. 3101282</td>\n",
       "      <td>7.9250</td>\n",
       "      <td>NaN</td>\n",
       "      <td>S</td>\n",
       "    </tr>\n",
       "    <tr>\n",
       "      <th>3</th>\n",
       "      <td>4</td>\n",
       "      <td>1</td>\n",
       "      <td>1</td>\n",
       "      <td>Futrelle, Mrs. Jacques Heath (Lily May Peel)</td>\n",
       "      <td>female</td>\n",
       "      <td>35.0</td>\n",
       "      <td>1</td>\n",
       "      <td>0</td>\n",
       "      <td>113803</td>\n",
       "      <td>53.1000</td>\n",
       "      <td>C123</td>\n",
       "      <td>S</td>\n",
       "    </tr>\n",
       "    <tr>\n",
       "      <th>4</th>\n",
       "      <td>5</td>\n",
       "      <td>0</td>\n",
       "      <td>3</td>\n",
       "      <td>Allen, Mr. William Henry</td>\n",
       "      <td>male</td>\n",
       "      <td>35.0</td>\n",
       "      <td>0</td>\n",
       "      <td>0</td>\n",
       "      <td>373450</td>\n",
       "      <td>8.0500</td>\n",
       "      <td>NaN</td>\n",
       "      <td>S</td>\n",
       "    </tr>\n",
       "  </tbody>\n",
       "</table>\n",
       "</div>"
      ],
      "text/plain": [
       "   PassengerId  Survived  Pclass  \\\n",
       "0            1         0       3   \n",
       "1            2         1       1   \n",
       "2            3         1       3   \n",
       "3            4         1       1   \n",
       "4            5         0       3   \n",
       "\n",
       "                                                Name     Sex   Age  SibSp  \\\n",
       "0                            Braund, Mr. Owen Harris    male  22.0      1   \n",
       "1  Cumings, Mrs. John Bradley (Florence Briggs Th...  female  38.0      1   \n",
       "2                             Heikkinen, Miss. Laina  female  26.0      0   \n",
       "3       Futrelle, Mrs. Jacques Heath (Lily May Peel)  female  35.0      1   \n",
       "4                           Allen, Mr. William Henry    male  35.0      0   \n",
       "\n",
       "   Parch            Ticket     Fare Cabin Embarked  \n",
       "0      0         A/5 21171   7.2500   NaN        S  \n",
       "1      0          PC 17599  71.2833   C85        C  \n",
       "2      0  STON/O2. 3101282   7.9250   NaN        S  \n",
       "3      0            113803  53.1000  C123        S  \n",
       "4      0            373450   8.0500   NaN        S  "
      ]
     },
     "execution_count": 3,
     "metadata": {},
     "output_type": "execute_result"
    }
   ],
   "source": [
    "titanic_train.head()"
   ]
  },
  {
   "cell_type": "code",
   "execution_count": 4,
   "metadata": {
    "id": "6Kj4rlHwqSeS",
    "outputId": "12409329-21f8-4c94-aa75-4503f5f98096"
   },
   "outputs": [
    {
     "data": {
      "text/html": [
       "<div>\n",
       "<style scoped>\n",
       "    .dataframe tbody tr th:only-of-type {\n",
       "        vertical-align: middle;\n",
       "    }\n",
       "\n",
       "    .dataframe tbody tr th {\n",
       "        vertical-align: top;\n",
       "    }\n",
       "\n",
       "    .dataframe thead th {\n",
       "        text-align: right;\n",
       "    }\n",
       "</style>\n",
       "<table border=\"1\" class=\"dataframe\">\n",
       "  <thead>\n",
       "    <tr style=\"text-align: right;\">\n",
       "      <th></th>\n",
       "      <th>count</th>\n",
       "      <th>mean</th>\n",
       "      <th>std</th>\n",
       "      <th>min</th>\n",
       "      <th>25%</th>\n",
       "      <th>50%</th>\n",
       "      <th>75%</th>\n",
       "      <th>max</th>\n",
       "    </tr>\n",
       "  </thead>\n",
       "  <tbody>\n",
       "    <tr>\n",
       "      <th>PassengerId</th>\n",
       "      <td>891.0</td>\n",
       "      <td>446.000000</td>\n",
       "      <td>257.353842</td>\n",
       "      <td>1.00</td>\n",
       "      <td>223.5000</td>\n",
       "      <td>446.0000</td>\n",
       "      <td>668.5</td>\n",
       "      <td>891.0000</td>\n",
       "    </tr>\n",
       "    <tr>\n",
       "      <th>Survived</th>\n",
       "      <td>891.0</td>\n",
       "      <td>0.383838</td>\n",
       "      <td>0.486592</td>\n",
       "      <td>0.00</td>\n",
       "      <td>0.0000</td>\n",
       "      <td>0.0000</td>\n",
       "      <td>1.0</td>\n",
       "      <td>1.0000</td>\n",
       "    </tr>\n",
       "    <tr>\n",
       "      <th>Pclass</th>\n",
       "      <td>891.0</td>\n",
       "      <td>2.308642</td>\n",
       "      <td>0.836071</td>\n",
       "      <td>1.00</td>\n",
       "      <td>2.0000</td>\n",
       "      <td>3.0000</td>\n",
       "      <td>3.0</td>\n",
       "      <td>3.0000</td>\n",
       "    </tr>\n",
       "    <tr>\n",
       "      <th>Age</th>\n",
       "      <td>714.0</td>\n",
       "      <td>29.699118</td>\n",
       "      <td>14.526497</td>\n",
       "      <td>0.42</td>\n",
       "      <td>20.1250</td>\n",
       "      <td>28.0000</td>\n",
       "      <td>38.0</td>\n",
       "      <td>80.0000</td>\n",
       "    </tr>\n",
       "    <tr>\n",
       "      <th>SibSp</th>\n",
       "      <td>891.0</td>\n",
       "      <td>0.523008</td>\n",
       "      <td>1.102743</td>\n",
       "      <td>0.00</td>\n",
       "      <td>0.0000</td>\n",
       "      <td>0.0000</td>\n",
       "      <td>1.0</td>\n",
       "      <td>8.0000</td>\n",
       "    </tr>\n",
       "    <tr>\n",
       "      <th>Parch</th>\n",
       "      <td>891.0</td>\n",
       "      <td>0.381594</td>\n",
       "      <td>0.806057</td>\n",
       "      <td>0.00</td>\n",
       "      <td>0.0000</td>\n",
       "      <td>0.0000</td>\n",
       "      <td>0.0</td>\n",
       "      <td>6.0000</td>\n",
       "    </tr>\n",
       "    <tr>\n",
       "      <th>Fare</th>\n",
       "      <td>891.0</td>\n",
       "      <td>32.204208</td>\n",
       "      <td>49.693429</td>\n",
       "      <td>0.00</td>\n",
       "      <td>7.9104</td>\n",
       "      <td>14.4542</td>\n",
       "      <td>31.0</td>\n",
       "      <td>512.3292</td>\n",
       "    </tr>\n",
       "  </tbody>\n",
       "</table>\n",
       "</div>"
      ],
      "text/plain": [
       "             count        mean         std   min       25%       50%    75%  \\\n",
       "PassengerId  891.0  446.000000  257.353842  1.00  223.5000  446.0000  668.5   \n",
       "Survived     891.0    0.383838    0.486592  0.00    0.0000    0.0000    1.0   \n",
       "Pclass       891.0    2.308642    0.836071  1.00    2.0000    3.0000    3.0   \n",
       "Age          714.0   29.699118   14.526497  0.42   20.1250   28.0000   38.0   \n",
       "SibSp        891.0    0.523008    1.102743  0.00    0.0000    0.0000    1.0   \n",
       "Parch        891.0    0.381594    0.806057  0.00    0.0000    0.0000    0.0   \n",
       "Fare         891.0   32.204208   49.693429  0.00    7.9104   14.4542   31.0   \n",
       "\n",
       "                  max  \n",
       "PassengerId  891.0000  \n",
       "Survived       1.0000  \n",
       "Pclass         3.0000  \n",
       "Age           80.0000  \n",
       "SibSp          8.0000  \n",
       "Parch          6.0000  \n",
       "Fare         512.3292  "
      ]
     },
     "execution_count": 4,
     "metadata": {},
     "output_type": "execute_result"
    }
   ],
   "source": [
    "titanic_train.describe().T"
   ]
  },
  {
   "cell_type": "code",
   "execution_count": 5,
   "metadata": {
    "id": "7Zf0Cz58qX6y",
    "outputId": "6eaca18d-b0f5-4dac-a01a-f71591853420"
   },
   "outputs": [
    {
     "name": "stdout",
     "output_type": "stream",
     "text": [
      "<class 'pandas.core.frame.DataFrame'>\n",
      "RangeIndex: 891 entries, 0 to 890\n",
      "Data columns (total 12 columns):\n",
      " #   Column       Non-Null Count  Dtype  \n",
      "---  ------       --------------  -----  \n",
      " 0   PassengerId  891 non-null    int64  \n",
      " 1   Survived     891 non-null    int64  \n",
      " 2   Pclass       891 non-null    int64  \n",
      " 3   Name         891 non-null    object \n",
      " 4   Sex          891 non-null    object \n",
      " 5   Age          714 non-null    float64\n",
      " 6   SibSp        891 non-null    int64  \n",
      " 7   Parch        891 non-null    int64  \n",
      " 8   Ticket       891 non-null    object \n",
      " 9   Fare         891 non-null    float64\n",
      " 10  Cabin        204 non-null    object \n",
      " 11  Embarked     889 non-null    object \n",
      "dtypes: float64(2), int64(5), object(5)\n",
      "memory usage: 83.7+ KB\n"
     ]
    }
   ],
   "source": [
    "titanic_train.info()"
   ]
  },
  {
   "cell_type": "markdown",
   "metadata": {
    "id": "9-LOZ7Q7wIVe"
   },
   "source": [
    "eksik değişkenler tipler sayılar hakkında bilgi ekle"
   ]
  },
  {
   "cell_type": "markdown",
   "metadata": {
    "id": "wAdcdbofrlcL"
   },
   "source": [
    "<a id=\"1\"></a> <br>\n",
    "# **EDA**"
   ]
  },
  {
   "cell_type": "code",
   "execution_count": 6,
   "metadata": {
    "id": "5vpO7XSOq70J",
    "outputId": "ebc34589-a64f-49ba-ad9a-8247c47a0857"
   },
   "outputs": [
    {
     "name": "stdout",
     "output_type": "stream",
     "text": [
      "Categorical Variables:  Name Sex Ticket Cabin Embarked\n",
      "Numerical Variables:  PassengerId Survived Pclass Age SibSp Parch Fare\n"
     ]
    }
   ],
   "source": [
    "categorical = []\n",
    "numerical = []\n",
    "\n",
    "for column in titanic_train.columns:\n",
    "  if titanic_train[column].dtype == \"object\":\n",
    "    categorical.append(column)\n",
    "  else:\n",
    "    numerical.append(column)\n",
    "\n",
    "print(\"Categorical Variables: \", *categorical)\n",
    "print(\"Numerical Variables: \" , *numerical)"
   ]
  },
  {
   "cell_type": "markdown",
   "metadata": {
    "id": "IOKJPjdEstVw"
   },
   "source": [
    "## **Variables**"
   ]
  },
  {
   "cell_type": "markdown",
   "metadata": {
    "id": "b0mrBUyWtBMS"
   },
   "source": [
    "We have 12 variables, some of them categorical some of them numerical.<br>\n",
    "\n",
    "**Categorical**:\n",
    "  - Name\n",
    "  - Sex\n",
    "  - Ticket\n",
    "  - Cabin\n",
    "  - Embarked\n",
    "\n",
    "**Numerical**:\n",
    "  - PassengerId\n",
    "  - Survived (target)\n",
    "  - Pclass\n",
    "  - Age\n",
    "  - SibSp\n",
    "  - Parch\n",
    "  - Fare "
   ]
  },
  {
   "cell_type": "markdown",
   "metadata": {
    "id": "yYd2rTMZuNi6"
   },
   "source": [
    "## **Survived**"
   ]
  },
  {
   "cell_type": "markdown",
   "metadata": {
    "id": "20UlK9zQu2HL"
   },
   "source": [
    "- **Survived** is our target variable. As the name suggests, this variable gives us information about the passengers who survived the Titanic crash.\n",
    "\n",
    "  - Survived = 1\n",
    "  - Not Survived = 0\n"
   ]
  },
  {
   "cell_type": "code",
   "execution_count": 7,
   "metadata": {
    "id": "d1hZLZZ-sQoR",
    "outputId": "c31b7ac6-90cd-4317-b4b3-2c4f90d5ca76"
   },
   "outputs": [
    {
     "data": {
      "image/png": "[encoded data removed]",
      "text/plain": [
       "<Figure size 720x432 with 1 Axes>"
      ]
     },
     "metadata": {},
     "output_type": "display_data"
    },
    {
     "name": "stdout",
     "output_type": "stream",
     "text": [
      "Number of Survived\n",
      "0    549\n",
      "1    342\n",
      "Name: Survived, dtype: int64\n"
     ]
    }
   ],
   "source": [
    "values = titanic_train[\"Survived\"].value_counts()\n",
    "\n",
    "# plotting\n",
    "values.plot.pie(autopct='%1.1f%%',shadow=True,figsize=(10,6))\n",
    "plt.show()\n",
    "\n",
    "#printing the values\n",
    "print(\"Number of Survived\")\n",
    "print(values)"
   ]
  },
  {
   "cell_type": "markdown",
   "metadata": {
    "id": "UffEhLP4xcZj"
   },
   "source": [
    "- As we can see, there is a ratio of 60 to 40 percent."
   ]
  },
  {
   "cell_type": "markdown",
   "metadata": {
    "id": "5jDDjiUhx9OA"
   },
   "source": [
    "## **Sex**"
   ]
  },
  {
   "cell_type": "markdown",
   "metadata": {
    "id": "VqTfU-m2yNs7"
   },
   "source": [
    "- Let's take a look at the number of men and women on board. \n",
    "- Next, let's examine the relationship between gender and target variable."
   ]
  },
  {
   "cell_type": "code",
   "execution_count": 8,
   "metadata": {
    "id": "JltxL8A6wkOj",
    "outputId": "19f715cb-3ee1-45c8-ea37-6800c5d3214c"
   },
   "outputs": [
    {
     "data": {
      "image/png": "[encoded data removed]",
      "text/plain": [
       "<Figure size 432x288 with 1 Axes>"
      ]
     },
     "metadata": {},
     "output_type": "display_data"
    },
    {
     "name": "stdout",
     "output_type": "stream",
     "text": [
      "Proportion of Sex\n",
      "male      64.758698\n",
      "female    35.241302\n",
      "Name: Sex, dtype: float64\n"
     ]
    }
   ],
   "source": [
    "sns.countplot(x = \"Sex\", data = titanic_train)\n",
    "plt.title(\"Number of Sex (fig.1)\")\n",
    "plt.show()\n",
    "\n",
    "print(\"Proportion of Sex\")\n",
    "print(titanic_train.Sex.value_counts(normalize=True)*100)"
   ]
  },
  {
   "cell_type": "markdown",
   "metadata": {
    "id": "HmY4te0_1Led"
   },
   "source": [
    "#### **Sex-Survived**"
   ]
  },
  {
   "cell_type": "code",
   "execution_count": 9,
   "metadata": {
    "id": "cm2gFq_KyYet",
    "outputId": "032a511b-6d4a-4901-dde8-4270e43fe55b"
   },
   "outputs": [
    {
     "data": {
      "image/png": "[encoded data removed]",
      "text/plain": [
       "<Figure size 360x360 with 1 Axes>"
      ]
     },
     "metadata": {},
     "output_type": "display_data"
    },
    {
     "data": {
      "image/png": "[encoded data removed]",
      "text/plain": [
       "<Figure size 432x288 with 1 Axes>"
      ]
     },
     "metadata": {},
     "output_type": "display_data"
    }
   ],
   "source": [
    "sns.catplot(x = \"Sex\", y=\"Survived\",\n",
    "            data=titanic_train, kind = \"bar\", height = 5)\n",
    "plt.title(\"Survived Probability (fig.2)\")\n",
    "plt.show()\n",
    "\n",
    "sns.countplot(x = \"Sex\", hue = \"Survived\", data = titanic_train)\n",
    "plt.title(\"Number of Survived (fig.3)\")\n",
    "plt.show()"
   ]
  },
  {
   "cell_type": "markdown",
   "metadata": {
    "id": "s3RRXlsM4cRZ"
   },
   "source": [
    "- When we look at the Figure 1, we see that 64 percent of the passengers on the ship are men.\n",
    "- But only an average of 20 percent of the majority men survived according to Figure 2\n",
    "- As far as we understand from all these graphs, we see that the rate of survival of women from this accident is higher."
   ]
  },
  {
   "cell_type": "markdown",
   "metadata": {
    "id": "mt9Dh4I851RY"
   },
   "source": [
    "## **Pclass**"
   ]
  },
  {
   "cell_type": "markdown",
   "metadata": {
    "id": "-4GwUaBB6ucS"
   },
   "source": [
    "**Pclass** shows us in which part of the ship the passengers travel. You can think of part number 1 as *First Class*. This variable actually gives us information about the **economic and social** status of the passengers."
   ]
  },
  {
   "cell_type": "code",
   "execution_count": 10,
   "metadata": {
    "id": "-wP3xMn81WQz",
    "outputId": "eff936d0-9dd2-4cfc-d8e6-72207c874e44"
   },
   "outputs": [
    {
     "data": {
      "image/png": "[encoded data removed]",
      "text/plain": [
       "<Figure size 432x288 with 1 Axes>"
      ]
     },
     "metadata": {},
     "output_type": "display_data"
    },
    {
     "data": {
      "image/png": "[encoded data removed]",
      "text/plain": [
       "<Figure size 720x432 with 1 Axes>"
      ]
     },
     "metadata": {},
     "output_type": "display_data"
    }
   ],
   "source": [
    "sns.countplot(x = \"Pclass\", data = titanic_train)\n",
    "plt.title(\"Number of Pclass (Fig.1)\")\n",
    "plt.show()\n",
    "\n",
    "\n",
    "titanic_train.Pclass.value_counts(normalize = True).plot.pie(autopct='%1.1f%%',shadow=True,figsize=(10,6))\n",
    "plt.title(\"Proportions of Pclass (Fig.2)\")\n",
    "plt.show()"
   ]
  },
  {
   "cell_type": "markdown",
   "metadata": {
    "id": "gVJyjplf8Qn_"
   },
   "source": [
    "#### **Pclass-Survived**"
   ]
  },
  {
   "cell_type": "code",
   "execution_count": 11,
   "metadata": {
    "id": "SdA9ZjQ27Sh9",
    "outputId": "b4d49098-5e7d-464a-cdf1-8230468f99aa"
   },
   "outputs": [
    {
     "data": {
      "image/png": "[encoded data removed]",
      "text/plain": [
       "<Figure size 432x288 with 1 Axes>"
      ]
     },
     "metadata": {},
     "output_type": "display_data"
    },
    {
     "data": {
      "image/png": "[encoded data removed]",
      "text/plain": [
       "<Figure size 360x360 with 1 Axes>"
      ]
     },
     "metadata": {},
     "output_type": "display_data"
    }
   ],
   "source": [
    "sns.countplot(x = \"Pclass\", hue = \"Survived\", data = titanic_train)\n",
    "plt.title(\"Number of Survived for Each Class (Fig.2)\")\n",
    "plt.show()\n",
    "sns.catplot(x= \"Pclass\", y=\"Survived\", data = titanic_train,\n",
    "            kind = \"bar\", height = 5)\n",
    "plt.title(\"Survived Ratio According to Pclass (Fig.3)\")\n",
    "plt.show()"
   ]
  },
  {
   "cell_type": "markdown",
   "metadata": {
    "id": "xlCgYZ9K_rU7"
   },
   "source": [
    "- We can see that the number of First Class passengers on board is the highest from Fig1 and Fig2.\n",
    "- And when we looked at the recovery rates, we found that likewise, those traveling in First Class were higher. The lowest rate is in 3rd class passengers.\n",
    "- As far as I remember from the movie, 3rd class passengers were traveling in the lowest part of the ship. This is probably the reason for such a high death rate."
   ]
  },
  {
   "cell_type": "markdown",
   "metadata": {
    "id": "qEm9mGzqFJ7L"
   },
   "source": [
    "## **Age**\n",
    "I don't think much of an explanation is needed, as the name suggests, it gives information about the ages of the passengers on board."
   ]
  },
  {
   "cell_type": "code",
   "execution_count": 12,
   "metadata": {
    "id": "cIuXUfsv8joD",
    "outputId": "56dab948-ca43-46fc-96c5-6f74364cda6c"
   },
   "outputs": [
    {
     "data": {
      "image/png": "[encoded data removed]",
      "text/plain": [
       "<Figure size 432x288 with 1 Axes>"
      ]
     },
     "metadata": {},
     "output_type": "display_data"
    }
   ],
   "source": [
    "sns.distplot(titanic_train[\"Age\"], bins = 20, kde = True)\n",
    "plt.title(\"Age Distribution (Fig.1)\")\n",
    "plt.show()"
   ]
  },
  {
   "cell_type": "markdown",
   "metadata": {
    "id": "UvEF2FY2HfDa"
   },
   "source": [
    "#### **Age-Survived**\n"
   ]
  },
  {
   "cell_type": "code",
   "execution_count": 13,
   "metadata": {
    "id": "coOgmDfgFoy2",
    "outputId": "03537a01-444a-45eb-e1a3-6eb4d735aa5d"
   },
   "outputs": [
    {
     "data": {
      "image/png": "[encoded data removed]",
      "text/plain": [
       "<Figure size 432x288 with 1 Axes>"
      ]
     },
     "metadata": {},
     "output_type": "display_data"
    },
    {
     "data": {
      "image/png": "[encoded data removed]",
      "text/plain": [
       "<Figure size 432x288 with 1 Axes>"
      ]
     },
     "metadata": {},
     "output_type": "display_data"
    },
    {
     "name": "stdout",
     "output_type": "stream",
     "text": [
      "-- Mean of Age the Survived --\n",
      "                Age\n",
      "Survived           \n",
      "0         30.626179\n",
      "1         28.343690\n"
     ]
    }
   ],
   "source": [
    "# Box Plot\n",
    "sns.boxplot(x =\"Survived\",y=\"Age\", data = titanic_train)\n",
    "plt.title(\"Dist. of Age According to Survived (Fig.2)\")\n",
    "plt.show()\n",
    "\n",
    "# KDE plot\n",
    "ax = sns.kdeplot(titanic_train.loc[(titanic_train.Survived == 0), \"Age\"],\n",
    "                 color = \"r\", shade = True,label = \"Not Survived\")\n",
    "\n",
    "ax = sns.kdeplot(titanic_train.loc[(titanic_train.Survived == 1), \"Age\"],\n",
    "                 color = \"b\", shade = True, label = \"Survived\")\n",
    "ax.legend(loc=\"upper right\")\n",
    "ax.set_xlabel(\"Number of Ages\")\n",
    "ax.set_ylabel(\"Frequency\")\n",
    "ax.set_title(\"Age - Survived (Fig.3)\")\n",
    "plt.show()\n",
    "\n",
    "print(\"-- Mean of Age the Survived --\")\n",
    "print(titanic_train.groupby(\"Survived\")[[\"Age\"]].mean())"
   ]
  },
  {
   "cell_type": "markdown",
   "metadata": {
    "id": "JBFITkSQJ-G9"
   },
   "source": [
    "- As we can see from the graphics, we can say that there is a nearly young population on the Titanic.\n",
    "- We can say that the average age of death(30.6) is higher than the survivors(28.3)."
   ]
  },
  {
   "cell_type": "markdown",
   "metadata": {
    "id": "3GL6d3HJpEsY"
   },
   "source": [
    "## **Cabin**"
   ]
  },
  {
   "cell_type": "code",
   "execution_count": 14,
   "metadata": {
    "id": "GTDfg2ReF3F8",
    "outputId": "4d8aa69c-7548-4203-c3b7-c3adbdcd5835"
   },
   "outputs": [
    {
     "name": "stdout",
     "output_type": "stream",
     "text": [
      "[nan 'C85' 'C123' 'E46' 'G6' 'C103' 'D56' 'A6' 'C23 C25 C27' 'B78' 'D33'\n",
      " 'B30' 'C52' 'B28' 'C83' 'F33' 'F G73' 'E31' 'A5' 'D10 D12' 'D26' 'C110'\n",
      " 'B58 B60' 'E101' 'F E69' 'D47' 'B86' 'F2' 'C2' 'E33' 'B19' 'A7' 'C49'\n",
      " 'F4' 'A32' 'B4' 'B80' 'A31' 'D36' 'D15' 'C93' 'C78' 'D35' 'C87' 'B77'\n",
      " 'E67' 'B94' 'C125' 'C99' 'C118' 'D7' 'A19' 'B49' 'D' 'C22 C26' 'C106'\n",
      " 'C65' 'E36' 'C54' 'B57 B59 B63 B66' 'C7' 'E34' 'C32' 'B18' 'C124' 'C91'\n",
      " 'E40' 'T' 'C128' 'D37' 'B35' 'E50' 'C82' 'B96 B98' 'E10' 'E44' 'A34'\n",
      " 'C104' 'C111' 'C92' 'E38' 'D21' 'E12' 'E63' 'A14' 'B37' 'C30' 'D20' 'B79'\n",
      " 'E25' 'D46' 'B73' 'C95' 'B38' 'B39' 'B22' 'C86' 'C70' 'A16' 'C101' 'C68'\n",
      " 'A10' 'E68' 'B41' 'A20' 'D19' 'D50' 'D9' 'A23' 'B50' 'A26' 'D48' 'E58'\n",
      " 'C126' 'B71' 'B51 B53 B55' 'D49' 'B5' 'B20' 'F G63' 'C62 C64' 'E24' 'C90'\n",
      " 'C45' 'E8' 'B101' 'D45' 'C46' 'D30' 'E121' 'D11' 'E77' 'F38' 'B3' 'D6'\n",
      " 'B82 B84' 'D17' 'A36' 'B102' 'B69' 'E49' 'C47' 'D28' 'E17' 'A24' 'C50'\n",
      " 'B42' 'C148']\n"
     ]
    }
   ],
   "source": [
    "print(titanic_train.Cabin.unique())"
   ]
  },
  {
   "cell_type": "code",
   "execution_count": 15,
   "metadata": {
    "id": "BjzDKhy0rGoc"
   },
   "outputs": [],
   "source": [
    "def extract_first(x):\n",
    "  if str(x)[0:3] != \"nan\":\n",
    "    return str(x)[0]\n",
    "\n",
    "# extracting first letter of cabin values except nan values\n",
    "titanic_train[\"Cabin_first\"] = titanic_train.Cabin.apply(lambda x: extract_first(x))"
   ]
  },
  {
   "cell_type": "code",
   "execution_count": 16,
   "metadata": {
    "id": "MWRFgtGKsElf",
    "outputId": "eacd64b0-d8a8-4eef-a2f0-498f2078bb15"
   },
   "outputs": [
    {
     "data": {
      "image/png": "[encoded data removed]",
      "text/plain": [
       "<Figure size 432x288 with 1 Axes>"
      ]
     },
     "metadata": {},
     "output_type": "display_data"
    }
   ],
   "source": [
    "sns.countplot(x = \"Cabin_first\", data=titanic_train,\n",
    "              order = titanic_train.Cabin_first.value_counts().index)\n",
    "plt.title(\"Number of People in Cabins (Fig.1)\")\n",
    "plt.show()\n"
   ]
  },
  {
   "cell_type": "markdown",
   "metadata": {
    "id": "C4aAWusz1NFN"
   },
   "source": [
    "### **Cabin-Survived**"
   ]
  },
  {
   "cell_type": "code",
   "execution_count": 17,
   "metadata": {
    "id": "p64LUttxsguJ",
    "outputId": "9608da41-bab9-4f85-a7ef-2e1fa3c8ed5f"
   },
   "outputs": [
    {
     "data": {
      "image/png": "[encoded data removed]",
      "text/plain": [
       "<Figure size 360x360 with 1 Axes>"
      ]
     },
     "metadata": {},
     "output_type": "display_data"
    },
    {
     "name": "stdout",
     "output_type": "stream",
     "text": [
      "Mean of Age that each cabin part\n",
      "                   Age\n",
      "Cabin_first           \n",
      "T            45.000000\n",
      "A            44.833333\n",
      "D            39.032258\n",
      "E            38.116667\n",
      "C            36.086667\n",
      "B            34.955556\n",
      "F            19.954545\n",
      "G            14.750000\n",
      "Mean of Survival Rate that each cabin part\n",
      "             Survived\n",
      "Cabin_first          \n",
      "D            0.757576\n",
      "E            0.750000\n",
      "B            0.744681\n",
      "F            0.615385\n",
      "C            0.593220\n",
      "G            0.500000\n",
      "A            0.466667\n",
      "T            0.000000\n"
     ]
    }
   ],
   "source": [
    "sns.catplot(x=\"Cabin_first\", y=\"Survived\",\n",
    "            kind = \"bar\", height = 5, data = titanic_train)\n",
    "plt.title(\"Proportions of Survived (Fig.2)\")\n",
    "plt.show()\n",
    "\n",
    "\n",
    "print(\"Mean of Age that each cabin part\")\n",
    "print(titanic_train.groupby(titanic_train[\"Cabin_first\"])[[\"Age\"]].mean().sort_values(by =\"Age\",ascending=False))\n",
    "\n",
    "\n",
    "print(\"Mean of Survival Rate that each cabin part\")\n",
    "print(titanic_train.groupby(titanic_train[\"Cabin_first\"])[[\"Survived\"]].mean().sort_values(by = \"Survived\",ascending=False))"
   ]
  },
  {
   "cell_type": "markdown",
   "metadata": {
    "id": "-ofevHiqzLSX"
   },
   "source": [
    "- Most passengers are traveling in **Cabin C**\n",
    "- Mean of Age according to each cabin like following:\n",
    "  - T : 45.0\n",
    "  - A : 44.1\n",
    "  - D : 39.7\n",
    "  - C : 38.3\n",
    "  - E : 38.1\n",
    "  - B : 36.4\n",
    "  - F : 21.3\n",
    "  - G : 12.0\n",
    "\n",
    "- I will prepare Cabin_first feature as follows in Feature Engineering:\n",
    "  - **High Survival Rate**: D,E,B,F,C\n",
    "  - **Normal Survival Rate**: G, A\n",
    "  - **Lower**: T\n"
   ]
  },
  {
   "cell_type": "code",
   "execution_count": 18,
   "metadata": {
    "id": "l81nadX2knmt"
   },
   "outputs": [],
   "source": [
    "# but I will drop now because I will handle with that in F.Engineering\n",
    "titanic_train = titanic_train.drop(\"Cabin_first\", axis = 1)"
   ]
  },
  {
   "cell_type": "markdown",
   "metadata": {
    "id": "vsR0_5Rv1bNF"
   },
   "source": [
    "## **Fare**\n",
    "It tells us about the prices of passengers' tickets"
   ]
  },
  {
   "cell_type": "code",
   "execution_count": 19,
   "metadata": {
    "id": "Pd05oofJv3jb",
    "outputId": "52be0657-1dc0-46f8-b3b6-608c5c993fc2"
   },
   "outputs": [
    {
     "data": {
      "image/png": "[encoded data removed]",
      "text/plain": [
       "<Figure size 432x288 with 1 Axes>"
      ]
     },
     "metadata": {},
     "output_type": "display_data"
    }
   ],
   "source": [
    "sns.distplot(titanic_train[\"Fare\"], kde = True)\n",
    "plt.title(\"Distribution of Fare\")\n",
    "plt.show()"
   ]
  },
  {
   "cell_type": "markdown",
   "metadata": {
    "id": "0o1ZAPSQ5LmY"
   },
   "source": [
    "### **Fare-Survived**"
   ]
  },
  {
   "cell_type": "code",
   "execution_count": 20,
   "metadata": {
    "id": "VSBVjZ5612bN",
    "outputId": "7188dcbd-81fb-4ad2-cc8a-2265195180aa"
   },
   "outputs": [
    {
     "data": {
      "image/png": "[encoded data removed]",
      "text/plain": [
       "<Figure size 432x288 with 1 Axes>"
      ]
     },
     "metadata": {},
     "output_type": "display_data"
    },
    {
     "name": "stdout",
     "output_type": "stream",
     "text": [
      "(-0.512, 128.082]     853\n",
      "(128.082, 256.165]     29\n",
      "(256.165, 384.247]      6\n",
      "(384.247, 512.329]      3\n",
      "Name: Fare, dtype: int64\n",
      "--------------------\n",
      "Fare Mean According to Each Cabin\n"
     ]
    },
    {
     "data": {
      "text/plain": [
       "Cabin\n",
       "B101               512.3292\n",
       "C23 C25 C27        263.0000\n",
       "B57 B59 B63 B66    262.3750\n",
       "B51 B53 B55        258.6646\n",
       "B58 B60            247.5208\n",
       "                     ...   \n",
       "F G73                7.6500\n",
       "F G63                7.6500\n",
       "A36                  0.0000\n",
       "B94                  0.0000\n",
       "B102                 0.0000\n",
       "Name: Fare, Length: 147, dtype: float64"
      ]
     },
     "execution_count": 20,
     "metadata": {},
     "output_type": "execute_result"
    }
   ],
   "source": [
    "sns.boxplot(y = \"Fare\", x = \"Survived\", data = titanic_train)\n",
    "plt.show()\n",
    "\n",
    "# cut the fare into 4 parts\n",
    "print(pd.cut(titanic_train['Fare'], 4).value_counts())\n",
    "print(\"-\"*20)\n",
    "print(\"Fare Mean According to Each Cabin\")\n",
    "titanic_train[\"Fare\"].groupby(titanic_train[\"Cabin\"]).mean().sort_values(ascending = False)"
   ]
  },
  {
   "cell_type": "code",
   "execution_count": 21,
   "metadata": {
    "id": "zF2Q7HHa3x59",
    "outputId": "17dd7b1b-f441-450c-e390-e0c8d3f3514f"
   },
   "outputs": [
    {
     "data": {
      "text/plain": [
       "Fare\n",
       "(-0.512, 128.082]     0.368113\n",
       "(128.082, 256.165]    0.724138\n",
       "(256.165, 384.247]    0.666667\n",
       "(384.247, 512.329]    1.000000\n",
       "Name: Survived, dtype: float64"
      ]
     },
     "execution_count": 21,
     "metadata": {},
     "output_type": "execute_result"
    }
   ],
   "source": [
    "titanic_train[\"Survived\"].groupby(pd.cut(titanic_train['Fare'], 4)).mean()"
   ]
  },
  {
   "cell_type": "markdown",
   "metadata": {
    "id": "jAseRTUI6Od7"
   },
   "source": [
    "- I will group Fare values like as follows in F.Engineering :\n",
    "  - **Very High Fare**: 384.247 - 512.329\n",
    "  - **High Fare**: 256.165 - 384.247\n",
    "  - **Normal Fare**: 128.082 - 256.165\n",
    "  - **Low Fare**: -0.512, 128.082"
   ]
  },
  {
   "cell_type": "markdown",
   "metadata": {
    "id": "JIjHg6WP7CM8"
   },
   "source": [
    "## **Ticket**\n",
    "Passengers' ticket codes"
   ]
  },
  {
   "cell_type": "code",
   "execution_count": 22,
   "metadata": {
    "id": "tPaBsI4L41fl",
    "outputId": "ebb55cf8-c6b5-46aa-b759-8ed9e25170d0"
   },
   "outputs": [
    {
     "name": "stdout",
     "output_type": "stream",
     "text": [
      "['A/5 21171' 'PC 17599' 'STON/O2. 3101282' '113803' '373450' '330877'\n",
      " '17463' '349909' '347742' '237736' 'PP 9549' '113783' 'A/5. 2151'\n",
      " '347082' '350406' '248706' '382652' '244373' '345763' '2649' '239865'\n",
      " '248698' '330923' '113788' '347077' '2631' '19950' '330959' '349216'\n",
      " 'PC 17601' 'PC 17569' '335677' 'C.A. 24579' 'PC 17604' '113789' '2677'\n",
      " 'A./5. 2152' '345764' '2651' '7546' '11668' '349253' 'SC/Paris 2123'\n",
      " '330958' 'S.C./A.4. 23567' '370371' '14311' '2662' '349237' '3101295'\n",
      " 'A/4. 39886' 'PC 17572' '2926' '113509' '19947' 'C.A. 31026' '2697'\n",
      " 'C.A. 34651' 'CA 2144' '2669' '113572' '36973' '347088' 'PC 17605' '2661'\n",
      " 'C.A. 29395' 'S.P. 3464' '3101281' '315151' 'C.A. 33111' 'S.O.C. 14879'\n",
      " '2680' '1601' '348123' '349208' '374746' '248738' '364516' '345767'\n",
      " '345779' '330932' '113059' 'SO/C 14885' '3101278' 'W./C. 6608'\n",
      " 'SOTON/OQ 392086' '343275' '343276' '347466' 'W.E.P. 5734' 'C.A. 2315'\n",
      " '364500' '374910' 'PC 17754' 'PC 17759' '231919' '244367' '349245'\n",
      " '349215' '35281' '7540' '3101276' '349207' '343120' '312991' '349249'\n",
      " '371110' '110465' '2665' '324669' '4136' '2627' 'STON/O 2. 3101294'\n",
      " '370369' 'PC 17558' 'A4. 54510' '27267' '370372' 'C 17369' '2668'\n",
      " '347061' '349241' 'SOTON/O.Q. 3101307' 'A/5. 3337' '228414' 'C.A. 29178'\n",
      " 'SC/PARIS 2133' '11752' '7534' 'PC 17593' '2678' '347081'\n",
      " 'STON/O2. 3101279' '365222' '231945' 'C.A. 33112' '350043' '230080'\n",
      " '244310' 'S.O.P. 1166' '113776' 'A.5. 11206' 'A/5. 851' 'Fa 265302'\n",
      " 'PC 17597' '35851' 'SOTON/OQ 392090' '315037' 'CA. 2343' '371362'\n",
      " 'C.A. 33595' '347068' '315093' '363291' '113505' 'PC 17318' '111240'\n",
      " 'STON/O 2. 3101280' '17764' '350404' '4133' 'PC 17595' '250653' 'LINE'\n",
      " 'SC/PARIS 2131' '230136' '315153' '113767' '370365' '111428' '364849'\n",
      " '349247' '234604' '28424' '350046' 'PC 17610' '368703' '4579' '370370'\n",
      " '248747' '345770' '3101264' '2628' 'A/5 3540' '347054' '2699' '367231'\n",
      " '112277' 'SOTON/O.Q. 3101311' 'F.C.C. 13528' 'A/5 21174' '250646'\n",
      " '367229' '35273' 'STON/O2. 3101283' '243847' '11813' 'W/C 14208'\n",
      " 'SOTON/OQ 392089' '220367' '21440' '349234' '19943' 'PP 4348' 'SW/PP 751'\n",
      " 'A/5 21173' '236171' '347067' '237442' 'C.A. 29566' 'W./C. 6609' '26707'\n",
      " 'C.A. 31921' '28665' 'SCO/W 1585' '367230' 'W./C. 14263'\n",
      " 'STON/O 2. 3101275' '2694' '19928' '347071' '250649' '11751' '244252'\n",
      " '362316' '113514' 'A/5. 3336' '370129' '2650' 'PC 17585' '110152'\n",
      " 'PC 17755' '230433' '384461' '110413' '112059' '382649' 'C.A. 17248'\n",
      " '347083' 'PC 17582' 'PC 17760' '113798' '250644' 'PC 17596' '370375'\n",
      " '13502' '347073' '239853' 'C.A. 2673' '336439' '347464' '345778'\n",
      " 'A/5. 10482' '113056' '349239' '345774' '349206' '237798' '370373'\n",
      " '19877' '11967' 'SC/Paris 2163' '349236' '349233' 'PC 17612' '2693'\n",
      " '113781' '19988' '9234' '367226' '226593' 'A/5 2466' '17421' 'PC 17758'\n",
      " 'P/PP 3381' 'PC 17485' '11767' 'PC 17608' '250651' '349243'\n",
      " 'F.C.C. 13529' '347470' '29011' '36928' '16966' 'A/5 21172' '349219'\n",
      " '234818' '345364' '28551' '111361' '113043' 'PC 17611' '349225' '7598'\n",
      " '113784' '248740' '244361' '229236' '248733' '31418' '386525'\n",
      " 'C.A. 37671' '315088' '7267' '113510' '2695' '2647' '345783' '237671'\n",
      " '330931' '330980' 'SC/PARIS 2167' '2691' 'SOTON/O.Q. 3101310' 'C 7076'\n",
      " '110813' '2626' '14313' 'PC 17477' '11765' '3101267' '323951' 'C 7077'\n",
      " '113503' '2648' '347069' 'PC 17757' '2653' 'STON/O 2. 3101293' '349227'\n",
      " '27849' '367655' 'SC 1748' '113760' '350034' '3101277' '350052' '350407'\n",
      " '28403' '244278' '240929' 'STON/O 2. 3101289' '341826' '4137' '315096'\n",
      " '28664' '347064' '29106' '312992' '349222' '394140' 'STON/O 2. 3101269'\n",
      " '343095' '28220' '250652' '28228' '345773' '349254' 'A/5. 13032' '315082'\n",
      " '347080' 'A/4. 34244' '2003' '250655' '364851' 'SOTON/O.Q. 392078'\n",
      " '110564' '376564' 'SC/AH 3085' 'STON/O 2. 3101274' '13507' 'C.A. 18723'\n",
      " '345769' '347076' '230434' '65306' '33638' '113794' '2666' '113786'\n",
      " '65303' '113051' '17453' 'A/5 2817' '349240' '13509' '17464'\n",
      " 'F.C.C. 13531' '371060' '19952' '364506' '111320' '234360' 'A/S 2816'\n",
      " 'SOTON/O.Q. 3101306' '113792' '36209' '323592' '315089' 'SC/AH Basle 541'\n",
      " '7553' '31027' '3460' '350060' '3101298' '239854' 'A/5 3594' '4134'\n",
      " '11771' 'A.5. 18509' '65304' 'SOTON/OQ 3101317' '113787' 'PC 17609'\n",
      " 'A/4 45380' '36947' 'C.A. 6212' '350035' '315086' '364846' '330909'\n",
      " '4135' '26360' '111427' 'C 4001' '382651' 'SOTON/OQ 3101316' 'PC 17473'\n",
      " 'PC 17603' '349209' '36967' 'C.A. 34260' '226875' '349242' '12749'\n",
      " '349252' '2624' '2700' '367232' 'W./C. 14258' 'PC 17483' '3101296'\n",
      " '29104' '2641' '2690' '315084' '113050' 'PC 17761' '364498' '13568'\n",
      " 'WE/P 5735' '2908' '693' 'SC/PARIS 2146' '244358' '330979' '2620'\n",
      " '347085' '113807' '11755' '345572' '372622' '349251' '218629'\n",
      " 'SOTON/OQ 392082' 'SOTON/O.Q. 392087' 'A/4 48871' '349205' '2686'\n",
      " '350417' 'S.W./PP 752' '11769' 'PC 17474' '14312' 'A/4. 20589' '358585'\n",
      " '243880' '2689' 'STON/O 2. 3101286' '237789' '13049' '3411' '237565'\n",
      " '13567' '14973' 'A./5. 3235' 'STON/O 2. 3101273' 'A/5 3902' '364848'\n",
      " 'SC/AH 29037' '248727' '2664' '349214' '113796' '364511' '111426'\n",
      " '349910' '349246' '113804' 'SOTON/O.Q. 3101305' '370377' '364512'\n",
      " '220845' '31028' '2659' '11753' '350029' '54636' '36963' '219533'\n",
      " '349224' '334912' '27042' '347743' '13214' '112052' '237668'\n",
      " 'STON/O 2. 3101292' '350050' '349231' '13213' 'S.O./P.P. 751' 'CA. 2314'\n",
      " '349221' '8475' '330919' '365226' '349223' '29751' '2623' '5727' '349210'\n",
      " 'STON/O 2. 3101285' '234686' '312993' 'A/5 3536' '19996' '29750'\n",
      " 'F.C. 12750' 'C.A. 24580' '244270' '239856' '349912' '342826' '4138'\n",
      " '330935' '6563' '349228' '350036' '24160' '17474' '349256' '2672'\n",
      " '113800' '248731' '363592' '35852' '348121' 'PC 17475' '36864' '350025'\n",
      " '223596' 'PC 17476' 'PC 17482' '113028' '7545' '250647' '348124' '34218'\n",
      " '36568' '347062' '350048' '12233' '250643' '113806' '315094' '36866'\n",
      " '236853' 'STON/O2. 3101271' '239855' '28425' '233639' '349201' '349218'\n",
      " '16988' '376566' 'STON/O 2. 3101288' '250648' '113773' '335097' '29103'\n",
      " '392096' '345780' '349204' '350042' '29108' '363294' 'SOTON/O2 3101272'\n",
      " '2663' '347074' '112379' '364850' '8471' '345781' '350047' 'S.O./P.P. 3'\n",
      " '2674' '29105' '347078' '383121' '36865' '2687' '113501' 'W./C. 6607'\n",
      " 'SOTON/O.Q. 3101312' '374887' '3101265' '12460' 'PC 17600' '349203'\n",
      " '28213' '17465' '349244' '2685' '2625' '347089' '347063' '112050'\n",
      " '347087' '248723' '3474' '28206' '364499' '112058' 'STON/O2. 3101290'\n",
      " 'S.C./PARIS 2079' 'C 7075' '315098' '19972' '368323' '367228' '2671'\n",
      " '347468' '2223' 'PC 17756' '315097' '392092' '11774' 'SOTON/O2 3101287'\n",
      " '2683' '315090' 'C.A. 5547' '349213' '347060' 'PC 17592' '392091'\n",
      " '113055' '2629' '350026' '28134' '17466' '233866' '236852'\n",
      " 'SC/PARIS 2149' 'PC 17590' '345777' '349248' '695' '345765' '2667'\n",
      " '349212' '349217' '349257' '7552' 'C.A./SOTON 34068' 'SOTON/OQ 392076'\n",
      " '211536' '112053' '111369' '370376']\n"
     ]
    }
   ],
   "source": [
    "print(titanic_train[\"Ticket\"].unique())"
   ]
  },
  {
   "cell_type": "code",
   "execution_count": 23,
   "metadata": {
    "id": "cSenECrd7dsp",
    "outputId": "f3b76294-5883-404f-8709-3f5d6ffd0bc0"
   },
   "outputs": [
    {
     "data": {
      "image/png": "[encoded data removed]",
      "text/plain": [
       "<Figure size 360x360 with 1 Axes>"
      ]
     },
     "metadata": {},
     "output_type": "display_data"
    },
    {
     "name": "stdout",
     "output_type": "stream",
     "text": [
      "Surviving rates of first letters\n",
      "Ticket_first\n",
      "9    1.000000\n",
      "P    0.646154\n",
      "1    0.630137\n",
      "F    0.571429\n",
      "2    0.464481\n",
      "C    0.340426\n",
      "S    0.323077\n",
      "L    0.250000\n",
      "3    0.239203\n",
      "4    0.200000\n",
      "6    0.166667\n",
      "W    0.153846\n",
      "7    0.111111\n",
      "A    0.068966\n",
      "8    0.000000\n",
      "5    0.000000\n",
      "Name: Survived, dtype: float64\n"
     ]
    }
   ],
   "source": [
    "# Get first letters of the tickets\n",
    "titanic_train[\"Ticket_first\"] = titanic_train[\"Ticket\"].apply(lambda x: str(x)[0])\n",
    "\n",
    "\n",
    "sns.catplot(x=\"Ticket_first\", y=\"Survived\", \n",
    "            height=5, kind=\"bar\", data = titanic_train)\n",
    "plt.title(\"Survival Rate\")\n",
    "plt.show()\n",
    "\n",
    "print(\"Surviving rates of first letters\")\n",
    "print(titanic_train.groupby(\"Ticket_first\")[\"Survived\"].mean().sort_values(ascending=False))"
   ]
  },
  {
   "cell_type": "code",
   "execution_count": 24,
   "metadata": {
    "id": "rClukbxwlL6N"
   },
   "outputs": [],
   "source": [
    "# but I will drop now because I will handle with that in F.Engineering\n",
    "titanic_train = titanic_train.drop(\"Ticket_first\", axis = 1)"
   ]
  },
  {
   "cell_type": "markdown",
   "metadata": {
    "id": "cFV2gUmnL8Gd"
   },
   "source": [
    "## **Embarked**\n",
    "The Embarked feature shows us at which port the passengers board the Titanic.\n",
    "  - S: Southampton\n",
    "  - C: Cherbourg\n",
    "  - Q: Queenstown\n"
   ]
  },
  {
   "cell_type": "code",
   "execution_count": 25,
   "metadata": {
    "id": "c8JadK8OMBgF",
    "outputId": "651b06d7-a9dc-4272-d1df-5811154bf73e"
   },
   "outputs": [
    {
     "data": {
      "image/png": "[encoded data removed]",
      "text/plain": [
       "<Figure size 720x432 with 1 Axes>"
      ]
     },
     "metadata": {},
     "output_type": "display_data"
    },
    {
     "name": "stdout",
     "output_type": "stream",
     "text": [
      "-- Mean of Age According to Each Embarked Points --\n",
      "                Age\n",
      "Embarked           \n",
      "C         30.814769\n",
      "Q         28.089286\n",
      "S         29.445397\n"
     ]
    }
   ],
   "source": [
    "titanic_train.Embarked.value_counts().plot.pie(autopct='%1.1f%%',shadow=True,figsize=(10,6))\n",
    "plt.title(\"Embarked Ports (Fig.1)\")\n",
    "plt.show()\n",
    "\n",
    "print(\"-- Mean of Age According to Each Embarked Points --\")\n",
    "print(titanic_train.groupby(\"Embarked\")[[\"Age\"]].mean())"
   ]
  },
  {
   "cell_type": "markdown",
   "metadata": {
    "id": "FZeEj4FkOGUD"
   },
   "source": [
    "### **Embarked-Survived**"
   ]
  },
  {
   "cell_type": "code",
   "execution_count": 26,
   "metadata": {
    "id": "-bx9UJyXOJdl",
    "outputId": "46a2f7df-2cb7-4f5f-8a34-83128aa678c6"
   },
   "outputs": [
    {
     "data": {
      "image/png": "[encoded data removed]",
      "text/plain": [
       "<Figure size 360x360 with 1 Axes>"
      ]
     },
     "metadata": {},
     "output_type": "display_data"
    }
   ],
   "source": [
    "sns.catplot(x = \"Embarked\",y=\"Survived\",\n",
    "            data=titanic_train, kind=\"bar\", height = 5)\n",
    "plt.title(\"Survived Rate (Fig.2)\")\n",
    "plt.show()"
   ]
  },
  {
   "cell_type": "markdown",
   "metadata": {
    "id": "p_kZNYvXQP3t"
   },
   "source": [
    "- We see that the most passengers board the Titanic at **Southampton** from Figure 1.\n",
    "- But we see that the people most likely to survived are the passengers on **Cherbourg** from Figure 2"
   ]
  },
  {
   "cell_type": "markdown",
   "metadata": {
    "id": "4ELikWV0Q5or"
   },
   "source": [
    "## **SibSp**\n",
    "Number of Sibling or Spouse in the Titanic"
   ]
  },
  {
   "cell_type": "code",
   "execution_count": 27,
   "metadata": {
    "id": "EIct9pFDOLhj",
    "outputId": "a3b6062d-afca-4df1-fc0f-f4f0bd933d83"
   },
   "outputs": [
    {
     "data": {
      "image/png": "[encoded data removed]",
      "text/plain": [
       "<Figure size 432x288 with 1 Axes>"
      ]
     },
     "metadata": {},
     "output_type": "display_data"
    }
   ],
   "source": [
    "sns.countplot(x = \"SibSp\", data = titanic_train)\n",
    "plt.title(\"Number of Sibling or Spouse\")\n",
    "plt.show()\n"
   ]
  },
  {
   "cell_type": "markdown",
   "metadata": {
    "id": "yZ_8gQeLSwVy"
   },
   "source": [
    "### **SibSp-Survived**"
   ]
  },
  {
   "cell_type": "code",
   "execution_count": 28,
   "metadata": {
    "id": "w-y7wOBLOLLn",
    "outputId": "bbc195a7-2e4c-44f1-e864-68b7eb087baa"
   },
   "outputs": [
    {
     "data": {
      "image/png": "[encoded data removed]",
      "text/plain": [
       "<Figure size 360x360 with 1 Axes>"
      ]
     },
     "metadata": {},
     "output_type": "display_data"
    }
   ],
   "source": [
    "g = sns.catplot(x = \"SibSp\", y = \"Survived\",\n",
    "                data = titanic_train, kind = \"bar\", height = 5)\n",
    "g.set_ylabels(\"Survived Probability\")\n",
    "plt.show()"
   ]
  },
  {
   "cell_type": "markdown",
   "metadata": {
    "id": "LFuPD0HTTEmQ"
   },
   "source": [
    "- Having a lot of **SibSp** have less chance to survive.\n",
    "- If **SibSp** value is equal 0 or 1 or 2, passenger has more chance to survive\n",
    "- We can consider a new feature describing these categories."
   ]
  },
  {
   "cell_type": "markdown",
   "metadata": {
    "id": "N5A90wQ3TWxA"
   },
   "source": [
    "## **Parch**\n",
    "Number of Parent or Child in the Titanic"
   ]
  },
  {
   "cell_type": "code",
   "execution_count": 29,
   "metadata": {
    "id": "sJW6NzWYOKUO",
    "outputId": "2152d2f5-0d59-4739-f472-36dde952f742"
   },
   "outputs": [
    {
     "data": {
      "image/png": "[encoded data removed]",
      "text/plain": [
       "<Figure size 432x288 with 1 Axes>"
      ]
     },
     "metadata": {},
     "output_type": "display_data"
    }
   ],
   "source": [
    "sns.countplot(x = \"Parch\", data = titanic_train)\n",
    "plt.title(\"Number of Parch\")\n",
    "plt.show()"
   ]
  },
  {
   "cell_type": "markdown",
   "metadata": {
    "id": "1MS6ezRGTt4f"
   },
   "source": [
    "### **Parch-Survived**"
   ]
  },
  {
   "cell_type": "code",
   "execution_count": 30,
   "metadata": {
    "id": "OK7VUDshOJ-G",
    "outputId": "06712c82-54d3-40ae-87e7-8d4fe03505f8"
   },
   "outputs": [
    {
     "data": {
      "image/png": "[encoded data removed]",
      "text/plain": [
       "<Figure size 360x360 with 1 Axes>"
      ]
     },
     "metadata": {},
     "output_type": "display_data"
    }
   ],
   "source": [
    "g = sns.catplot(x = \"Parch\", y = \"Survived\", \n",
    "                   kind = \"bar\", data = titanic_train, height = 5)\n",
    "g.set_ylabels(\"Survived Probability\")\n",
    "plt.show()"
   ]
  },
  {
   "cell_type": "markdown",
   "metadata": {
    "id": "n_l_Zh53T6vo"
   },
   "source": [
    "- **SibSp** and **Parch** can be used for new feature extraction with th = 3\n",
    "- Small familes have more chance to survive.\n",
    "- There is a std in survival of passenger with Parch = 3"
   ]
  },
  {
   "cell_type": "markdown",
   "metadata": {
    "id": "x1AoUrNPUKr0"
   },
   "source": [
    "## **Name**\n",
    "Passengers' names"
   ]
  },
  {
   "cell_type": "code",
   "execution_count": 31,
   "metadata": {
    "id": "EKqzeNoS8IHE",
    "outputId": "1530a6df-844c-49bf-c488-ee78880f9035"
   },
   "outputs": [
    {
     "data": {
      "text/plain": [
       "Andersson, Miss. Erna Alexandra                         1\n",
       "Zimmerman, Mr. Leo                                      1\n",
       "Bazzani, Miss. Albina                                   1\n",
       "Ayoub, Miss. Banoura                                    1\n",
       "Thayer, Mrs. John Borland (Marian Longstreth Morris)    1\n",
       "                                                       ..\n",
       "Madill, Miss. Georgette Alexandra                       1\n",
       "Bjornstrom-Steffansson, Mr. Mauritz Hakan               1\n",
       "Robbins, Mr. Victor                                     1\n",
       "Lang, Mr. Fang                                          1\n",
       "Johannesen-Bratthammer, Mr. Bernt                       1\n",
       "Name: Name, Length: 891, dtype: int64"
      ]
     },
     "execution_count": 31,
     "metadata": {},
     "output_type": "execute_result"
    }
   ],
   "source": [
    "titanic_train.Name.value_counts()"
   ]
  },
  {
   "cell_type": "code",
   "execution_count": 32,
   "metadata": {
    "id": "n0bDmXmxUidL",
    "outputId": "cefba072-0926-4ef3-b8d8-826f6f694d23"
   },
   "outputs": [
    {
     "name": "stdout",
     "output_type": "stream",
     "text": [
      "Mr              517\n",
      "Miss            182\n",
      "Mrs             125\n",
      "Master           40\n",
      "Dr                7\n",
      "Rev               6\n",
      "Col               2\n",
      "Major             2\n",
      "Mlle              2\n",
      "Mme               1\n",
      "Ms                1\n",
      "Jonkheer          1\n",
      "Sir               1\n",
      "Lady              1\n",
      "Capt              1\n",
      "the Countess      1\n",
      "Don               1\n",
      "Name: Title, dtype: int64\n"
     ]
    }
   ],
   "source": [
    "# Get titles\n",
    "titanic_train[\"Title\"] = titanic_train['Name'].str.split(', ', expand=True)[1].str.split('.', expand=True)[0]\n",
    "\n",
    "# Print title counts\n",
    "print(titanic_train[\"Title\"].value_counts())"
   ]
  },
  {
   "cell_type": "markdown",
   "metadata": {
    "id": "h0b5G4R7V7Tv"
   },
   "source": [
    "### **Name-Survived**"
   ]
  },
  {
   "cell_type": "code",
   "execution_count": 33,
   "metadata": {
    "id": "0Va0-UtpUxda",
    "outputId": "deb46208-b6b0-444d-d736-c10cd6286cfc"
   },
   "outputs": [
    {
     "data": {
      "image/png": "[encoded data removed]",
      "text/plain": [
       "<Figure size 360x360 with 1 Axes>"
      ]
     },
     "metadata": {},
     "output_type": "display_data"
    },
    {
     "name": "stdout",
     "output_type": "stream",
     "text": [
      "Title\n",
      "the Countess    1.000000\n",
      "Mlle            1.000000\n",
      "Lady            1.000000\n",
      "Ms              1.000000\n",
      "Sir             1.000000\n",
      "Mme             1.000000\n",
      "Mrs             0.792000\n",
      "Miss            0.697802\n",
      "Master          0.575000\n",
      "Major           0.500000\n",
      "Col             0.500000\n",
      "Dr              0.428571\n",
      "Mr              0.156673\n",
      "Rev             0.000000\n",
      "Jonkheer        0.000000\n",
      "Don             0.000000\n",
      "Capt            0.000000\n",
      "Name: Survived, dtype: float64\n"
     ]
    }
   ],
   "source": [
    "g = sns.catplot(x = \"Title\", y = \"Survived\",kind = \"bar\", \n",
    "                data = titanic_train, height = 5)\n",
    "g.set_ylabels(\"Survived Probability\")\n",
    "plt.xticks(rotation=90) \n",
    "plt.show()\n",
    "\n",
    "print(titanic_train[\"Survived\"].groupby(titanic_train[\"Title\"]).mean().sort_values(ascending=False))"
   ]
  },
  {
   "cell_type": "markdown",
   "metadata": {
    "id": "qbhUenRfVg6A"
   },
   "source": [
    "I will group title by their surviving rates like following\n",
    "\n",
    "  - **Higher** = the Countess, Mlle, Lady, Ms , Sir, Mme, Mrs, Miss, Master\n",
    "  - **Neutral** = Major, Col, Dr\n",
    "  - **Lower** = Mr, Rev, Jonkheer, Don, Capt"
   ]
  },
  {
   "cell_type": "code",
   "execution_count": 34,
   "metadata": {
    "id": "77Gd0weOloDh"
   },
   "outputs": [],
   "source": [
    "# but I will drop now because I will handle with that in F.Engineering\n",
    "titanic_train = titanic_train.drop(\"Title\", axis = 1)"
   ]
  },
  {
   "cell_type": "markdown",
   "metadata": {
    "id": "ibumL4gceM0W"
   },
   "source": [
    "<a id=\"2\"></a> <br>\n",
    "# **Missing Value Analysis**"
   ]
  },
  {
   "cell_type": "code",
   "execution_count": 35,
   "metadata": {
    "id": "z56o-nCUeTrB"
   },
   "outputs": [],
   "source": [
    "# Before starting imputation I will take a copy from my original dataset\n",
    "data1 = titanic_train.copy()\n",
    "data2 = titanic_test.copy()"
   ]
  },
  {
   "cell_type": "code",
   "execution_count": 36,
   "metadata": {
    "id": "XgCTW59yer55",
    "outputId": "8cdc4cdf-32a1-4a7d-b55c-e9e7acd6fc7d"
   },
   "outputs": [
    {
     "data": {
      "text/html": [
       "<div>\n",
       "<style scoped>\n",
       "    .dataframe tbody tr th:only-of-type {\n",
       "        vertical-align: middle;\n",
       "    }\n",
       "\n",
       "    .dataframe tbody tr th {\n",
       "        vertical-align: top;\n",
       "    }\n",
       "\n",
       "    .dataframe thead th {\n",
       "        text-align: right;\n",
       "    }\n",
       "</style>\n",
       "<table border=\"1\" class=\"dataframe\">\n",
       "  <thead>\n",
       "    <tr style=\"text-align: right;\">\n",
       "      <th></th>\n",
       "      <th>Missing Values</th>\n",
       "      <th>% of Total Values</th>\n",
       "    </tr>\n",
       "  </thead>\n",
       "  <tbody>\n",
       "    <tr>\n",
       "      <th>Cabin</th>\n",
       "      <td>687</td>\n",
       "      <td>77.104377</td>\n",
       "    </tr>\n",
       "    <tr>\n",
       "      <th>Age</th>\n",
       "      <td>177</td>\n",
       "      <td>19.865320</td>\n",
       "    </tr>\n",
       "    <tr>\n",
       "      <th>Embarked</th>\n",
       "      <td>2</td>\n",
       "      <td>0.224467</td>\n",
       "    </tr>\n",
       "    <tr>\n",
       "      <th>PassengerId</th>\n",
       "      <td>0</td>\n",
       "      <td>0.000000</td>\n",
       "    </tr>\n",
       "    <tr>\n",
       "      <th>Survived</th>\n",
       "      <td>0</td>\n",
       "      <td>0.000000</td>\n",
       "    </tr>\n",
       "    <tr>\n",
       "      <th>Pclass</th>\n",
       "      <td>0</td>\n",
       "      <td>0.000000</td>\n",
       "    </tr>\n",
       "    <tr>\n",
       "      <th>Name</th>\n",
       "      <td>0</td>\n",
       "      <td>0.000000</td>\n",
       "    </tr>\n",
       "    <tr>\n",
       "      <th>Sex</th>\n",
       "      <td>0</td>\n",
       "      <td>0.000000</td>\n",
       "    </tr>\n",
       "    <tr>\n",
       "      <th>SibSp</th>\n",
       "      <td>0</td>\n",
       "      <td>0.000000</td>\n",
       "    </tr>\n",
       "    <tr>\n",
       "      <th>Parch</th>\n",
       "      <td>0</td>\n",
       "      <td>0.000000</td>\n",
       "    </tr>\n",
       "    <tr>\n",
       "      <th>Ticket</th>\n",
       "      <td>0</td>\n",
       "      <td>0.000000</td>\n",
       "    </tr>\n",
       "    <tr>\n",
       "      <th>Fare</th>\n",
       "      <td>0</td>\n",
       "      <td>0.000000</td>\n",
       "    </tr>\n",
       "  </tbody>\n",
       "</table>\n",
       "</div>"
      ],
      "text/plain": [
       "             Missing Values  % of Total Values\n",
       "Cabin                   687          77.104377\n",
       "Age                     177          19.865320\n",
       "Embarked                  2           0.224467\n",
       "PassengerId               0           0.000000\n",
       "Survived                  0           0.000000\n",
       "Pclass                    0           0.000000\n",
       "Name                      0           0.000000\n",
       "Sex                       0           0.000000\n",
       "SibSp                     0           0.000000\n",
       "Parch                     0           0.000000\n",
       "Ticket                    0           0.000000\n",
       "Fare                      0           0.000000"
      ]
     },
     "execution_count": 36,
     "metadata": {},
     "output_type": "execute_result"
    }
   ],
   "source": [
    "def missing_val_table(data):\n",
    "    \"\"\"\n",
    "    Takes the dataframe as Input and returns the missing values and\n",
    "    percentages with respect to dataframe length.\n",
    "    \"\"\"\n",
    "    missing_val = data.isnull().sum()\n",
    "    missing_val_perc = 100 * data.isnull().sum() / len(data)\n",
    "    table = pd.concat([missing_val, missing_val_perc], axis=1)\n",
    "    table = table.rename(columns = {0:\"Missing Values\",\n",
    "                                    1:\"% of Total Values\"})\n",
    "    table = table.sort_values(by=\"% of Total Values\",\n",
    "                              ascending=False)\n",
    "    return table\n",
    "\n",
    "missing_val_table(data1)"
   ]
  },
  {
   "cell_type": "markdown",
   "metadata": {
    "id": "w_RgBodwfcR2"
   },
   "source": [
    "- I will impute as follows:\n",
    "  - Mean: Age\n",
    "  - Mode: Cabin and Embarked"
   ]
  },
  {
   "cell_type": "code",
   "execution_count": 37,
   "metadata": {
    "id": "wxV5-QkxjGu8"
   },
   "outputs": [],
   "source": [
    "# imputing Age\n",
    "data1[\"Age\"] = data1[\"Age\"].fillna(data1[\"Age\"].mean())\n",
    "data2[\"Age\"] = data2[\"Age\"].fillna(data2[\"Age\"].mean())\n",
    "\n",
    "# imputing Embarked\n",
    "data1[\"Embarked\"] = data1[\"Embarked\"].fillna(data1[\"Embarked\"].mode()[0])\n",
    "data2[\"Embarked\"] = data2[\"Embarked\"].fillna(data2[\"Embarked\"].mode()[0])"
   ]
  },
  {
   "cell_type": "markdown",
   "metadata": {
    "id": "LEwgwi7dVyn1"
   },
   "source": [
    "<a id=\"3\"></a> <br>\n",
    "# **Feature Engineering**"
   ]
  },
  {
   "cell_type": "markdown",
   "metadata": {
    "id": "zOYIVh16WT57"
   },
   "source": [
    "## **Cabin**\n",
    "I will prepare first letter of Cabin feature as follows in Feature Engineering:\n",
    "\n",
    "- **High Survival Rate**: D,E,B,F,C\n",
    "- **Normal Survival Rate**: G, A\n",
    "- **Lower**: T"
   ]
  },
  {
   "cell_type": "code",
   "execution_count": 38,
   "metadata": {
    "id": "0ahLPiPcU2Jd"
   },
   "outputs": [],
   "source": [
    "def assign_label_cabin(cabin):\n",
    "    if cabin in [\"D\", \"E\", \"B\", \"F\", \"C\"]:\n",
    "        return \"Cabin_high\"\n",
    "    elif cabin in [\"G\", \"A\"]:\n",
    "        return \"Cabin_middle\"\n",
    "    else:\n",
    "        return \"Cabin_low\"\n",
    "\n",
    "# extract first letter\n",
    "data1[\"Cabin\"] = data1[\"Cabin\"].apply(lambda x: str(x)[0])\n",
    "data2[\"Cabin\"] = data2[\"Cabin\"].apply(lambda x: str(x)[0])\n",
    "\n",
    "# apply the function\n",
    "data1[\"Cabin_first\"] = data1[\"Cabin\"].apply(lambda x: assign_label_cabin(x))\n",
    "data2[\"Cabin_first\"] = data2[\"Cabin\"].apply(lambda x: assign_label_cabin(x))\n",
    "\n",
    "#drop the cabin feature\n",
    "data1 = data1.drop(\"Cabin\", axis = 1)\n",
    "data2 = data2.drop(\"Cabin\", axis = 1)"
   ]
  },
  {
   "cell_type": "markdown",
   "metadata": {
    "id": "-WSkdRrXZ-8d"
   },
   "source": [
    "## **Fare**\n",
    "I will group Fare values like as follows:\n",
    "  - **Very High Fare**: 384.247 - 512.329\n",
    "  - **High Fare**: 256.165 - 384.247\n",
    "  - **Normal Fare**: 128.082 - 256.165\n",
    "  - **Low Fare**: -0.512, 128.082"
   ]
  },
  {
   "cell_type": "code",
   "execution_count": 39,
   "metadata": {
    "id": "ljOc7LzxZh_Q"
   },
   "outputs": [],
   "source": [
    "def fare_bound(x):\n",
    "  x = float(x)\n",
    "  if (x > 384.247) & (x <= 512.329):\n",
    "    return \"Very High Fare\"\n",
    "  elif (x > 256.165) & (x <= 384.247):\n",
    "    return \"High Fare\"\n",
    "  elif (x > 128.082) & (x <= 256.165):\n",
    "    return \"Normal Fare\"\n",
    "  else:\n",
    "    return \"Low Fare\"\n",
    "\n",
    "# apply the function\n",
    "data1[\"Fare_cat\"] = data1[\"Fare\"].apply(lambda x: fare_bound(x))\n",
    "data2[\"Fare_cat\"] = data2[\"Fare\"].apply(lambda x: fare_bound(x))\n",
    "\n",
    "#drop the fare feature\n",
    "data1 = data1.drop(\"Fare\", axis = 1)\n",
    "data2 = data2.drop(\"Fare\", axis = 1)"
   ]
  },
  {
   "cell_type": "markdown",
   "metadata": {
    "id": "W_VtDJDQcDa3"
   },
   "source": [
    "## **Ticket**\n",
    "I am going to group them like as follows:\n",
    "\n",
    "  - **Ticket High** = F, 1, P , 9\n",
    "  - **Ticket Middle** = S, C, 2\n",
    "  - **Ticket Low** = else"
   ]
  },
  {
   "cell_type": "code",
   "execution_count": 40,
   "metadata": {
    "id": "eDQTqQp-ZrBd"
   },
   "outputs": [],
   "source": [
    "def label_ticket(x):\n",
    "    if x in [\"F\", \"1\", \"P\", \"9\"]:\n",
    "        return \"Ticket_high\"\n",
    "    elif x in [\"S\", \"C\", \"2\"]:\n",
    "        return \"Ticket_middle\"\n",
    "    else:\n",
    "        return \"Ticket_low\"\n",
    "\n",
    "# extract first letter\n",
    "data1[\"Ticket\"] = data1[\"Ticket\"].apply(lambda x: str(x)[0])\n",
    "data2[\"Ticket\"] = data2[\"Ticket\"].apply(lambda x: str(x)[0])\n",
    "\n",
    "# apply the function\n",
    "data1[\"Ticket_cat\"] = data1[\"Ticket\"].apply(lambda x: label_ticket(x))\n",
    "data2[\"Ticket_cat\"] = data2[\"Ticket\"].apply(lambda x: label_ticket(x))\n",
    "\n",
    "\n",
    "#drop the ticket feature\n",
    "data1 = data1.drop(\"Ticket\", axis = 1)\n",
    "data2 = data2.drop(\"Ticket\", axis = 1)"
   ]
  },
  {
   "cell_type": "markdown",
   "metadata": {
    "id": "vwMV3JFKdBDt"
   },
   "source": [
    "## **Name**\n",
    "I will group title by their surviving rates like following\n",
    "\n",
    "  - **Higher** = the Countess, Mlle, Lady, Ms , Sir, Mme, Mrs, Miss, Master\n",
    "  - **Neutral** = Major, Col, Dr\n",
    "  - **Lower** = Mr, Rev, Jonkheer, Don, Capt"
   ]
  },
  {
   "cell_type": "code",
   "execution_count": 41,
   "metadata": {
    "id": "gd62dz4VcmE3"
   },
   "outputs": [],
   "source": [
    "def assign_label_title(title):\n",
    "    if title in [\"the Countess\", \"Mlle\", \"Lady\", \"Ms\", \"Sir\", \"Mme\", \"Mrs\", \"Miss\", \"Master\"]:\n",
    "        return \"Title_high\"\n",
    "    elif title in [\"Major\", \"Col\", \"Dr\"]:\n",
    "        return \"Title_middle\"\n",
    "    else:\n",
    "        return \"Title_low\"\n",
    "\n",
    "# extract title from the name\n",
    "data1[\"Title\"] = data1['Name'].str.split(', ', expand=True)[1].str.split('.', expand=True)[0]\n",
    "data2[\"Title\"] = data2['Name'].str.split(', ', expand=True)[1].str.split('.', expand=True)[0]\n",
    "\n",
    "#apply the function\n",
    "data1[\"Title\"] = data1[\"Title\"].apply(lambda x: assign_label_title(x))\n",
    "data2[\"Title\"] = data2[\"Title\"].apply(lambda x: assign_label_title(x))\n",
    "\n",
    "#drop the name\n",
    "data1 = data1.drop(\"Name\", axis = 1)\n",
    "data2 = data2.drop(\"Name\", axis = 1)"
   ]
  },
  {
   "cell_type": "markdown",
   "metadata": {
    "id": "qCnhVM4qdnxd"
   },
   "source": [
    "## **SibSp & Parch**"
   ]
  },
  {
   "cell_type": "code",
   "execution_count": 42,
   "metadata": {
    "id": "O4y8pPoJdZIq"
   },
   "outputs": [],
   "source": [
    "data1[\"family_size\"] = data1[\"SibSp\"] + data1[\"Parch\"]\n",
    "data2[\"family_size\"] = data2[\"SibSp\"] + data2[\"Parch\"]"
   ]
  },
  {
   "cell_type": "code",
   "execution_count": 43,
   "metadata": {
    "id": "mLfgroB0d3Tg"
   },
   "outputs": [],
   "source": [
    "def family_label(family_size):\n",
    "    if family_size == 0:\n",
    "        return \"Alone\"\n",
    "    elif family_size <=3:\n",
    "        return \"Small_family\"\n",
    "    else:\n",
    "        return \"Big_family\"\n",
    "\n",
    "#apply the function\n",
    "data1[\"family_size\"] = data1[\"family_size\"].apply(lambda x: family_label(x))\n",
    "data2[\"family_size\"] = data2[\"family_size\"].apply(lambda x: family_label(x))\n",
    "\n",
    "#drop the SibSp and Parch\n",
    "data1 = data1.drop(\"SibSp\", axis=1)\n",
    "data1 = data1.drop(\"Parch\", axis =1)\n",
    "\n",
    "data2 = data2.drop(\"Parch\", axis =1)\n",
    "data2 = data2.drop(\"SibSp\", axis =1)"
   ]
  },
  {
   "cell_type": "markdown",
   "metadata": {
    "id": "KLwDNxOBr43C"
   },
   "source": [
    "**Lets drop also PassengerId**"
   ]
  },
  {
   "cell_type": "code",
   "execution_count": 44,
   "metadata": {
    "id": "G9RCA1OLr1cW"
   },
   "outputs": [],
   "source": [
    "data1 = data1.drop(\"PassengerId\", axis = 1)\n",
    "data2 = data2.drop(\"PassengerId\", axis = 1)"
   ]
  },
  {
   "cell_type": "markdown",
   "metadata": {
    "id": "QizRfqFgrADl"
   },
   "source": [
    "**Let's look at the final version of our data set at the end of Feature Engineering**"
   ]
  },
  {
   "cell_type": "code",
   "execution_count": 45,
   "metadata": {
    "id": "3L534aIseDWr",
    "outputId": "4d4895de-6724-4d04-b69b-ac6d0e508e2e"
   },
   "outputs": [
    {
     "data": {
      "text/html": [
       "<div>\n",
       "<style scoped>\n",
       "    .dataframe tbody tr th:only-of-type {\n",
       "        vertical-align: middle;\n",
       "    }\n",
       "\n",
       "    .dataframe tbody tr th {\n",
       "        vertical-align: top;\n",
       "    }\n",
       "\n",
       "    .dataframe thead th {\n",
       "        text-align: right;\n",
       "    }\n",
       "</style>\n",
       "<table border=\"1\" class=\"dataframe\">\n",
       "  <thead>\n",
       "    <tr style=\"text-align: right;\">\n",
       "      <th></th>\n",
       "      <th>Survived</th>\n",
       "      <th>Pclass</th>\n",
       "      <th>Sex</th>\n",
       "      <th>Age</th>\n",
       "      <th>Embarked</th>\n",
       "      <th>Cabin_first</th>\n",
       "      <th>Fare_cat</th>\n",
       "      <th>Ticket_cat</th>\n",
       "      <th>Title</th>\n",
       "      <th>family_size</th>\n",
       "    </tr>\n",
       "  </thead>\n",
       "  <tbody>\n",
       "    <tr>\n",
       "      <th>0</th>\n",
       "      <td>0</td>\n",
       "      <td>3</td>\n",
       "      <td>male</td>\n",
       "      <td>22.0</td>\n",
       "      <td>S</td>\n",
       "      <td>Cabin_low</td>\n",
       "      <td>Low Fare</td>\n",
       "      <td>Ticket_low</td>\n",
       "      <td>Title_low</td>\n",
       "      <td>Small_family</td>\n",
       "    </tr>\n",
       "    <tr>\n",
       "      <th>1</th>\n",
       "      <td>1</td>\n",
       "      <td>1</td>\n",
       "      <td>female</td>\n",
       "      <td>38.0</td>\n",
       "      <td>C</td>\n",
       "      <td>Cabin_high</td>\n",
       "      <td>Low Fare</td>\n",
       "      <td>Ticket_high</td>\n",
       "      <td>Title_high</td>\n",
       "      <td>Small_family</td>\n",
       "    </tr>\n",
       "    <tr>\n",
       "      <th>2</th>\n",
       "      <td>1</td>\n",
       "      <td>3</td>\n",
       "      <td>female</td>\n",
       "      <td>26.0</td>\n",
       "      <td>S</td>\n",
       "      <td>Cabin_low</td>\n",
       "      <td>Low Fare</td>\n",
       "      <td>Ticket_middle</td>\n",
       "      <td>Title_high</td>\n",
       "      <td>Alone</td>\n",
       "    </tr>\n",
       "    <tr>\n",
       "      <th>3</th>\n",
       "      <td>1</td>\n",
       "      <td>1</td>\n",
       "      <td>female</td>\n",
       "      <td>35.0</td>\n",
       "      <td>S</td>\n",
       "      <td>Cabin_high</td>\n",
       "      <td>Low Fare</td>\n",
       "      <td>Ticket_high</td>\n",
       "      <td>Title_high</td>\n",
       "      <td>Small_family</td>\n",
       "    </tr>\n",
       "    <tr>\n",
       "      <th>4</th>\n",
       "      <td>0</td>\n",
       "      <td>3</td>\n",
       "      <td>male</td>\n",
       "      <td>35.0</td>\n",
       "      <td>S</td>\n",
       "      <td>Cabin_low</td>\n",
       "      <td>Low Fare</td>\n",
       "      <td>Ticket_low</td>\n",
       "      <td>Title_low</td>\n",
       "      <td>Alone</td>\n",
       "    </tr>\n",
       "  </tbody>\n",
       "</table>\n",
       "</div>"
      ],
      "text/plain": [
       "   Survived  Pclass     Sex   Age Embarked Cabin_first  Fare_cat  \\\n",
       "0         0       3    male  22.0        S   Cabin_low  Low Fare   \n",
       "1         1       1  female  38.0        C  Cabin_high  Low Fare   \n",
       "2         1       3  female  26.0        S   Cabin_low  Low Fare   \n",
       "3         1       1  female  35.0        S  Cabin_high  Low Fare   \n",
       "4         0       3    male  35.0        S   Cabin_low  Low Fare   \n",
       "\n",
       "      Ticket_cat       Title   family_size  \n",
       "0     Ticket_low   Title_low  Small_family  \n",
       "1    Ticket_high  Title_high  Small_family  \n",
       "2  Ticket_middle  Title_high         Alone  \n",
       "3    Ticket_high  Title_high  Small_family  \n",
       "4     Ticket_low   Title_low         Alone  "
      ]
     },
     "metadata": {},
     "output_type": "display_data"
    },
    {
     "data": {
      "text/html": [
       "<div>\n",
       "<style scoped>\n",
       "    .dataframe tbody tr th:only-of-type {\n",
       "        vertical-align: middle;\n",
       "    }\n",
       "\n",
       "    .dataframe tbody tr th {\n",
       "        vertical-align: top;\n",
       "    }\n",
       "\n",
       "    .dataframe thead th {\n",
       "        text-align: right;\n",
       "    }\n",
       "</style>\n",
       "<table border=\"1\" class=\"dataframe\">\n",
       "  <thead>\n",
       "    <tr style=\"text-align: right;\">\n",
       "      <th></th>\n",
       "      <th>Pclass</th>\n",
       "      <th>Sex</th>\n",
       "      <th>Age</th>\n",
       "      <th>Embarked</th>\n",
       "      <th>Cabin_first</th>\n",
       "      <th>Fare_cat</th>\n",
       "      <th>Ticket_cat</th>\n",
       "      <th>Title</th>\n",
       "      <th>family_size</th>\n",
       "    </tr>\n",
       "  </thead>\n",
       "  <tbody>\n",
       "    <tr>\n",
       "      <th>0</th>\n",
       "      <td>3</td>\n",
       "      <td>male</td>\n",
       "      <td>34.5</td>\n",
       "      <td>Q</td>\n",
       "      <td>Cabin_low</td>\n",
       "      <td>Low Fare</td>\n",
       "      <td>Ticket_low</td>\n",
       "      <td>Title_low</td>\n",
       "      <td>Alone</td>\n",
       "    </tr>\n",
       "    <tr>\n",
       "      <th>1</th>\n",
       "      <td>3</td>\n",
       "      <td>female</td>\n",
       "      <td>47.0</td>\n",
       "      <td>S</td>\n",
       "      <td>Cabin_low</td>\n",
       "      <td>Low Fare</td>\n",
       "      <td>Ticket_low</td>\n",
       "      <td>Title_high</td>\n",
       "      <td>Small_family</td>\n",
       "    </tr>\n",
       "    <tr>\n",
       "      <th>2</th>\n",
       "      <td>2</td>\n",
       "      <td>male</td>\n",
       "      <td>62.0</td>\n",
       "      <td>Q</td>\n",
       "      <td>Cabin_low</td>\n",
       "      <td>Low Fare</td>\n",
       "      <td>Ticket_middle</td>\n",
       "      <td>Title_low</td>\n",
       "      <td>Alone</td>\n",
       "    </tr>\n",
       "    <tr>\n",
       "      <th>3</th>\n",
       "      <td>3</td>\n",
       "      <td>male</td>\n",
       "      <td>27.0</td>\n",
       "      <td>S</td>\n",
       "      <td>Cabin_low</td>\n",
       "      <td>Low Fare</td>\n",
       "      <td>Ticket_low</td>\n",
       "      <td>Title_low</td>\n",
       "      <td>Alone</td>\n",
       "    </tr>\n",
       "    <tr>\n",
       "      <th>4</th>\n",
       "      <td>3</td>\n",
       "      <td>female</td>\n",
       "      <td>22.0</td>\n",
       "      <td>S</td>\n",
       "      <td>Cabin_low</td>\n",
       "      <td>Low Fare</td>\n",
       "      <td>Ticket_low</td>\n",
       "      <td>Title_high</td>\n",
       "      <td>Small_family</td>\n",
       "    </tr>\n",
       "  </tbody>\n",
       "</table>\n",
       "</div>"
      ],
      "text/plain": [
       "   Pclass     Sex   Age Embarked Cabin_first  Fare_cat     Ticket_cat  \\\n",
       "0       3    male  34.5        Q   Cabin_low  Low Fare     Ticket_low   \n",
       "1       3  female  47.0        S   Cabin_low  Low Fare     Ticket_low   \n",
       "2       2    male  62.0        Q   Cabin_low  Low Fare  Ticket_middle   \n",
       "3       3    male  27.0        S   Cabin_low  Low Fare     Ticket_low   \n",
       "4       3  female  22.0        S   Cabin_low  Low Fare     Ticket_low   \n",
       "\n",
       "        Title   family_size  \n",
       "0   Title_low         Alone  \n",
       "1  Title_high  Small_family  \n",
       "2   Title_low         Alone  \n",
       "3   Title_low         Alone  \n",
       "4  Title_high  Small_family  "
      ]
     },
     "metadata": {},
     "output_type": "display_data"
    }
   ],
   "source": [
    "display(data1.head())\n",
    "display(data2.head())"
   ]
  },
  {
   "cell_type": "markdown",
   "metadata": {
    "id": "puTW49Rysasj"
   },
   "source": [
    "<a id=\"4\"></a> <br>\n",
    "# **Label Encoding**"
   ]
  },
  {
   "cell_type": "code",
   "execution_count": 46,
   "metadata": {
    "id": "haHw1CKtuXmv"
   },
   "outputs": [],
   "source": [
    "data1_new = data1.copy()\n",
    "data2_new = data2.copy()"
   ]
  },
  {
   "cell_type": "markdown",
   "metadata": {
    "id": "9FvbCciTsfCG"
   },
   "source": [
    "In this part I'm going to follow:\n",
    "- LabelEncoding: Sex\n",
    "- OneHotEncoding: Rest"
   ]
  },
  {
   "cell_type": "code",
   "execution_count": 47,
   "metadata": {
    "id": "D5C-UqN7s_bo"
   },
   "outputs": [],
   "source": [
    "from sklearn.preprocessing import LabelEncoder\n",
    "\n",
    "labelEncoder = LabelEncoder()\n",
    "\n",
    "data1_new[\"Sex\"] = labelEncoder.fit_transform(data1[[\"Sex\"]].values.ravel())\n",
    "data2_new[\"Sex\"] = labelEncoder.fit_transform(data2_new[[\"Sex\"]].values.ravel())"
   ]
  },
  {
   "cell_type": "code",
   "execution_count": 48,
   "metadata": {
    "id": "KcSI7LXMrRIy"
   },
   "outputs": [],
   "source": [
    "data1_new = pd.get_dummies(columns=[\"Pclass\", \"Embarked\", \"Ticket_cat\", \"Fare_cat\",\"Cabin_first\",\"Title\", \"family_size\"], data=data1_new, drop_first=True)\n",
    "data2_new = pd.get_dummies(columns=[\"Pclass\", \"Embarked\", \"Ticket_cat\", \"Fare_cat\", \"Cabin_first\",\"Title\", \"family_size\"], data=data2_new, drop_first=True)"
   ]
  },
  {
   "cell_type": "markdown",
   "metadata": {
    "id": "mtTLHdPavnim"
   },
   "source": [
    "**Final look our data**"
   ]
  },
  {
   "cell_type": "code",
   "execution_count": 49,
   "metadata": {
    "id": "9CdhSD5WvmNW",
    "outputId": "39a1e9c6-a178-4f16-f6e8-941f0e447ede"
   },
   "outputs": [
    {
     "data": {
      "text/html": [
       "<div>\n",
       "<style scoped>\n",
       "    .dataframe tbody tr th:only-of-type {\n",
       "        vertical-align: middle;\n",
       "    }\n",
       "\n",
       "    .dataframe tbody tr th {\n",
       "        vertical-align: top;\n",
       "    }\n",
       "\n",
       "    .dataframe thead th {\n",
       "        text-align: right;\n",
       "    }\n",
       "</style>\n",
       "<table border=\"1\" class=\"dataframe\">\n",
       "  <thead>\n",
       "    <tr style=\"text-align: right;\">\n",
       "      <th></th>\n",
       "      <th>Survived</th>\n",
       "      <th>Sex</th>\n",
       "      <th>Age</th>\n",
       "      <th>Pclass_2</th>\n",
       "      <th>Pclass_3</th>\n",
       "      <th>Embarked_Q</th>\n",
       "      <th>Embarked_S</th>\n",
       "      <th>Ticket_cat_Ticket_low</th>\n",
       "      <th>Ticket_cat_Ticket_middle</th>\n",
       "      <th>Fare_cat_Low Fare</th>\n",
       "      <th>Fare_cat_Normal Fare</th>\n",
       "      <th>Cabin_first_Cabin_low</th>\n",
       "      <th>Cabin_first_Cabin_middle</th>\n",
       "      <th>Title_Title_low</th>\n",
       "      <th>Title_Title_middle</th>\n",
       "      <th>family_size_Big_family</th>\n",
       "      <th>family_size_Small_family</th>\n",
       "    </tr>\n",
       "  </thead>\n",
       "  <tbody>\n",
       "    <tr>\n",
       "      <th>0</th>\n",
       "      <td>0</td>\n",
       "      <td>1</td>\n",
       "      <td>22.0</td>\n",
       "      <td>0</td>\n",
       "      <td>1</td>\n",
       "      <td>0</td>\n",
       "      <td>1</td>\n",
       "      <td>1</td>\n",
       "      <td>0</td>\n",
       "      <td>1</td>\n",
       "      <td>0</td>\n",
       "      <td>1</td>\n",
       "      <td>0</td>\n",
       "      <td>1</td>\n",
       "      <td>0</td>\n",
       "      <td>0</td>\n",
       "      <td>1</td>\n",
       "    </tr>\n",
       "    <tr>\n",
       "      <th>1</th>\n",
       "      <td>1</td>\n",
       "      <td>0</td>\n",
       "      <td>38.0</td>\n",
       "      <td>0</td>\n",
       "      <td>0</td>\n",
       "      <td>0</td>\n",
       "      <td>0</td>\n",
       "      <td>0</td>\n",
       "      <td>0</td>\n",
       "      <td>1</td>\n",
       "      <td>0</td>\n",
       "      <td>0</td>\n",
       "      <td>0</td>\n",
       "      <td>0</td>\n",
       "      <td>0</td>\n",
       "      <td>0</td>\n",
       "      <td>1</td>\n",
       "    </tr>\n",
       "    <tr>\n",
       "      <th>2</th>\n",
       "      <td>1</td>\n",
       "      <td>0</td>\n",
       "      <td>26.0</td>\n",
       "      <td>0</td>\n",
       "      <td>1</td>\n",
       "      <td>0</td>\n",
       "      <td>1</td>\n",
       "      <td>0</td>\n",
       "      <td>1</td>\n",
       "      <td>1</td>\n",
       "      <td>0</td>\n",
       "      <td>1</td>\n",
       "      <td>0</td>\n",
       "      <td>0</td>\n",
       "      <td>0</td>\n",
       "      <td>0</td>\n",
       "      <td>0</td>\n",
       "    </tr>\n",
       "    <tr>\n",
       "      <th>3</th>\n",
       "      <td>1</td>\n",
       "      <td>0</td>\n",
       "      <td>35.0</td>\n",
       "      <td>0</td>\n",
       "      <td>0</td>\n",
       "      <td>0</td>\n",
       "      <td>1</td>\n",
       "      <td>0</td>\n",
       "      <td>0</td>\n",
       "      <td>1</td>\n",
       "      <td>0</td>\n",
       "      <td>0</td>\n",
       "      <td>0</td>\n",
       "      <td>0</td>\n",
       "      <td>0</td>\n",
       "      <td>0</td>\n",
       "      <td>1</td>\n",
       "    </tr>\n",
       "    <tr>\n",
       "      <th>4</th>\n",
       "      <td>0</td>\n",
       "      <td>1</td>\n",
       "      <td>35.0</td>\n",
       "      <td>0</td>\n",
       "      <td>1</td>\n",
       "      <td>0</td>\n",
       "      <td>1</td>\n",
       "      <td>1</td>\n",
       "      <td>0</td>\n",
       "      <td>1</td>\n",
       "      <td>0</td>\n",
       "      <td>1</td>\n",
       "      <td>0</td>\n",
       "      <td>1</td>\n",
       "      <td>0</td>\n",
       "      <td>0</td>\n",
       "      <td>0</td>\n",
       "    </tr>\n",
       "  </tbody>\n",
       "</table>\n",
       "</div>"
      ],
      "text/plain": [
       "   Survived  Sex   Age  Pclass_2  Pclass_3  Embarked_Q  Embarked_S  \\\n",
       "0         0    1  22.0         0         1           0           1   \n",
       "1         1    0  38.0         0         0           0           0   \n",
       "2         1    0  26.0         0         1           0           1   \n",
       "3         1    0  35.0         0         0           0           1   \n",
       "4         0    1  35.0         0         1           0           1   \n",
       "\n",
       "   Ticket_cat_Ticket_low  Ticket_cat_Ticket_middle  Fare_cat_Low Fare  \\\n",
       "0                      1                         0                  1   \n",
       "1                      0                         0                  1   \n",
       "2                      0                         1                  1   \n",
       "3                      0                         0                  1   \n",
       "4                      1                         0                  1   \n",
       "\n",
       "   Fare_cat_Normal Fare  Cabin_first_Cabin_low  Cabin_first_Cabin_middle  \\\n",
       "0                     0                      1                         0   \n",
       "1                     0                      0                         0   \n",
       "2                     0                      1                         0   \n",
       "3                     0                      0                         0   \n",
       "4                     0                      1                         0   \n",
       "\n",
       "   Title_Title_low  Title_Title_middle  family_size_Big_family  \\\n",
       "0                1                   0                       0   \n",
       "1                0                   0                       0   \n",
       "2                0                   0                       0   \n",
       "3                0                   0                       0   \n",
       "4                1                   0                       0   \n",
       "\n",
       "   family_size_Small_family  \n",
       "0                         1  \n",
       "1                         1  \n",
       "2                         0  \n",
       "3                         1  \n",
       "4                         0  "
      ]
     },
     "metadata": {},
     "output_type": "display_data"
    }
   ],
   "source": [
    "display(data1_new.head())"
   ]
  },
  {
   "cell_type": "code",
   "execution_count": 50,
   "metadata": {
    "id": "LZpN64w_v4WC",
    "outputId": "4dbef7f2-b426-4691-9dbe-af13bc0e2a31"
   },
   "outputs": [
    {
     "data": {
      "text/html": [
       "<div>\n",
       "<style scoped>\n",
       "    .dataframe tbody tr th:only-of-type {\n",
       "        vertical-align: middle;\n",
       "    }\n",
       "\n",
       "    .dataframe tbody tr th {\n",
       "        vertical-align: top;\n",
       "    }\n",
       "\n",
       "    .dataframe thead th {\n",
       "        text-align: right;\n",
       "    }\n",
       "</style>\n",
       "<table border=\"1\" class=\"dataframe\">\n",
       "  <thead>\n",
       "    <tr style=\"text-align: right;\">\n",
       "      <th></th>\n",
       "      <th>Sex</th>\n",
       "      <th>Age</th>\n",
       "      <th>Pclass_2</th>\n",
       "      <th>Pclass_3</th>\n",
       "      <th>Embarked_Q</th>\n",
       "      <th>Embarked_S</th>\n",
       "      <th>Ticket_cat_Ticket_low</th>\n",
       "      <th>Ticket_cat_Ticket_middle</th>\n",
       "      <th>Fare_cat_Low Fare</th>\n",
       "      <th>Fare_cat_Normal Fare</th>\n",
       "      <th>Cabin_first_Cabin_low</th>\n",
       "      <th>Cabin_first_Cabin_middle</th>\n",
       "      <th>Title_Title_low</th>\n",
       "      <th>Title_Title_middle</th>\n",
       "      <th>family_size_Big_family</th>\n",
       "      <th>family_size_Small_family</th>\n",
       "    </tr>\n",
       "  </thead>\n",
       "  <tbody>\n",
       "    <tr>\n",
       "      <th>0</th>\n",
       "      <td>1</td>\n",
       "      <td>34.5</td>\n",
       "      <td>0</td>\n",
       "      <td>1</td>\n",
       "      <td>1</td>\n",
       "      <td>0</td>\n",
       "      <td>1</td>\n",
       "      <td>0</td>\n",
       "      <td>1</td>\n",
       "      <td>0</td>\n",
       "      <td>1</td>\n",
       "      <td>0</td>\n",
       "      <td>1</td>\n",
       "      <td>0</td>\n",
       "      <td>0</td>\n",
       "      <td>0</td>\n",
       "    </tr>\n",
       "    <tr>\n",
       "      <th>1</th>\n",
       "      <td>0</td>\n",
       "      <td>47.0</td>\n",
       "      <td>0</td>\n",
       "      <td>1</td>\n",
       "      <td>0</td>\n",
       "      <td>1</td>\n",
       "      <td>1</td>\n",
       "      <td>0</td>\n",
       "      <td>1</td>\n",
       "      <td>0</td>\n",
       "      <td>1</td>\n",
       "      <td>0</td>\n",
       "      <td>0</td>\n",
       "      <td>0</td>\n",
       "      <td>0</td>\n",
       "      <td>1</td>\n",
       "    </tr>\n",
       "    <tr>\n",
       "      <th>2</th>\n",
       "      <td>1</td>\n",
       "      <td>62.0</td>\n",
       "      <td>1</td>\n",
       "      <td>0</td>\n",
       "      <td>1</td>\n",
       "      <td>0</td>\n",
       "      <td>0</td>\n",
       "      <td>1</td>\n",
       "      <td>1</td>\n",
       "      <td>0</td>\n",
       "      <td>1</td>\n",
       "      <td>0</td>\n",
       "      <td>1</td>\n",
       "      <td>0</td>\n",
       "      <td>0</td>\n",
       "      <td>0</td>\n",
       "    </tr>\n",
       "    <tr>\n",
       "      <th>3</th>\n",
       "      <td>1</td>\n",
       "      <td>27.0</td>\n",
       "      <td>0</td>\n",
       "      <td>1</td>\n",
       "      <td>0</td>\n",
       "      <td>1</td>\n",
       "      <td>1</td>\n",
       "      <td>0</td>\n",
       "      <td>1</td>\n",
       "      <td>0</td>\n",
       "      <td>1</td>\n",
       "      <td>0</td>\n",
       "      <td>1</td>\n",
       "      <td>0</td>\n",
       "      <td>0</td>\n",
       "      <td>0</td>\n",
       "    </tr>\n",
       "    <tr>\n",
       "      <th>4</th>\n",
       "      <td>0</td>\n",
       "      <td>22.0</td>\n",
       "      <td>0</td>\n",
       "      <td>1</td>\n",
       "      <td>0</td>\n",
       "      <td>1</td>\n",
       "      <td>1</td>\n",
       "      <td>0</td>\n",
       "      <td>1</td>\n",
       "      <td>0</td>\n",
       "      <td>1</td>\n",
       "      <td>0</td>\n",
       "      <td>0</td>\n",
       "      <td>0</td>\n",
       "      <td>0</td>\n",
       "      <td>1</td>\n",
       "    </tr>\n",
       "  </tbody>\n",
       "</table>\n",
       "</div>"
      ],
      "text/plain": [
       "   Sex   Age  Pclass_2  Pclass_3  Embarked_Q  Embarked_S  \\\n",
       "0    1  34.5         0         1           1           0   \n",
       "1    0  47.0         0         1           0           1   \n",
       "2    1  62.0         1         0           1           0   \n",
       "3    1  27.0         0         1           0           1   \n",
       "4    0  22.0         0         1           0           1   \n",
       "\n",
       "   Ticket_cat_Ticket_low  Ticket_cat_Ticket_middle  Fare_cat_Low Fare  \\\n",
       "0                      1                         0                  1   \n",
       "1                      1                         0                  1   \n",
       "2                      0                         1                  1   \n",
       "3                      1                         0                  1   \n",
       "4                      1                         0                  1   \n",
       "\n",
       "   Fare_cat_Normal Fare  Cabin_first_Cabin_low  Cabin_first_Cabin_middle  \\\n",
       "0                     0                      1                         0   \n",
       "1                     0                      1                         0   \n",
       "2                     0                      1                         0   \n",
       "3                     0                      1                         0   \n",
       "4                     0                      1                         0   \n",
       "\n",
       "   Title_Title_low  Title_Title_middle  family_size_Big_family  \\\n",
       "0                1                   0                       0   \n",
       "1                0                   0                       0   \n",
       "2                1                   0                       0   \n",
       "3                1                   0                       0   \n",
       "4                0                   0                       0   \n",
       "\n",
       "   family_size_Small_family  \n",
       "0                         0  \n",
       "1                         1  \n",
       "2                         0  \n",
       "3                         0  \n",
       "4                         1  "
      ]
     },
     "metadata": {},
     "output_type": "display_data"
    }
   ],
   "source": [
    "display(data2_new.head())"
   ]
  },
  {
   "cell_type": "markdown",
   "metadata": {
    "id": "AwS6gg9HwNhl"
   },
   "source": [
    "<a id=\"5\"></a> <br>\n",
    "# **Modelling**"
   ]
  },
  {
   "cell_type": "markdown",
   "metadata": {
    "id": "GaHT9F31xsR5"
   },
   "source": [
    "I will import necessary libraries"
   ]
  },
  {
   "cell_type": "code",
   "execution_count": 51,
   "metadata": {
    "id": "qxgxA7fxxH8P"
   },
   "outputs": [],
   "source": [
    "from sklearn.model_selection import train_test_split,cross_val_score,RandomizedSearchCV\n",
    "from sklearn.metrics import confusion_matrix, accuracy_score, classification_report\n",
    "from sklearn.metrics import roc_auc_score, roc_curve\n",
    "from sklearn.ensemble import RandomForestClassifier"
   ]
  },
  {
   "cell_type": "code",
   "execution_count": 52,
   "metadata": {
    "id": "mMMpqBO1wJoy"
   },
   "outputs": [],
   "source": [
    "# I will make another copy\n",
    "train = data1_new.copy()\n",
    "test = data2_new.copy() \n",
    "\n",
    "X = train.drop(\"Survived\", axis = 1)\n",
    "y = train[\"Survived\"]\n",
    "\n",
    "X_train, X_test, y_train, y_test = train_test_split(X,y, test_size = 0.3, random_state = 42, stratify=y)"
   ]
  },
  {
   "cell_type": "markdown",
   "metadata": {
    "id": "-4GbWmYiz34H"
   },
   "source": [
    "### **Random Forest**"
   ]
  },
  {
   "cell_type": "code",
   "execution_count": 53,
   "metadata": {
    "id": "1vPc8lyCzaTr"
   },
   "outputs": [
    {
     "name": "stdout",
     "output_type": "stream",
     "text": [
      "Fitting 10 folds for each of 10 candidates, totalling 100 fits\n"
     ]
    },
    {
     "name": "stderr",
     "output_type": "stream",
     "text": [
      "[Parallel(n_jobs=-1)]: Using backend LokyBackend with 4 concurrent workers.\n",
      "[Parallel(n_jobs=-1)]: Done  33 tasks      | elapsed:   17.3s\n",
      "[Parallel(n_jobs=-1)]: Done 100 out of 100 | elapsed:   40.2s finished\n"
     ]
    }
   ],
   "source": [
    "rf = RandomForestClassifier()\n",
    "\n",
    "params = {'n_estimators': [100,300,500,700,1000],\n",
    "          'max_depth': [3,5,7],\n",
    "          'criterion':['entropy', 'gini'],\n",
    "          'min_samples_leaf' : [1, 2, 3, 4, 5],\n",
    "          'max_features':['auto'],\n",
    "          'min_samples_split': [3, 5, 10],\n",
    "          'max_leaf_nodes':[2,3,5,7],\n",
    "          }\n",
    "\n",
    "rf_cv = RandomizedSearchCV(rf, params, cv = 10, n_jobs=-1, verbose=2).fit(X_train, y_train)"
   ]
  },
  {
   "cell_type": "code",
   "execution_count": 54,
   "metadata": {
    "id": "AjB4KMMIMpCr",
    "outputId": "dbd02eb8-5c65-40ae-cfba-4400514b4c26"
   },
   "outputs": [
    {
     "name": "stdout",
     "output_type": "stream",
     "text": [
      "RandomForestClassifier(max_depth=3, max_leaf_nodes=7, min_samples_leaf=3,\n",
      "                       min_samples_split=10, n_estimators=500)\n",
      "0.8377624167946749\n"
     ]
    }
   ],
   "source": [
    "rf_cv.best_params_\n",
    "best_rf_model = rf_cv.best_estimator_\n",
    "\n",
    "print(best_rf_model)\n",
    "print(rf_cv.best_score_)"
   ]
  },
  {
   "cell_type": "code",
   "execution_count": 55,
   "metadata": {
    "id": "gXd1B-zUM9ra",
    "outputId": "278f514a-150c-4511-89c8-e592b2d51584"
   },
   "outputs": [
    {
     "name": "stdout",
     "output_type": "stream",
     "text": [
      "Accuracy:  0.8059701492537313\n",
      "\n",
      "Confusion Matrix\n",
      "\n",
      "[[141  24]\n",
      " [ 28  75]]\n"
     ]
    }
   ],
   "source": [
    "rf_pred = rf_cv.predict(X_test)\n",
    "\n",
    "# Print the accuracy with accuracy_score function\n",
    "print(\"Accuracy: \", accuracy_score(y_test, rf_pred))\n",
    "\n",
    "# Display the confusion matrix\n",
    "print(\"\\nConfusion Matrix\\n\")\n",
    "print(confusion_matrix(y_test, rf_pred))"
   ]
  },
  {
   "cell_type": "markdown",
   "metadata": {
    "id": "y4S_QyL2WFyF"
   },
   "source": [
    "Let's save the model"
   ]
  },
  {
   "cell_type": "code",
   "execution_count": 56,
   "metadata": {
    "id": "KhqZRR3eV3do"
   },
   "outputs": [],
   "source": [
    "import pickle\n",
    "\n",
    "pickle.dump(best_rf_model, open(\"titanic_model.pkl\", 'wb'))"
   ]
  },
  {
   "cell_type": "code",
   "execution_count": 57,
   "metadata": {
    "id": "A0dCU3u_WMbT",
    "outputId": "f39f65c5-8ce5-4d77-a333-a62baff97cd3"
   },
   "outputs": [
    {
     "data": {
      "image/png": "[encoded data removed]",
      "text/plain": [
       "<Figure size 432x288 with 1 Axes>"
      ]
     },
     "metadata": {},
     "output_type": "display_data"
    }
   ],
   "source": [
    "Importance = pd.DataFrame({\"Importance\": best_rf_model.feature_importances_*100},\n",
    "                         index = X_train.columns)\n",
    "Importance.sort_values(by = \"Importance\", \n",
    "                       axis = 0, \n",
    "                       ascending = True).plot(kind =\"barh\", color = \"r\")\n",
    "\n",
    "plt.xlabel(\"Feature Importance\")\n",
    "plt.show()"
   ]
  },
  {
   "cell_type": "code",
   "execution_count": 58,
   "metadata": {
    "id": "OHM-vKdFWyxr"
   },
   "outputs": [],
   "source": [
    "last_model =RandomForestClassifier(max_depth=3, max_leaf_nodes=7, min_samples_leaf=3,\n",
    "                       min_samples_split=10, n_estimators=500).fit(X,y)"
   ]
  },
  {
   "cell_type": "code",
   "execution_count": 59,
   "metadata": {
    "id": "cXedfjpKXIJZ",
    "outputId": "1b6688e6-b2be-429d-d285-1a6d6f47b47f"
   },
   "outputs": [
    {
     "name": "stdout",
     "output_type": "stream",
     "text": [
      "[0 1 0 0 1 0 1 0 1 0 0 0 1 0 1 1 0 0 1 1 0 1 1 0 1 0 1 0 0 0 0 0 1 1 0 0 0\n",
      " 0 0 0 0 0 0 1 1 0 0 0 1 1 0 0 1 1 0 0 0 0 0 1 0 0 0 1 1 1 1 0 0 1 1 0 0 0\n",
      " 1 0 0 1 0 1 1 0 0 0 0 0 1 0 1 1 1 0 1 0 0 0 1 0 0 0 1 0 0 0 1 0 0 0 0 0 0\n",
      " 1 1 1 1 0 0 1 0 1 1 0 1 0 0 1 0 1 0 0 0 1 0 0 0 0 0 0 1 0 0 1 0 0 0 0 0 0\n",
      " 0 0 1 0 0 1 0 0 1 0 0 1 1 1 1 0 0 1 0 0 1 0 0 0 0 0 0 1 1 0 1 1 0 0 1 0 1\n",
      " 0 1 0 0 0 0 0 0 0 1 0 1 0 0 0 1 1 1 1 0 0 1 0 1 0 0 0 0 1 0 0 1 0 1 0 1 0\n",
      " 1 0 1 1 0 1 0 0 0 1 0 0 0 0 0 0 1 1 1 1 0 0 0 0 1 0 1 1 1 0 0 0 0 0 0 0 1\n",
      " 0 0 0 1 1 0 0 0 0 0 0 0 0 1 1 0 1 0 0 0 0 0 1 1 1 1 0 0 0 0 0 0 1 0 1 0 0\n",
      " 1 0 0 0 0 0 0 0 1 1 0 1 0 1 0 0 0 1 1 1 0 0 0 0 0 0 0 0 1 0 1 0 0 0 1 0 0\n",
      " 1 0 0 0 0 0 0 0 0 0 1 0 0 0 1 0 1 1 0 0 0 1 0 1 0 0 1 0 1 1 0 1 0 0 0 1 0\n",
      " 0 1 0 0 1 1 1 0 0 0 0 0 0 1 0 1 0 0 0 0 0 1 1 0 0 1 0 1 0 0 1 0 1 0 0 0 0\n",
      " 0 1 1 1 1 0 0 1 0 0 1]\n"
     ]
    }
   ],
   "source": [
    "IDs = pd.read_csv(test_path)[[\"PassengerId\"]].values\n",
    "\n",
    "predictions = last_model.predict(test.values)\n",
    "\n",
    "print(predictions)"
   ]
  },
  {
   "cell_type": "markdown",
   "metadata": {},
   "source": [
    "<a id=\"6\"></a> <br>\n",
    "# **Submission**"
   ]
  },
  {
   "cell_type": "code",
   "execution_count": 60,
   "metadata": {
    "id": "kzFpY9fSl2em",
    "outputId": "da72fef0-0fe9-45e0-ddc0-0617f42b25a3"
   },
   "outputs": [
    {
     "data": {
      "text/html": [
       "<div>\n",
       "<style scoped>\n",
       "    .dataframe tbody tr th:only-of-type {\n",
       "        vertical-align: middle;\n",
       "    }\n",
       "\n",
       "    .dataframe tbody tr th {\n",
       "        vertical-align: top;\n",
       "    }\n",
       "\n",
       "    .dataframe thead th {\n",
       "        text-align: right;\n",
       "    }\n",
       "</style>\n",
       "<table border=\"1\" class=\"dataframe\">\n",
       "  <thead>\n",
       "    <tr style=\"text-align: right;\">\n",
       "      <th></th>\n",
       "      <th>PassengerId</th>\n",
       "      <th>Survived</th>\n",
       "    </tr>\n",
       "  </thead>\n",
       "  <tbody>\n",
       "    <tr>\n",
       "      <th>0</th>\n",
       "      <td>892</td>\n",
       "      <td>0</td>\n",
       "    </tr>\n",
       "    <tr>\n",
       "      <th>1</th>\n",
       "      <td>893</td>\n",
       "      <td>1</td>\n",
       "    </tr>\n",
       "    <tr>\n",
       "      <th>2</th>\n",
       "      <td>894</td>\n",
       "      <td>0</td>\n",
       "    </tr>\n",
       "    <tr>\n",
       "      <th>3</th>\n",
       "      <td>895</td>\n",
       "      <td>0</td>\n",
       "    </tr>\n",
       "    <tr>\n",
       "      <th>4</th>\n",
       "      <td>896</td>\n",
       "      <td>1</td>\n",
       "    </tr>\n",
       "  </tbody>\n",
       "</table>\n",
       "</div>"
      ],
      "text/plain": [
       "   PassengerId  Survived\n",
       "0          892         0\n",
       "1          893         1\n",
       "2          894         0\n",
       "3          895         0\n",
       "4          896         1"
      ]
     },
     "metadata": {},
     "output_type": "display_data"
    }
   ],
   "source": [
    "result_df = {'PassengerId': IDs.ravel(), 'Survived':predictions}\n",
    "submission = pd.DataFrame(result_df)\n",
    "\n",
    "display(submission.head())\n"
   ]
  },
  {
   "cell_type": "code",
   "execution_count": 61,
   "metadata": {
    "id": "BC69mnNiYygm"
   },
   "outputs": [],
   "source": [
    "# Save the file\n",
    "submission.to_csv(\"titanic_sub.csv\", index=False)"
   ]
  },
  {
   "cell_type": "code",
   "execution_count": null,
   "metadata": {},
   "outputs": [],
   "source": []
  }
 ],
 "metadata": {
  "hide_input": false,
  "kernelspec": {
   "display_name": "Python 3",
   "language": "python",
   "name": "python3"
  },
  "language_info": {
   "codemirror_mode": {
    "name": "ipython",
    "version": 3
   },
   "file_extension": ".py",
   "mimetype": "text/x-python",
   "name": "python",
   "nbconvert_exporter": "python",
   "pygments_lexer": "ipython3",
   "version": "3.8.5"
  },
  "toc": {
   "base_numbering": 1,
   "nav_menu": {},
   "number_sections": true,
   "sideBar": true,
   "skip_h1_title": false,
   "title_cell": "Table of Contents",
   "title_sidebar": "Contents",
   "toc_cell": false,
   "toc_position": {},
   "toc_section_display": true,
   "toc_window_display": false
  }
 },
 "nbformat": 4,
 "nbformat_minor": 4
}
