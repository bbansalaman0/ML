{
 "cells": [
  {
   "cell_type": "code",
   "execution_count": 1,
   "metadata": {},
   "outputs": [],
   "source": [
    "# importing necessary library\n",
    "\n",
    "import pandas as pd"
   ]
  },
  {
   "cell_type": "code",
   "execution_count": 2,
   "metadata": {},
   "outputs": [],
   "source": [
    "# Loading data\n",
    "\n",
    "df = pd.read_csv('CSV file - DA Assignment (3).csv')"
   ]
  },
  {
   "cell_type": "code",
   "execution_count": 3,
   "metadata": {},
   "outputs": [
    {
     "data": {
      "text/plain": [
       "Index(['order_id', 'user_id', 'team_leader', 'processing_at'], dtype='object')"
      ]
     },
     "execution_count": 3,
     "metadata": {},
     "output_type": "execute_result"
    }
   ],
   "source": [
    "df.columns"
   ]
  },
  {
   "cell_type": "code",
   "execution_count": 4,
   "metadata": {},
   "outputs": [],
   "source": [
    "# converting processing_at columnn to date format\n",
    "\n",
    "df['processing_at'] = pd.to_datetime(df['processing_at'])"
   ]
  },
  {
   "cell_type": "code",
   "execution_count": 5,
   "metadata": {},
   "outputs": [],
   "source": [
    "# Extracing month from date\n",
    "\n",
    "df['month'] = df['processing_at'].dt.month\n",
    "\n",
    "# sorting by dates\n",
    "\n",
    "df.sort_values('processing_at', inplace=True)"
   ]
  },
  {
   "cell_type": "code",
   "execution_count": 6,
   "metadata": {},
   "outputs": [
    {
     "data": {
      "text/html": [
       "<div>\n",
       "<style scoped>\n",
       "    .dataframe tbody tr th:only-of-type {\n",
       "        vertical-align: middle;\n",
       "    }\n",
       "\n",
       "    .dataframe tbody tr th {\n",
       "        vertical-align: top;\n",
       "    }\n",
       "\n",
       "    .dataframe thead th {\n",
       "        text-align: right;\n",
       "    }\n",
       "</style>\n",
       "<table border=\"1\" class=\"dataframe\">\n",
       "  <thead>\n",
       "    <tr style=\"text-align: right;\">\n",
       "      <th></th>\n",
       "      <th>order_id</th>\n",
       "      <th>user_id</th>\n",
       "      <th>team_leader</th>\n",
       "      <th>processing_at</th>\n",
       "      <th>month</th>\n",
       "    </tr>\n",
       "  </thead>\n",
       "  <tbody>\n",
       "    <tr>\n",
       "      <th>48611</th>\n",
       "      <td>26979</td>\n",
       "      <td>120351</td>\n",
       "      <td>27ed872a-7fd4-44c2-8538-a5077017f1e4</td>\n",
       "      <td>2020-03-01</td>\n",
       "      <td>3</td>\n",
       "    </tr>\n",
       "    <tr>\n",
       "      <th>48176</th>\n",
       "      <td>26973</td>\n",
       "      <td>98827</td>\n",
       "      <td>27ed872a-7fd4-44c2-8538-a5077017f1e4</td>\n",
       "      <td>2020-03-01</td>\n",
       "      <td>3</td>\n",
       "    </tr>\n",
       "    <tr>\n",
       "      <th>47588</th>\n",
       "      <td>26939</td>\n",
       "      <td>95614</td>\n",
       "      <td>7ea97cf5-8a30-4598-ac56-7978269e46a1</td>\n",
       "      <td>2020-03-01</td>\n",
       "      <td>3</td>\n",
       "    </tr>\n",
       "    <tr>\n",
       "      <th>48175</th>\n",
       "      <td>26971</td>\n",
       "      <td>99337</td>\n",
       "      <td>27ed872a-7fd4-44c2-8538-a5077017f1e4</td>\n",
       "      <td>2020-03-01</td>\n",
       "      <td>3</td>\n",
       "    </tr>\n",
       "    <tr>\n",
       "      <th>48230</th>\n",
       "      <td>26964</td>\n",
       "      <td>99336</td>\n",
       "      <td>27ed872a-7fd4-44c2-8538-a5077017f1e4</td>\n",
       "      <td>2020-03-01</td>\n",
       "      <td>3</td>\n",
       "    </tr>\n",
       "  </tbody>\n",
       "</table>\n",
       "</div>"
      ],
      "text/plain": [
       "       order_id  user_id                           team_leader processing_at  \\\n",
       "48611     26979   120351  27ed872a-7fd4-44c2-8538-a5077017f1e4    2020-03-01   \n",
       "48176     26973    98827  27ed872a-7fd4-44c2-8538-a5077017f1e4    2020-03-01   \n",
       "47588     26939    95614  7ea97cf5-8a30-4598-ac56-7978269e46a1    2020-03-01   \n",
       "48175     26971    99337  27ed872a-7fd4-44c2-8538-a5077017f1e4    2020-03-01   \n",
       "48230     26964    99336  27ed872a-7fd4-44c2-8538-a5077017f1e4    2020-03-01   \n",
       "\n",
       "       month  \n",
       "48611      3  \n",
       "48176      3  \n",
       "47588      3  \n",
       "48175      3  \n",
       "48230      3  "
      ]
     },
     "execution_count": 6,
     "metadata": {},
     "output_type": "execute_result"
    }
   ],
   "source": [
    "df.head()"
   ]
  },
  {
   "cell_type": "code",
   "execution_count": 7,
   "metadata": {},
   "outputs": [
    {
     "data": {
      "text/plain": [
       "array([False, False, False, False, False])"
      ]
     },
     "execution_count": 7,
     "metadata": {},
     "output_type": "execute_result"
    }
   ],
   "source": [
    "df.columns.isnull()"
   ]
  },
  {
   "cell_type": "code",
   "execution_count": 9,
   "metadata": {},
   "outputs": [
    {
     "data": {
      "text/plain": [
       "array([3, 4, 5, 6, 7, 8])"
      ]
     },
     "execution_count": 9,
     "metadata": {},
     "output_type": "execute_result"
    }
   ],
   "source": [
    "df.month.unique()"
   ]
  },
  {
   "cell_type": "markdown",
   "metadata": {},
   "source": [
    "## 1. Customers who ordered: Number of customers who ordered in the month of July"
   ]
  },
  {
   "cell_type": "markdown",
   "metadata": {},
   "source": [
    "### Result"
   ]
  },
  {
   "cell_type": "code",
   "execution_count": 13,
   "metadata": {},
   "outputs": [
    {
     "data": {
      "text/plain": [
       "7677     129126\n",
       "7337     106622\n",
       "5324     120207\n",
       "6897     135012\n",
       "5280     122063\n",
       "          ...  \n",
       "56887    152397\n",
       "59134    103689\n",
       "56886    114230\n",
       "56884    141204\n",
       "55048    130338\n",
       "Name: user_id, Length: 18762, dtype: int64"
      ]
     },
     "execution_count": 13,
     "metadata": {},
     "output_type": "execute_result"
    }
   ],
   "source": [
    "df[df['month']==7]['user_id']"
   ]
  },
  {
   "cell_type": "code",
   "execution_count": 12,
   "metadata": {},
   "outputs": [
    {
     "data": {
      "text/plain": [
       "6693"
      ]
     },
     "execution_count": 12,
     "metadata": {},
     "output_type": "execute_result"
    }
   ],
   "source": [
    "x = list(df[df['month']==7]['user_id'].unique())\n",
    "len(x)"
   ]
  },
  {
   "cell_type": "code",
   "execution_count": 8,
   "metadata": {},
   "outputs": [
    {
     "name": "stdout",
     "output_type": "stream",
     "text": [
      "No.of customers who ordered in the month of july:  6693\n"
     ]
    }
   ],
   "source": [
    "print('No.of customers who ordered in the month of july: ',df[df['month']==7]['user_id'].nunique())\n"
   ]
  },
  {
   "cell_type": "code",
   "execution_count": 9,
   "metadata": {},
   "outputs": [
    {
     "name": "stdout",
     "output_type": "stream",
     "text": [
      "Top 5 customers \n",
      "\n",
      "user_id - No. of orders\n",
      "114621    70\n",
      "137164    55\n",
      "98349     49\n",
      "128753    46\n",
      "114746    45\n",
      "Name: user_id, dtype: int64\n"
     ]
    }
   ],
   "source": [
    "print('Top 5 customers \\n')\n",
    "print('user_id - No. of orders')\n",
    "print(df[df['month']==7]['user_id'].value_counts().nlargest(5))"
   ]
  },
  {
   "cell_type": "markdown",
   "metadata": {},
   "source": [
    "## 2. Acquired customers: Number of customers who ordered in July for the first time, i.e. they did not place an order before July"
   ]
  },
  {
   "cell_type": "code",
   "execution_count": 10,
   "metadata": {},
   "outputs": [],
   "source": [
    "lst = []\n",
    "for i in list(df[df['month']==7]['user_id'].unique()):\n",
    "    if i not in list(df[df['month']!=7]['user_id'].unique()):\n",
    "        lst.append(i)\n",
    "        "
   ]
  },
  {
   "cell_type": "markdown",
   "metadata": {},
   "source": [
    "### Result"
   ]
  },
  {
   "cell_type": "code",
   "execution_count": 11,
   "metadata": {},
   "outputs": [
    {
     "name": "stdout",
     "output_type": "stream",
     "text": [
      "No.of Acquired customers ordered first time in July:  3341\n"
     ]
    }
   ],
   "source": [
    "print('No.of Acquired customers ordered first time in July: ',len(lst))"
   ]
  },
  {
   "cell_type": "markdown",
   "metadata": {},
   "source": [
    "## 3. Resurrected customers: Number of customers who ordered in July, but did not place an order in June, but had placed orders before June"
   ]
  },
  {
   "cell_type": "code",
   "execution_count": 12,
   "metadata": {},
   "outputs": [],
   "source": [
    "lst_1 = []\n",
    "for i in list(df[(df['month']==7) | (df['month']<6)].user_id.unique()):\n",
    "    if i not in list(df[df['month']==6]['user_id'].unique()):\n",
    "        lst_1.append(i)"
   ]
  },
  {
   "cell_type": "markdown",
   "metadata": {},
   "source": [
    "### Result"
   ]
  },
  {
   "cell_type": "code",
   "execution_count": 13,
   "metadata": {},
   "outputs": [
    {
     "name": "stdout",
     "output_type": "stream",
     "text": [
      "No.of Resurrected customers ordered in July and before june(not in June):  7312\n"
     ]
    }
   ],
   "source": [
    "print('No.of Resurrected customers ordered in July and before june(not in June): ',len(lst_1))"
   ]
  },
  {
   "cell_type": "markdown",
   "metadata": {},
   "source": [
    "## 4. Churned customers: Number of customers who had ordered in June but did not order in July."
   ]
  },
  {
   "cell_type": "code",
   "execution_count": 14,
   "metadata": {},
   "outputs": [],
   "source": [
    "lst_2 = []\n",
    "for i in list(df[df['month']==6].user_id.unique()):\n",
    "    if i not in list(df[df['month']==7]['user_id'].unique()):\n",
    "        lst_2.append(i)"
   ]
  },
  {
   "cell_type": "markdown",
   "metadata": {},
   "source": [
    "### Result"
   ]
  },
  {
   "cell_type": "code",
   "execution_count": 15,
   "metadata": {},
   "outputs": [
    {
     "name": "stdout",
     "output_type": "stream",
     "text": [
      "No.of Churned customers ordered in June but did not order in July:  3378\n"
     ]
    }
   ],
   "source": [
    "print('No.of Churned customers ordered in June but did not order in July: ',len(lst_2))"
   ]
  },
  {
   "cell_type": "markdown",
   "metadata": {},
   "source": [
    "## 5. First order date in July: List of customers with their first order date in July month (not lifetime first order), who has already ordered in June."
   ]
  },
  {
   "cell_type": "code",
   "execution_count": 26,
   "metadata": {},
   "outputs": [],
   "source": [
    "x = df[(df['month']==7) | (df['month']==6)].reset_index(drop=True)\n",
    "\n",
    "# x.head()"
   ]
  },
  {
   "cell_type": "code",
   "execution_count": 27,
   "metadata": {},
   "outputs": [],
   "source": [
    "v= x.groupby([ 'user_id', 'month'])[['processing_at', 'order_id']].transform('first').add_prefix('First_')"
   ]
  },
  {
   "cell_type": "code",
   "execution_count": 29,
   "metadata": {},
   "outputs": [],
   "source": [
    "x = pd.concat([x, v], axis=1)\n",
    "\n",
    "# x.sample(20)"
   ]
  },
  {
   "cell_type": "code",
   "execution_count": 18,
   "metadata": {},
   "outputs": [
    {
     "data": {
      "text/plain": [
       "(1835, 1835)"
      ]
     },
     "execution_count": 18,
     "metadata": {},
     "output_type": "execute_result"
    }
   ],
   "source": [
    "lst_user = []\n",
    "lst_date = []\n",
    "\n",
    "for i in list(x[x['month']==7].user_id.unique()):\n",
    "    if i in list(x[x['month']==6]['user_id'].unique()):\n",
    "        lst_user.append(i)\n",
    "\n",
    "for i in lst_user:\n",
    "    lst_date.append(x[(x['month']==7) & (x['user_id']==i) ]['First_processing_at'].unique())\n",
    "    \n",
    "len(lst_user), len(lst_date)"
   ]
  },
  {
   "cell_type": "code",
   "execution_count": 19,
   "metadata": {},
   "outputs": [],
   "source": [
    "user = pd.DataFrame(lst_user, columns=['user'])\n",
    "\n",
    "date = pd.DataFrame(lst_date, columns=['date_of_first_order_in_July'])\n",
    "\n",
    "data = pd.concat([user, date], axis=1)"
   ]
  },
  {
   "cell_type": "markdown",
   "metadata": {},
   "source": [
    "### Result"
   ]
  },
  {
   "cell_type": "code",
   "execution_count": 21,
   "metadata": {},
   "outputs": [
    {
     "data": {
      "text/html": [
       "<div>\n",
       "<style scoped>\n",
       "    .dataframe tbody tr th:only-of-type {\n",
       "        vertical-align: middle;\n",
       "    }\n",
       "\n",
       "    .dataframe tbody tr th {\n",
       "        vertical-align: top;\n",
       "    }\n",
       "\n",
       "    .dataframe thead th {\n",
       "        text-align: right;\n",
       "    }\n",
       "</style>\n",
       "<table border=\"1\" class=\"dataframe\">\n",
       "  <thead>\n",
       "    <tr style=\"text-align: right;\">\n",
       "      <th></th>\n",
       "      <th>user</th>\n",
       "      <th>date_of_first_order_in_July</th>\n",
       "    </tr>\n",
       "  </thead>\n",
       "  <tbody>\n",
       "    <tr>\n",
       "      <th>1771</th>\n",
       "      <td>129660</td>\n",
       "      <td>2020-07-28</td>\n",
       "    </tr>\n",
       "    <tr>\n",
       "      <th>501</th>\n",
       "      <td>119174</td>\n",
       "      <td>2020-07-03</td>\n",
       "    </tr>\n",
       "    <tr>\n",
       "      <th>512</th>\n",
       "      <td>127538</td>\n",
       "      <td>2020-07-03</td>\n",
       "    </tr>\n",
       "    <tr>\n",
       "      <th>934</th>\n",
       "      <td>131552</td>\n",
       "      <td>2020-07-08</td>\n",
       "    </tr>\n",
       "    <tr>\n",
       "      <th>147</th>\n",
       "      <td>114666</td>\n",
       "      <td>2020-07-01</td>\n",
       "    </tr>\n",
       "    <tr>\n",
       "      <th>1542</th>\n",
       "      <td>118138</td>\n",
       "      <td>2020-07-19</td>\n",
       "    </tr>\n",
       "    <tr>\n",
       "      <th>681</th>\n",
       "      <td>104836</td>\n",
       "      <td>2020-07-05</td>\n",
       "    </tr>\n",
       "    <tr>\n",
       "      <th>510</th>\n",
       "      <td>110854</td>\n",
       "      <td>2020-07-03</td>\n",
       "    </tr>\n",
       "    <tr>\n",
       "      <th>685</th>\n",
       "      <td>121687</td>\n",
       "      <td>2020-07-05</td>\n",
       "    </tr>\n",
       "    <tr>\n",
       "      <th>1803</th>\n",
       "      <td>102769</td>\n",
       "      <td>2020-07-30</td>\n",
       "    </tr>\n",
       "    <tr>\n",
       "      <th>713</th>\n",
       "      <td>126319</td>\n",
       "      <td>2020-07-05</td>\n",
       "    </tr>\n",
       "    <tr>\n",
       "      <th>1045</th>\n",
       "      <td>109263</td>\n",
       "      <td>2020-07-10</td>\n",
       "    </tr>\n",
       "    <tr>\n",
       "      <th>1634</th>\n",
       "      <td>123270</td>\n",
       "      <td>2020-07-22</td>\n",
       "    </tr>\n",
       "    <tr>\n",
       "      <th>1625</th>\n",
       "      <td>122331</td>\n",
       "      <td>2020-07-21</td>\n",
       "    </tr>\n",
       "    <tr>\n",
       "      <th>687</th>\n",
       "      <td>126466</td>\n",
       "      <td>2020-07-05</td>\n",
       "    </tr>\n",
       "  </tbody>\n",
       "</table>\n",
       "</div>"
      ],
      "text/plain": [
       "        user date_of_first_order_in_July\n",
       "1771  129660                  2020-07-28\n",
       "501   119174                  2020-07-03\n",
       "512   127538                  2020-07-03\n",
       "934   131552                  2020-07-08\n",
       "147   114666                  2020-07-01\n",
       "1542  118138                  2020-07-19\n",
       "681   104836                  2020-07-05\n",
       "510   110854                  2020-07-03\n",
       "685   121687                  2020-07-05\n",
       "1803  102769                  2020-07-30\n",
       "713   126319                  2020-07-05\n",
       "1045  109263                  2020-07-10\n",
       "1634  123270                  2020-07-22\n",
       "1625  122331                  2020-07-21\n",
       "687   126466                  2020-07-05"
      ]
     },
     "execution_count": 21,
     "metadata": {},
     "output_type": "execute_result"
    }
   ],
   "source": [
    "data.sample(15)"
   ]
  },
  {
   "cell_type": "code",
   "execution_count": null,
   "metadata": {},
   "outputs": [],
   "source": []
  }
 ],
 "metadata": {
  "hide_input": false,
  "kernelspec": {
   "display_name": "Python 3",
   "language": "python",
   "name": "python3"
  },
  "language_info": {
   "codemirror_mode": {
    "name": "ipython",
    "version": 3
   },
   "file_extension": ".py",
   "mimetype": "text/x-python",
   "name": "python",
   "nbconvert_exporter": "python",
   "pygments_lexer": "ipython3",
   "version": "3.8.5"
  },
  "toc": {
   "base_numbering": 1,
   "nav_menu": {},
   "number_sections": false,
   "sideBar": true,
   "skip_h1_title": false,
   "title_cell": "Table of Contents",
   "title_sidebar": "Contents",
   "toc_cell": false,
   "toc_position": {},
   "toc_section_display": true,
   "toc_window_display": false
  }
 },
 "nbformat": 4,
 "nbformat_minor": 4
}
