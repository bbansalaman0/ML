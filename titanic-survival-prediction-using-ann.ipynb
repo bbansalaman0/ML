{
 "cells": [
  {
   "cell_type": "markdown",
   "metadata": {
    "papermill": {
     "duration": 0.030064,
     "end_time": "2020-12-10T14:04:39.461547",
     "exception": false,
     "start_time": "2020-12-10T14:04:39.431483",
     "status": "completed"
    },
    "tags": []
   },
   "source": [
    "# Titanic Survival Prediction\n",
    "The reason for this analysis and model is to predict wether or not a person on the titanic will survive or not based on various features such as age, class, sex and where they embarked."
   ]
  },
  {
   "cell_type": "code",
   "execution_count": 1,
   "metadata": {
    "_cell_guid": "b1076dfc-b9ad-4769-8c92-a6c4dae69d19",
    "_uuid": "8f2839f25d086af736a60e9eeb907d3b93b6e0e5",
    "execution": {
     "iopub.execute_input": "2020-12-10T14:04:39.526648Z",
     "iopub.status.busy": "2020-12-10T14:04:39.525867Z",
     "iopub.status.idle": "2020-12-10T14:04:40.700048Z",
     "shell.execute_reply": "2020-12-10T14:04:40.700806Z"
    },
    "papermill": {
     "duration": 1.210803,
     "end_time": "2020-12-10T14:04:40.701077",
     "exception": false,
     "start_time": "2020-12-10T14:04:39.490274",
     "status": "completed"
    },
    "tags": []
   },
   "outputs": [
    {
     "name": "stdout",
     "output_type": "stream",
     "text": [
      "/kaggle/input/titanic/train.csv\n",
      "/kaggle/input/titanic/test.csv\n",
      "/kaggle/input/titanic/gender_submission.csv\n"
     ]
    }
   ],
   "source": [
    "import numpy as np\n",
    "import pandas as pd\n",
    "import matplotlib.pyplot as plt\n",
    "import seaborn as sb\n",
    "\n",
    "import os\n",
    "for dirname, _, filenames in os.walk('/kaggle/input'):\n",
    "    for filename in filenames:\n",
    "        print(os.path.join(dirname, filename))"
   ]
  },
  {
   "cell_type": "code",
   "execution_count": 2,
   "metadata": {
    "_cell_guid": "79c7e3d0-c299-4dcb-8224-4455121ee9b0",
    "_uuid": "d629ff2d2480ee46fbb7e2d37f6b5fab8052498a",
    "execution": {
     "iopub.execute_input": "2020-12-10T14:04:40.768511Z",
     "iopub.status.busy": "2020-12-10T14:04:40.767699Z",
     "iopub.status.idle": "2020-12-10T14:04:40.794411Z",
     "shell.execute_reply": "2020-12-10T14:04:40.793730Z"
    },
    "papermill": {
     "duration": 0.06311,
     "end_time": "2020-12-10T14:04:40.794561",
     "exception": false,
     "start_time": "2020-12-10T14:04:40.731451",
     "status": "completed"
    },
    "tags": []
   },
   "outputs": [],
   "source": [
    "train_set = pd.read_csv('/kaggle/input/titanic/train.csv')\n",
    "test_set = pd.read_csv('/kaggle/input/titanic/test.csv')"
   ]
  },
  {
   "cell_type": "markdown",
   "metadata": {
    "papermill": {
     "duration": 0.029066,
     "end_time": "2020-12-10T14:04:40.853324",
     "exception": false,
     "start_time": "2020-12-10T14:04:40.824258",
     "status": "completed"
    },
    "tags": []
   },
   "source": [
    "## Variable Identification\n",
    "First I will explore each variable first, I want to find out the data type of each and how many null entries I have in the dataset."
   ]
  },
  {
   "cell_type": "code",
   "execution_count": 3,
   "metadata": {
    "execution": {
     "iopub.execute_input": "2020-12-10T14:04:40.937048Z",
     "iopub.status.busy": "2020-12-10T14:04:40.931689Z",
     "iopub.status.idle": "2020-12-10T14:04:40.951258Z",
     "shell.execute_reply": "2020-12-10T14:04:40.950648Z"
    },
    "papermill": {
     "duration": 0.06887,
     "end_time": "2020-12-10T14:04:40.951389",
     "exception": false,
     "start_time": "2020-12-10T14:04:40.882519",
     "status": "completed"
    },
    "tags": []
   },
   "outputs": [
    {
     "data": {
      "text/html": [
       "<div>\n",
       "<style scoped>\n",
       "    .dataframe tbody tr th:only-of-type {\n",
       "        vertical-align: middle;\n",
       "    }\n",
       "\n",
       "    .dataframe tbody tr th {\n",
       "        vertical-align: top;\n",
       "    }\n",
       "\n",
       "    .dataframe thead th {\n",
       "        text-align: right;\n",
       "    }\n",
       "</style>\n",
       "<table border=\"1\" class=\"dataframe\">\n",
       "  <thead>\n",
       "    <tr style=\"text-align: right;\">\n",
       "      <th></th>\n",
       "      <th>PassengerId</th>\n",
       "      <th>Survived</th>\n",
       "      <th>Pclass</th>\n",
       "      <th>Name</th>\n",
       "      <th>Sex</th>\n",
       "      <th>Age</th>\n",
       "      <th>SibSp</th>\n",
       "      <th>Parch</th>\n",
       "      <th>Ticket</th>\n",
       "      <th>Fare</th>\n",
       "      <th>Cabin</th>\n",
       "      <th>Embarked</th>\n",
       "    </tr>\n",
       "  </thead>\n",
       "  <tbody>\n",
       "    <tr>\n",
       "      <th>0</th>\n",
       "      <td>1</td>\n",
       "      <td>0</td>\n",
       "      <td>3</td>\n",
       "      <td>Braund, Mr. Owen Harris</td>\n",
       "      <td>male</td>\n",
       "      <td>22.0</td>\n",
       "      <td>1</td>\n",
       "      <td>0</td>\n",
       "      <td>A/5 21171</td>\n",
       "      <td>7.2500</td>\n",
       "      <td>NaN</td>\n",
       "      <td>S</td>\n",
       "    </tr>\n",
       "    <tr>\n",
       "      <th>1</th>\n",
       "      <td>2</td>\n",
       "      <td>1</td>\n",
       "      <td>1</td>\n",
       "      <td>Cumings, Mrs. John Bradley (Florence Briggs Th...</td>\n",
       "      <td>female</td>\n",
       "      <td>38.0</td>\n",
       "      <td>1</td>\n",
       "      <td>0</td>\n",
       "      <td>PC 17599</td>\n",
       "      <td>71.2833</td>\n",
       "      <td>C85</td>\n",
       "      <td>C</td>\n",
       "    </tr>\n",
       "    <tr>\n",
       "      <th>2</th>\n",
       "      <td>3</td>\n",
       "      <td>1</td>\n",
       "      <td>3</td>\n",
       "      <td>Heikkinen, Miss. Laina</td>\n",
       "      <td>female</td>\n",
       "      <td>26.0</td>\n",
       "      <td>0</td>\n",
       "      <td>0</td>\n",
       "      <td>STON/O2. 3101282</td>\n",
       "      <td>7.9250</td>\n",
       "      <td>NaN</td>\n",
       "      <td>S</td>\n",
       "    </tr>\n",
       "    <tr>\n",
       "      <th>3</th>\n",
       "      <td>4</td>\n",
       "      <td>1</td>\n",
       "      <td>1</td>\n",
       "      <td>Futrelle, Mrs. Jacques Heath (Lily May Peel)</td>\n",
       "      <td>female</td>\n",
       "      <td>35.0</td>\n",
       "      <td>1</td>\n",
       "      <td>0</td>\n",
       "      <td>113803</td>\n",
       "      <td>53.1000</td>\n",
       "      <td>C123</td>\n",
       "      <td>S</td>\n",
       "    </tr>\n",
       "    <tr>\n",
       "      <th>4</th>\n",
       "      <td>5</td>\n",
       "      <td>0</td>\n",
       "      <td>3</td>\n",
       "      <td>Allen, Mr. William Henry</td>\n",
       "      <td>male</td>\n",
       "      <td>35.0</td>\n",
       "      <td>0</td>\n",
       "      <td>0</td>\n",
       "      <td>373450</td>\n",
       "      <td>8.0500</td>\n",
       "      <td>NaN</td>\n",
       "      <td>S</td>\n",
       "    </tr>\n",
       "  </tbody>\n",
       "</table>\n",
       "</div>"
      ],
      "text/plain": [
       "   PassengerId  Survived  Pclass  \\\n",
       "0            1         0       3   \n",
       "1            2         1       1   \n",
       "2            3         1       3   \n",
       "3            4         1       1   \n",
       "4            5         0       3   \n",
       "\n",
       "                                                Name     Sex   Age  SibSp  \\\n",
       "0                            Braund, Mr. Owen Harris    male  22.0      1   \n",
       "1  Cumings, Mrs. John Bradley (Florence Briggs Th...  female  38.0      1   \n",
       "2                             Heikkinen, Miss. Laina  female  26.0      0   \n",
       "3       Futrelle, Mrs. Jacques Heath (Lily May Peel)  female  35.0      1   \n",
       "4                           Allen, Mr. William Henry    male  35.0      0   \n",
       "\n",
       "   Parch            Ticket     Fare Cabin Embarked  \n",
       "0      0         A/5 21171   7.2500   NaN        S  \n",
       "1      0          PC 17599  71.2833   C85        C  \n",
       "2      0  STON/O2. 3101282   7.9250   NaN        S  \n",
       "3      0            113803  53.1000  C123        S  \n",
       "4      0            373450   8.0500   NaN        S  "
      ]
     },
     "execution_count": 3,
     "metadata": {},
     "output_type": "execute_result"
    }
   ],
   "source": [
    "train_set.head()"
   ]
  },
  {
   "cell_type": "markdown",
   "metadata": {
    "papermill": {
     "duration": 0.030172,
     "end_time": "2020-12-10T14:04:41.012624",
     "exception": false,
     "start_time": "2020-12-10T14:04:40.982452",
     "status": "completed"
    },
    "tags": []
   },
   "source": [
    "I am going to change the index to Passenger ID as this is the same as the index we have already making the column redundent."
   ]
  },
  {
   "cell_type": "code",
   "execution_count": 4,
   "metadata": {
    "execution": {
     "iopub.execute_input": "2020-12-10T14:04:41.081938Z",
     "iopub.status.busy": "2020-12-10T14:04:41.080301Z",
     "iopub.status.idle": "2020-12-10T14:04:41.085587Z",
     "shell.execute_reply": "2020-12-10T14:04:41.084751Z"
    },
    "papermill": {
     "duration": 0.040805,
     "end_time": "2020-12-10T14:04:41.085723",
     "exception": false,
     "start_time": "2020-12-10T14:04:41.044918",
     "status": "completed"
    },
    "tags": []
   },
   "outputs": [],
   "source": [
    "train_set = train_set.set_index('PassengerId')"
   ]
  },
  {
   "cell_type": "code",
   "execution_count": 5,
   "metadata": {
    "execution": {
     "iopub.execute_input": "2020-12-10T14:04:41.166257Z",
     "iopub.status.busy": "2020-12-10T14:04:41.165202Z",
     "iopub.status.idle": "2020-12-10T14:04:41.170429Z",
     "shell.execute_reply": "2020-12-10T14:04:41.169586Z"
    },
    "papermill": {
     "duration": 0.054313,
     "end_time": "2020-12-10T14:04:41.170569",
     "exception": false,
     "start_time": "2020-12-10T14:04:41.116256",
     "status": "completed"
    },
    "tags": []
   },
   "outputs": [
    {
     "data": {
      "text/html": [
       "<div>\n",
       "<style scoped>\n",
       "    .dataframe tbody tr th:only-of-type {\n",
       "        vertical-align: middle;\n",
       "    }\n",
       "\n",
       "    .dataframe tbody tr th {\n",
       "        vertical-align: top;\n",
       "    }\n",
       "\n",
       "    .dataframe thead th {\n",
       "        text-align: right;\n",
       "    }\n",
       "</style>\n",
       "<table border=\"1\" class=\"dataframe\">\n",
       "  <thead>\n",
       "    <tr style=\"text-align: right;\">\n",
       "      <th></th>\n",
       "      <th>Survived</th>\n",
       "      <th>Pclass</th>\n",
       "      <th>Name</th>\n",
       "      <th>Sex</th>\n",
       "      <th>Age</th>\n",
       "      <th>SibSp</th>\n",
       "      <th>Parch</th>\n",
       "      <th>Ticket</th>\n",
       "      <th>Fare</th>\n",
       "      <th>Cabin</th>\n",
       "      <th>Embarked</th>\n",
       "    </tr>\n",
       "    <tr>\n",
       "      <th>PassengerId</th>\n",
       "      <th></th>\n",
       "      <th></th>\n",
       "      <th></th>\n",
       "      <th></th>\n",
       "      <th></th>\n",
       "      <th></th>\n",
       "      <th></th>\n",
       "      <th></th>\n",
       "      <th></th>\n",
       "      <th></th>\n",
       "      <th></th>\n",
       "    </tr>\n",
       "  </thead>\n",
       "  <tbody>\n",
       "    <tr>\n",
       "      <th>1</th>\n",
       "      <td>0</td>\n",
       "      <td>3</td>\n",
       "      <td>Braund, Mr. Owen Harris</td>\n",
       "      <td>male</td>\n",
       "      <td>22.0</td>\n",
       "      <td>1</td>\n",
       "      <td>0</td>\n",
       "      <td>A/5 21171</td>\n",
       "      <td>7.2500</td>\n",
       "      <td>NaN</td>\n",
       "      <td>S</td>\n",
       "    </tr>\n",
       "    <tr>\n",
       "      <th>2</th>\n",
       "      <td>1</td>\n",
       "      <td>1</td>\n",
       "      <td>Cumings, Mrs. John Bradley (Florence Briggs Th...</td>\n",
       "      <td>female</td>\n",
       "      <td>38.0</td>\n",
       "      <td>1</td>\n",
       "      <td>0</td>\n",
       "      <td>PC 17599</td>\n",
       "      <td>71.2833</td>\n",
       "      <td>C85</td>\n",
       "      <td>C</td>\n",
       "    </tr>\n",
       "    <tr>\n",
       "      <th>3</th>\n",
       "      <td>1</td>\n",
       "      <td>3</td>\n",
       "      <td>Heikkinen, Miss. Laina</td>\n",
       "      <td>female</td>\n",
       "      <td>26.0</td>\n",
       "      <td>0</td>\n",
       "      <td>0</td>\n",
       "      <td>STON/O2. 3101282</td>\n",
       "      <td>7.9250</td>\n",
       "      <td>NaN</td>\n",
       "      <td>S</td>\n",
       "    </tr>\n",
       "    <tr>\n",
       "      <th>4</th>\n",
       "      <td>1</td>\n",
       "      <td>1</td>\n",
       "      <td>Futrelle, Mrs. Jacques Heath (Lily May Peel)</td>\n",
       "      <td>female</td>\n",
       "      <td>35.0</td>\n",
       "      <td>1</td>\n",
       "      <td>0</td>\n",
       "      <td>113803</td>\n",
       "      <td>53.1000</td>\n",
       "      <td>C123</td>\n",
       "      <td>S</td>\n",
       "    </tr>\n",
       "    <tr>\n",
       "      <th>5</th>\n",
       "      <td>0</td>\n",
       "      <td>3</td>\n",
       "      <td>Allen, Mr. William Henry</td>\n",
       "      <td>male</td>\n",
       "      <td>35.0</td>\n",
       "      <td>0</td>\n",
       "      <td>0</td>\n",
       "      <td>373450</td>\n",
       "      <td>8.0500</td>\n",
       "      <td>NaN</td>\n",
       "      <td>S</td>\n",
       "    </tr>\n",
       "  </tbody>\n",
       "</table>\n",
       "</div>"
      ],
      "text/plain": [
       "             Survived  Pclass  \\\n",
       "PassengerId                     \n",
       "1                   0       3   \n",
       "2                   1       1   \n",
       "3                   1       3   \n",
       "4                   1       1   \n",
       "5                   0       3   \n",
       "\n",
       "                                                          Name     Sex   Age  \\\n",
       "PassengerId                                                                    \n",
       "1                                      Braund, Mr. Owen Harris    male  22.0   \n",
       "2            Cumings, Mrs. John Bradley (Florence Briggs Th...  female  38.0   \n",
       "3                                       Heikkinen, Miss. Laina  female  26.0   \n",
       "4                 Futrelle, Mrs. Jacques Heath (Lily May Peel)  female  35.0   \n",
       "5                                     Allen, Mr. William Henry    male  35.0   \n",
       "\n",
       "             SibSp  Parch            Ticket     Fare Cabin Embarked  \n",
       "PassengerId                                                          \n",
       "1                1      0         A/5 21171   7.2500   NaN        S  \n",
       "2                1      0          PC 17599  71.2833   C85        C  \n",
       "3                0      0  STON/O2. 3101282   7.9250   NaN        S  \n",
       "4                1      0            113803  53.1000  C123        S  \n",
       "5                0      0            373450   8.0500   NaN        S  "
      ]
     },
     "execution_count": 5,
     "metadata": {},
     "output_type": "execute_result"
    }
   ],
   "source": [
    "train_set.head()"
   ]
  },
  {
   "cell_type": "markdown",
   "metadata": {
    "papermill": {
     "duration": 0.031694,
     "end_time": "2020-12-10T14:04:41.234629",
     "exception": false,
     "start_time": "2020-12-10T14:04:41.202935",
     "status": "completed"
    },
    "tags": []
   },
   "source": [
    "This shows we have a few text columns and quite a big handful of null entries. Also Cabin has a huge amount of null entires so I will have to do something about this."
   ]
  },
  {
   "cell_type": "code",
   "execution_count": 6,
   "metadata": {
    "execution": {
     "iopub.execute_input": "2020-12-10T14:04:41.313642Z",
     "iopub.status.busy": "2020-12-10T14:04:41.312706Z",
     "iopub.status.idle": "2020-12-10T14:04:41.316876Z",
     "shell.execute_reply": "2020-12-10T14:04:41.316215Z"
    },
    "papermill": {
     "duration": 0.051344,
     "end_time": "2020-12-10T14:04:41.317019",
     "exception": false,
     "start_time": "2020-12-10T14:04:41.265675",
     "status": "completed"
    },
    "tags": []
   },
   "outputs": [
    {
     "name": "stdout",
     "output_type": "stream",
     "text": [
      "<class 'pandas.core.frame.DataFrame'>\n",
      "Int64Index: 891 entries, 1 to 891\n",
      "Data columns (total 11 columns):\n",
      " #   Column    Non-Null Count  Dtype  \n",
      "---  ------    --------------  -----  \n",
      " 0   Survived  891 non-null    int64  \n",
      " 1   Pclass    891 non-null    int64  \n",
      " 2   Name      891 non-null    object \n",
      " 3   Sex       891 non-null    object \n",
      " 4   Age       714 non-null    float64\n",
      " 5   SibSp     891 non-null    int64  \n",
      " 6   Parch     891 non-null    int64  \n",
      " 7   Ticket    891 non-null    object \n",
      " 8   Fare      891 non-null    float64\n",
      " 9   Cabin     204 non-null    object \n",
      " 10  Embarked  889 non-null    object \n",
      "dtypes: float64(2), int64(4), object(5)\n",
      "memory usage: 83.5+ KB\n"
     ]
    }
   ],
   "source": [
    "train_set.info()"
   ]
  },
  {
   "cell_type": "code",
   "execution_count": 7,
   "metadata": {
    "execution": {
     "iopub.execute_input": "2020-12-10T14:04:41.390655Z",
     "iopub.status.busy": "2020-12-10T14:04:41.389836Z",
     "iopub.status.idle": "2020-12-10T14:04:41.419571Z",
     "shell.execute_reply": "2020-12-10T14:04:41.418698Z"
    },
    "papermill": {
     "duration": 0.070104,
     "end_time": "2020-12-10T14:04:41.419713",
     "exception": false,
     "start_time": "2020-12-10T14:04:41.349609",
     "status": "completed"
    },
    "tags": []
   },
   "outputs": [
    {
     "data": {
      "text/html": [
       "<div>\n",
       "<style scoped>\n",
       "    .dataframe tbody tr th:only-of-type {\n",
       "        vertical-align: middle;\n",
       "    }\n",
       "\n",
       "    .dataframe tbody tr th {\n",
       "        vertical-align: top;\n",
       "    }\n",
       "\n",
       "    .dataframe thead th {\n",
       "        text-align: right;\n",
       "    }\n",
       "</style>\n",
       "<table border=\"1\" class=\"dataframe\">\n",
       "  <thead>\n",
       "    <tr style=\"text-align: right;\">\n",
       "      <th></th>\n",
       "      <th>Survived</th>\n",
       "      <th>Pclass</th>\n",
       "      <th>Age</th>\n",
       "      <th>SibSp</th>\n",
       "      <th>Parch</th>\n",
       "      <th>Fare</th>\n",
       "    </tr>\n",
       "  </thead>\n",
       "  <tbody>\n",
       "    <tr>\n",
       "      <th>count</th>\n",
       "      <td>891.000000</td>\n",
       "      <td>891.000000</td>\n",
       "      <td>714.000000</td>\n",
       "      <td>891.000000</td>\n",
       "      <td>891.000000</td>\n",
       "      <td>891.000000</td>\n",
       "    </tr>\n",
       "    <tr>\n",
       "      <th>mean</th>\n",
       "      <td>0.383838</td>\n",
       "      <td>2.308642</td>\n",
       "      <td>29.699118</td>\n",
       "      <td>0.523008</td>\n",
       "      <td>0.381594</td>\n",
       "      <td>32.204208</td>\n",
       "    </tr>\n",
       "    <tr>\n",
       "      <th>std</th>\n",
       "      <td>0.486592</td>\n",
       "      <td>0.836071</td>\n",
       "      <td>14.526497</td>\n",
       "      <td>1.102743</td>\n",
       "      <td>0.806057</td>\n",
       "      <td>49.693429</td>\n",
       "    </tr>\n",
       "    <tr>\n",
       "      <th>min</th>\n",
       "      <td>0.000000</td>\n",
       "      <td>1.000000</td>\n",
       "      <td>0.420000</td>\n",
       "      <td>0.000000</td>\n",
       "      <td>0.000000</td>\n",
       "      <td>0.000000</td>\n",
       "    </tr>\n",
       "    <tr>\n",
       "      <th>25%</th>\n",
       "      <td>0.000000</td>\n",
       "      <td>2.000000</td>\n",
       "      <td>20.125000</td>\n",
       "      <td>0.000000</td>\n",
       "      <td>0.000000</td>\n",
       "      <td>7.910400</td>\n",
       "    </tr>\n",
       "    <tr>\n",
       "      <th>50%</th>\n",
       "      <td>0.000000</td>\n",
       "      <td>3.000000</td>\n",
       "      <td>28.000000</td>\n",
       "      <td>0.000000</td>\n",
       "      <td>0.000000</td>\n",
       "      <td>14.454200</td>\n",
       "    </tr>\n",
       "    <tr>\n",
       "      <th>75%</th>\n",
       "      <td>1.000000</td>\n",
       "      <td>3.000000</td>\n",
       "      <td>38.000000</td>\n",
       "      <td>1.000000</td>\n",
       "      <td>0.000000</td>\n",
       "      <td>31.000000</td>\n",
       "    </tr>\n",
       "    <tr>\n",
       "      <th>max</th>\n",
       "      <td>1.000000</td>\n",
       "      <td>3.000000</td>\n",
       "      <td>80.000000</td>\n",
       "      <td>8.000000</td>\n",
       "      <td>6.000000</td>\n",
       "      <td>512.329200</td>\n",
       "    </tr>\n",
       "  </tbody>\n",
       "</table>\n",
       "</div>"
      ],
      "text/plain": [
       "         Survived      Pclass         Age       SibSp       Parch        Fare\n",
       "count  891.000000  891.000000  714.000000  891.000000  891.000000  891.000000\n",
       "mean     0.383838    2.308642   29.699118    0.523008    0.381594   32.204208\n",
       "std      0.486592    0.836071   14.526497    1.102743    0.806057   49.693429\n",
       "min      0.000000    1.000000    0.420000    0.000000    0.000000    0.000000\n",
       "25%      0.000000    2.000000   20.125000    0.000000    0.000000    7.910400\n",
       "50%      0.000000    3.000000   28.000000    0.000000    0.000000   14.454200\n",
       "75%      1.000000    3.000000   38.000000    1.000000    0.000000   31.000000\n",
       "max      1.000000    3.000000   80.000000    8.000000    6.000000  512.329200"
      ]
     },
     "execution_count": 7,
     "metadata": {},
     "output_type": "execute_result"
    }
   ],
   "source": [
    "train_set.describe()"
   ]
  },
  {
   "cell_type": "markdown",
   "metadata": {
    "papermill": {
     "duration": 0.03292,
     "end_time": "2020-12-10T14:04:41.485247",
     "exception": false,
     "start_time": "2020-12-10T14:04:41.452327",
     "status": "completed"
    },
    "tags": []
   },
   "source": [
    "## Univariate Analysis\n",
    "Now I will visualize some features to try and find some outliers and see if we can find some interesting stats."
   ]
  },
  {
   "cell_type": "code",
   "execution_count": 8,
   "metadata": {
    "execution": {
     "iopub.execute_input": "2020-12-10T14:04:41.558285Z",
     "iopub.status.busy": "2020-12-10T14:04:41.557515Z",
     "iopub.status.idle": "2020-12-10T14:04:41.775161Z",
     "shell.execute_reply": "2020-12-10T14:04:41.774522Z"
    },
    "papermill": {
     "duration": 0.257439,
     "end_time": "2020-12-10T14:04:41.775293",
     "exception": false,
     "start_time": "2020-12-10T14:04:41.517854",
     "status": "completed"
    },
    "tags": []
   },
   "outputs": [
    {
     "data": {
      "text/plain": [
       "<BarContainer object of 3 artists>"
      ]
     },
     "execution_count": 8,
     "metadata": {},
     "output_type": "execute_result"
    },
    {
     "data": {
      "image/png": "[encoded data removed]",
      "text/plain": [
       "<Figure size 432x288 with 1 Axes>"
      ]
     },
     "metadata": {
      "needs_background": "light"
     },
     "output_type": "display_data"
    }
   ],
   "source": [
    "plt.bar(train_set['Pclass'].unique(), train_set['Pclass'].value_counts())"
   ]
  },
  {
   "cell_type": "code",
   "execution_count": 9,
   "metadata": {
    "execution": {
     "iopub.execute_input": "2020-12-10T14:04:41.859626Z",
     "iopub.status.busy": "2020-12-10T14:04:41.858777Z",
     "iopub.status.idle": "2020-12-10T14:04:41.971984Z",
     "shell.execute_reply": "2020-12-10T14:04:41.972524Z"
    },
    "papermill": {
     "duration": 0.162129,
     "end_time": "2020-12-10T14:04:41.972693",
     "exception": false,
     "start_time": "2020-12-10T14:04:41.810564",
     "status": "completed"
    },
    "tags": []
   },
   "outputs": [
    {
     "data": {
      "image/png": "[encoded data removed]",
      "text/plain": [
       "<Figure size 432x288 with 1 Axes>"
      ]
     },
     "metadata": {
      "needs_background": "light"
     },
     "output_type": "display_data"
    }
   ],
   "source": [
    "bar = plt.bar(train_set['Sex'].unique(), train_set['Sex'].value_counts())\n",
    "bar[0].set_color('blue')\n",
    "bar[1].set_color('pink')\n",
    "plt.show()"
   ]
  },
  {
   "cell_type": "code",
   "execution_count": 10,
   "metadata": {
    "execution": {
     "iopub.execute_input": "2020-12-10T14:04:42.048322Z",
     "iopub.status.busy": "2020-12-10T14:04:42.047532Z",
     "iopub.status.idle": "2020-12-10T14:04:42.267187Z",
     "shell.execute_reply": "2020-12-10T14:04:42.266495Z"
    },
    "papermill": {
     "duration": 0.259946,
     "end_time": "2020-12-10T14:04:42.267313",
     "exception": false,
     "start_time": "2020-12-10T14:04:42.007367",
     "status": "completed"
    },
    "tags": []
   },
   "outputs": [
    {
     "data": {
      "text/plain": [
       "<matplotlib.axes._subplots.AxesSubplot at 0x7f35706ee210>"
      ]
     },
     "execution_count": 10,
     "metadata": {},
     "output_type": "execute_result"
    },
    {
     "data": {
      "image/png": "[encoded data removed]",
      "text/plain": [
       "<Figure size 432x288 with 1 Axes>"
      ]
     },
     "metadata": {
      "needs_background": "light"
     },
     "output_type": "display_data"
    }
   ],
   "source": [
    "train_set['Age'].hist()"
   ]
  },
  {
   "cell_type": "markdown",
   "metadata": {
    "papermill": {
     "duration": 0.035839,
     "end_time": "2020-12-10T14:04:42.341187",
     "exception": false,
     "start_time": "2020-12-10T14:04:42.305348",
     "status": "completed"
    },
    "tags": []
   },
   "source": [
    "## Bi-variate Analysis\n",
    "Now I will compare features against each other to try and find some correlation between them."
   ]
  },
  {
   "cell_type": "markdown",
   "metadata": {
    "papermill": {
     "duration": 0.035804,
     "end_time": "2020-12-10T14:04:42.412805",
     "exception": false,
     "start_time": "2020-12-10T14:04:42.377001",
     "status": "completed"
    },
    "tags": []
   },
   "source": [
    "This shows that you are more likely to survive if you are a woman as they were sent of the ship first and over 5 times more likley to not survive if you are a man."
   ]
  },
  {
   "cell_type": "code",
   "execution_count": 11,
   "metadata": {
    "execution": {
     "iopub.execute_input": "2020-12-10T14:04:42.498596Z",
     "iopub.status.busy": "2020-12-10T14:04:42.493480Z",
     "iopub.status.idle": "2020-12-10T14:04:42.640836Z",
     "shell.execute_reply": "2020-12-10T14:04:42.640113Z"
    },
    "papermill": {
     "duration": 0.192317,
     "end_time": "2020-12-10T14:04:42.641001",
     "exception": false,
     "start_time": "2020-12-10T14:04:42.448684",
     "status": "completed"
    },
    "tags": []
   },
   "outputs": [
    {
     "data": {
      "text/plain": [
       "<matplotlib.axes._subplots.AxesSubplot at 0x7f357060a890>"
      ]
     },
     "execution_count": 11,
     "metadata": {},
     "output_type": "execute_result"
    },
    {
     "data": {
      "image/png": "[encoded data removed]",
      "text/plain": [
       "<Figure size 432x288 with 1 Axes>"
      ]
     },
     "metadata": {
      "needs_background": "light"
     },
     "output_type": "display_data"
    }
   ],
   "source": [
    "df = pd.DataFrame({'Gender': train_set['Sex'], 'Survived': train_set['Survived']})\n",
    "total_counts = df.groupby(['Survived', 'Gender']).size()\n",
    "total_counts.plot.bar(rot=0)"
   ]
  },
  {
   "cell_type": "code",
   "execution_count": 12,
   "metadata": {
    "execution": {
     "iopub.execute_input": "2020-12-10T14:04:42.729033Z",
     "iopub.status.busy": "2020-12-10T14:04:42.725710Z",
     "iopub.status.idle": "2020-12-10T14:04:43.183109Z",
     "shell.execute_reply": "2020-12-10T14:04:43.182435Z"
    },
    "papermill": {
     "duration": 0.504331,
     "end_time": "2020-12-10T14:04:43.183250",
     "exception": false,
     "start_time": "2020-12-10T14:04:42.678919",
     "status": "completed"
    },
    "tags": []
   },
   "outputs": [
    {
     "data": {
      "image/png": "[encoded data removed]",
      "text/plain": [
       "<Figure size 1152x1152 with 2 Axes>"
      ]
     },
     "metadata": {
      "needs_background": "light"
     },
     "output_type": "display_data"
    }
   ],
   "source": [
    "def correlation_heatmap(train):\n",
    "    correlations = train.corr()\n",
    "    \n",
    "    fig, ax = plt.subplots(figsize=(16,16))\n",
    "    sb.heatmap(correlations, vmax=1.0, center=0, fmt='.2f', square=True, linewidths=.5, annot=True, cbar_kws={\"shrink\":.70})\n",
    "    plt.show()\n",
    "correlation_heatmap(train_set)"
   ]
  },
  {
   "cell_type": "markdown",
   "metadata": {
    "papermill": {
     "duration": 0.040294,
     "end_time": "2020-12-10T14:04:43.263661",
     "exception": false,
     "start_time": "2020-12-10T14:04:43.223367",
     "status": "completed"
    },
    "tags": []
   },
   "source": [
    "## Missing Values\n",
    "Now I will treat the missing values by first removing the redundant columns like Name, Ticket and Cabin aswel as removing the little handful of null rows."
   ]
  },
  {
   "cell_type": "code",
   "execution_count": 13,
   "metadata": {
    "execution": {
     "iopub.execute_input": "2020-12-10T14:04:43.360153Z",
     "iopub.status.busy": "2020-12-10T14:04:43.359358Z",
     "iopub.status.idle": "2020-12-10T14:04:43.473980Z",
     "shell.execute_reply": "2020-12-10T14:04:43.473318Z"
    },
    "papermill": {
     "duration": 0.170804,
     "end_time": "2020-12-10T14:04:43.474122",
     "exception": false,
     "start_time": "2020-12-10T14:04:43.303318",
     "status": "completed"
    },
    "tags": []
   },
   "outputs": [],
   "source": [
    "def values_drop(set):\n",
    "    set = set.drop('Name', axis=1)\n",
    "    set = set.drop('Ticket', axis=1)\n",
    "    set = set.drop('Cabin', axis=1)\n",
    "    set = set.dropna()\n",
    "    return set\n",
    "def values_drop_test(set):\n",
    "    set = set.drop('Name', axis=1)\n",
    "    set = set.drop('Ticket', axis=1)\n",
    "    set = set.drop('Cabin', axis=1)\n",
    "    return set\n",
    "train_set = values_drop(train_set)\n",
    "test_set = values_drop_test(test_set)"
   ]
  },
  {
   "cell_type": "code",
   "execution_count": 14,
   "metadata": {
    "execution": {
     "iopub.execute_input": "2020-12-10T14:04:43.563627Z",
     "iopub.status.busy": "2020-12-10T14:04:43.562803Z",
     "iopub.status.idle": "2020-12-10T14:04:43.565743Z",
     "shell.execute_reply": "2020-12-10T14:04:43.566319Z"
    },
    "papermill": {
     "duration": 0.050926,
     "end_time": "2020-12-10T14:04:43.566494",
     "exception": false,
     "start_time": "2020-12-10T14:04:43.515568",
     "status": "completed"
    },
    "tags": []
   },
   "outputs": [],
   "source": [
    "test_set = test_set.replace(np.nan, 0)"
   ]
  },
  {
   "cell_type": "code",
   "execution_count": 15,
   "metadata": {
    "execution": {
     "iopub.execute_input": "2020-12-10T14:04:43.663223Z",
     "iopub.status.busy": "2020-12-10T14:04:43.662199Z",
     "iopub.status.idle": "2020-12-10T14:04:43.667779Z",
     "shell.execute_reply": "2020-12-10T14:04:43.667146Z"
    },
    "papermill": {
     "duration": 0.061648,
     "end_time": "2020-12-10T14:04:43.667900",
     "exception": false,
     "start_time": "2020-12-10T14:04:43.606252",
     "status": "completed"
    },
    "tags": []
   },
   "outputs": [
    {
     "data": {
      "text/html": [
       "<div>\n",
       "<style scoped>\n",
       "    .dataframe tbody tr th:only-of-type {\n",
       "        vertical-align: middle;\n",
       "    }\n",
       "\n",
       "    .dataframe tbody tr th {\n",
       "        vertical-align: top;\n",
       "    }\n",
       "\n",
       "    .dataframe thead th {\n",
       "        text-align: right;\n",
       "    }\n",
       "</style>\n",
       "<table border=\"1\" class=\"dataframe\">\n",
       "  <thead>\n",
       "    <tr style=\"text-align: right;\">\n",
       "      <th></th>\n",
       "      <th>Survived</th>\n",
       "      <th>Pclass</th>\n",
       "      <th>Sex</th>\n",
       "      <th>Age</th>\n",
       "      <th>SibSp</th>\n",
       "      <th>Parch</th>\n",
       "      <th>Fare</th>\n",
       "      <th>Embarked</th>\n",
       "    </tr>\n",
       "    <tr>\n",
       "      <th>PassengerId</th>\n",
       "      <th></th>\n",
       "      <th></th>\n",
       "      <th></th>\n",
       "      <th></th>\n",
       "      <th></th>\n",
       "      <th></th>\n",
       "      <th></th>\n",
       "      <th></th>\n",
       "    </tr>\n",
       "  </thead>\n",
       "  <tbody>\n",
       "    <tr>\n",
       "      <th>1</th>\n",
       "      <td>0</td>\n",
       "      <td>3</td>\n",
       "      <td>male</td>\n",
       "      <td>22.0</td>\n",
       "      <td>1</td>\n",
       "      <td>0</td>\n",
       "      <td>7.2500</td>\n",
       "      <td>S</td>\n",
       "    </tr>\n",
       "    <tr>\n",
       "      <th>2</th>\n",
       "      <td>1</td>\n",
       "      <td>1</td>\n",
       "      <td>female</td>\n",
       "      <td>38.0</td>\n",
       "      <td>1</td>\n",
       "      <td>0</td>\n",
       "      <td>71.2833</td>\n",
       "      <td>C</td>\n",
       "    </tr>\n",
       "    <tr>\n",
       "      <th>3</th>\n",
       "      <td>1</td>\n",
       "      <td>3</td>\n",
       "      <td>female</td>\n",
       "      <td>26.0</td>\n",
       "      <td>0</td>\n",
       "      <td>0</td>\n",
       "      <td>7.9250</td>\n",
       "      <td>S</td>\n",
       "    </tr>\n",
       "    <tr>\n",
       "      <th>4</th>\n",
       "      <td>1</td>\n",
       "      <td>1</td>\n",
       "      <td>female</td>\n",
       "      <td>35.0</td>\n",
       "      <td>1</td>\n",
       "      <td>0</td>\n",
       "      <td>53.1000</td>\n",
       "      <td>S</td>\n",
       "    </tr>\n",
       "    <tr>\n",
       "      <th>5</th>\n",
       "      <td>0</td>\n",
       "      <td>3</td>\n",
       "      <td>male</td>\n",
       "      <td>35.0</td>\n",
       "      <td>0</td>\n",
       "      <td>0</td>\n",
       "      <td>8.0500</td>\n",
       "      <td>S</td>\n",
       "    </tr>\n",
       "  </tbody>\n",
       "</table>\n",
       "</div>"
      ],
      "text/plain": [
       "             Survived  Pclass     Sex   Age  SibSp  Parch     Fare Embarked\n",
       "PassengerId                                                                \n",
       "1                   0       3    male  22.0      1      0   7.2500        S\n",
       "2                   1       1  female  38.0      1      0  71.2833        C\n",
       "3                   1       3  female  26.0      0      0   7.9250        S\n",
       "4                   1       1  female  35.0      1      0  53.1000        S\n",
       "5                   0       3    male  35.0      0      0   8.0500        S"
      ]
     },
     "execution_count": 15,
     "metadata": {},
     "output_type": "execute_result"
    }
   ],
   "source": [
    "train_set.head()"
   ]
  },
  {
   "cell_type": "markdown",
   "metadata": {
    "papermill": {
     "duration": 0.040733,
     "end_time": "2020-12-10T14:04:43.749087",
     "exception": false,
     "start_time": "2020-12-10T14:04:43.708354",
     "status": "completed"
    },
    "tags": []
   },
   "source": [
    "## Encode Categorical features\n",
    "Now I will use One Hot Encoding to chnage the Sex and Embarked columns to be continuous variables."
   ]
  },
  {
   "cell_type": "code",
   "execution_count": 16,
   "metadata": {
    "execution": {
     "iopub.execute_input": "2020-12-10T14:04:43.839904Z",
     "iopub.status.busy": "2020-12-10T14:04:43.839182Z",
     "iopub.status.idle": "2020-12-10T14:04:43.841944Z",
     "shell.execute_reply": "2020-12-10T14:04:43.842730Z"
    },
    "papermill": {
     "duration": 0.052848,
     "end_time": "2020-12-10T14:04:43.842894",
     "exception": false,
     "start_time": "2020-12-10T14:04:43.790046",
     "status": "completed"
    },
    "tags": []
   },
   "outputs": [],
   "source": [
    "survived = train_set[['Survived']]\n",
    "train_set = train_set.drop(\"Survived\", axis=1)"
   ]
  },
  {
   "cell_type": "code",
   "execution_count": 17,
   "metadata": {
    "execution": {
     "iopub.execute_input": "2020-12-10T14:04:43.932431Z",
     "iopub.status.busy": "2020-12-10T14:04:43.931628Z",
     "iopub.status.idle": "2020-12-10T14:04:43.934994Z",
     "shell.execute_reply": "2020-12-10T14:04:43.934357Z"
    },
    "papermill": {
     "duration": 0.051519,
     "end_time": "2020-12-10T14:04:43.935121",
     "exception": false,
     "start_time": "2020-12-10T14:04:43.883602",
     "status": "completed"
    },
    "tags": []
   },
   "outputs": [],
   "source": [
    "sex_cat = train_set[[\"Sex\"]]\n",
    "emb_cat = train_set[[\"Embarked\"]]"
   ]
  },
  {
   "cell_type": "code",
   "execution_count": 18,
   "metadata": {
    "execution": {
     "iopub.execute_input": "2020-12-10T14:04:44.025083Z",
     "iopub.status.busy": "2020-12-10T14:04:44.024301Z",
     "iopub.status.idle": "2020-12-10T14:04:44.102805Z",
     "shell.execute_reply": "2020-12-10T14:04:44.102050Z"
    },
    "papermill": {
     "duration": 0.126762,
     "end_time": "2020-12-10T14:04:44.102935",
     "exception": false,
     "start_time": "2020-12-10T14:04:43.976173",
     "status": "completed"
    },
    "tags": []
   },
   "outputs": [
    {
     "data": {
      "text/plain": [
       "array([[0., 1.],\n",
       "       [1., 0.],\n",
       "       [1., 0.],\n",
       "       ...,\n",
       "       [1., 0.],\n",
       "       [0., 1.],\n",
       "       [0., 1.]])"
      ]
     },
     "execution_count": 18,
     "metadata": {},
     "output_type": "execute_result"
    }
   ],
   "source": [
    "from sklearn.preprocessing import OneHotEncoder\n",
    "OHE = OneHotEncoder()\n",
    "sex_cat_encoded = OHE.fit_transform(sex_cat)\n",
    "sex_cat_encoded.toarray()"
   ]
  },
  {
   "cell_type": "code",
   "execution_count": 19,
   "metadata": {
    "execution": {
     "iopub.execute_input": "2020-12-10T14:04:44.192291Z",
     "iopub.status.busy": "2020-12-10T14:04:44.191454Z",
     "iopub.status.idle": "2020-12-10T14:04:44.198083Z",
     "shell.execute_reply": "2020-12-10T14:04:44.197325Z"
    },
    "papermill": {
     "duration": 0.053819,
     "end_time": "2020-12-10T14:04:44.198216",
     "exception": false,
     "start_time": "2020-12-10T14:04:44.144397",
     "status": "completed"
    },
    "tags": []
   },
   "outputs": [
    {
     "data": {
      "text/plain": [
       "array([[0., 0., 1.],\n",
       "       [1., 0., 0.],\n",
       "       [0., 0., 1.],\n",
       "       ...,\n",
       "       [0., 0., 1.],\n",
       "       [1., 0., 0.],\n",
       "       [0., 1., 0.]])"
      ]
     },
     "execution_count": 19,
     "metadata": {},
     "output_type": "execute_result"
    }
   ],
   "source": [
    "emb_cat_encoded = OHE.fit_transform(emb_cat)\n",
    "emb_cat_encoded.toarray()"
   ]
  },
  {
   "cell_type": "code",
   "execution_count": 20,
   "metadata": {
    "execution": {
     "iopub.execute_input": "2020-12-10T14:04:44.289972Z",
     "iopub.status.busy": "2020-12-10T14:04:44.288994Z",
     "iopub.status.idle": "2020-12-10T14:04:44.292707Z",
     "shell.execute_reply": "2020-12-10T14:04:44.291606Z"
    },
    "papermill": {
     "duration": 0.0524,
     "end_time": "2020-12-10T14:04:44.292875",
     "exception": false,
     "start_time": "2020-12-10T14:04:44.240475",
     "status": "completed"
    },
    "tags": []
   },
   "outputs": [],
   "source": [
    "train_num = train_set.drop([\"Sex\", \"Embarked\"], axis=1)"
   ]
  },
  {
   "cell_type": "markdown",
   "metadata": {
    "papermill": {
     "duration": 0.042803,
     "end_time": "2020-12-10T14:04:44.378513",
     "exception": false,
     "start_time": "2020-12-10T14:04:44.335710",
     "status": "completed"
    },
    "tags": []
   },
   "source": [
    "Here I create a full pipeline of transformations so I can easily call it on new entries and exisitng ones."
   ]
  },
  {
   "cell_type": "code",
   "execution_count": 21,
   "metadata": {
    "execution": {
     "iopub.execute_input": "2020-12-10T14:04:44.472005Z",
     "iopub.status.busy": "2020-12-10T14:04:44.471132Z",
     "iopub.status.idle": "2020-12-10T14:04:44.730059Z",
     "shell.execute_reply": "2020-12-10T14:04:44.729271Z"
    },
    "papermill": {
     "duration": 0.30973,
     "end_time": "2020-12-10T14:04:44.730186",
     "exception": false,
     "start_time": "2020-12-10T14:04:44.420456",
     "status": "completed"
    },
    "tags": []
   },
   "outputs": [],
   "source": [
    "from sklearn.compose import ColumnTransformer\n",
    "from sklearn.pipeline import Pipeline\n",
    "from sklearn.impute import SimpleImputer\n",
    "from sklearn.preprocessing import StandardScaler\n",
    "\n",
    "num_attribs = list(train_num)\n",
    "cat_attribs = [\"Sex\", \"Embarked\"]\n",
    "\n",
    "full_pipeline = ColumnTransformer([\n",
    "    (\"num\", StandardScaler(), num_attribs),\n",
    "    (\"cat\", OneHotEncoder(), cat_attribs)\n",
    "])\n",
    "train_prepared = full_pipeline.fit_transform(train_set)"
   ]
  },
  {
   "cell_type": "code",
   "execution_count": 22,
   "metadata": {
    "execution": {
     "iopub.execute_input": "2020-12-10T14:04:44.833492Z",
     "iopub.status.busy": "2020-12-10T14:04:44.832467Z",
     "iopub.status.idle": "2020-12-10T14:04:44.836766Z",
     "shell.execute_reply": "2020-12-10T14:04:44.836017Z"
    },
    "papermill": {
     "duration": 0.06375,
     "end_time": "2020-12-10T14:04:44.836893",
     "exception": false,
     "start_time": "2020-12-10T14:04:44.773143",
     "status": "completed"
    },
    "tags": []
   },
   "outputs": [],
   "source": [
    "test_prepared = full_pipeline.fit_transform(test_set)"
   ]
  },
  {
   "cell_type": "markdown",
   "metadata": {
    "papermill": {
     "duration": 0.043654,
     "end_time": "2020-12-10T14:04:44.923092",
     "exception": false,
     "start_time": "2020-12-10T14:04:44.879438",
     "status": "completed"
    },
    "tags": []
   },
   "source": [
    "## Train Models\n",
    "Now I will train a neural network and optimize it as best I can without overfitting and underfitting."
   ]
  },
  {
   "cell_type": "code",
   "execution_count": 23,
   "metadata": {
    "execution": {
     "iopub.execute_input": "2020-12-10T14:04:45.018178Z",
     "iopub.status.busy": "2020-12-10T14:04:45.017356Z",
     "iopub.status.idle": "2020-12-10T14:04:51.693176Z",
     "shell.execute_reply": "2020-12-10T14:04:51.693757Z"
    },
    "papermill": {
     "duration": 6.728271,
     "end_time": "2020-12-10T14:04:51.693982",
     "exception": false,
     "start_time": "2020-12-10T14:04:44.965711",
     "status": "completed"
    },
    "tags": []
   },
   "outputs": [],
   "source": [
    "import tensorflow as tf\n",
    "from tensorflow import keras\n",
    "from sklearn.model_selection import train_test_split\n",
    "\n",
    "X = train_prepared\n",
    "y = survived\n",
    "X_train, X_test, y_train, y_test = train_test_split(X, y, test_size = 0.1, random_state = 42)"
   ]
  },
  {
   "cell_type": "code",
   "execution_count": 24,
   "metadata": {
    "execution": {
     "iopub.execute_input": "2020-12-10T14:04:51.790541Z",
     "iopub.status.busy": "2020-12-10T14:04:51.789616Z",
     "iopub.status.idle": "2020-12-10T14:04:51.794399Z",
     "shell.execute_reply": "2020-12-10T14:04:51.793712Z"
    },
    "papermill": {
     "duration": 0.055904,
     "end_time": "2020-12-10T14:04:51.794544",
     "exception": false,
     "start_time": "2020-12-10T14:04:51.738640",
     "status": "completed"
    },
    "tags": []
   },
   "outputs": [
    {
     "data": {
      "text/plain": [
       "(640, 10)"
      ]
     },
     "execution_count": 24,
     "metadata": {},
     "output_type": "execute_result"
    }
   ],
   "source": [
    "X_train.shape"
   ]
  },
  {
   "cell_type": "code",
   "execution_count": 25,
   "metadata": {
    "execution": {
     "iopub.execute_input": "2020-12-10T14:04:51.902348Z",
     "iopub.status.busy": "2020-12-10T14:04:51.896081Z",
     "iopub.status.idle": "2020-12-10T14:04:51.906663Z",
     "shell.execute_reply": "2020-12-10T14:04:51.905940Z"
    },
    "papermill": {
     "duration": 0.064779,
     "end_time": "2020-12-10T14:04:51.906826",
     "exception": false,
     "start_time": "2020-12-10T14:04:51.842047",
     "status": "completed"
    },
    "tags": []
   },
   "outputs": [],
   "source": [
    "def create_network():\n",
    "    model = keras.models.Sequential([\n",
    "        keras.layers.Dense(100, activation='relu', input_dim=10),\n",
    "        keras.layers.Dense(66, activation='relu'),\n",
    "        keras.layers.Dense(1, activation='sigmoid')\n",
    "    ])\n",
    "    return model\n",
    "def evaluate(model):\n",
    "    model.summary()\n",
    "    model.compile(optimizer=keras.optimizers.SGD(lr=0.05), loss='binary_crossentropy', metrics=['accuracy'])\n",
    "    history = model.fit(X_train, y_train, batch_size=40, epochs=30, validation_split=.1,\n",
    "                       callbacks=[keras.callbacks.EarlyStopping(patience=5)])\n",
    "    plt.plot(history.history['accuracy'])\n",
    "    plt.plot(history.history['val_accuracy'])\n",
    "    plt.title('model accuracy')\n",
    "    plt.ylabel('accuracy')\n",
    "    plt.xlabel('epoch')\n",
    "    plt.legend(['training', 'validation'], loc='best')\n",
    "    plt.show()"
   ]
  },
  {
   "cell_type": "code",
   "execution_count": 26,
   "metadata": {
    "execution": {
     "iopub.execute_input": "2020-12-10T14:04:52.004719Z",
     "iopub.status.busy": "2020-12-10T14:04:52.003723Z",
     "iopub.status.idle": "2020-12-10T14:04:54.788810Z",
     "shell.execute_reply": "2020-12-10T14:04:54.788045Z"
    },
    "papermill": {
     "duration": 2.837841,
     "end_time": "2020-12-10T14:04:54.789020",
     "exception": false,
     "start_time": "2020-12-10T14:04:51.951179",
     "status": "completed"
    },
    "tags": []
   },
   "outputs": [
    {
     "name": "stdout",
     "output_type": "stream",
     "text": [
      "Model: \"sequential\"\n",
      "_________________________________________________________________\n",
      "Layer (type)                 Output Shape              Param #   \n",
      "=================================================================\n",
      "dense (Dense)                (None, 100)               1100      \n",
      "_________________________________________________________________\n",
      "dense_1 (Dense)              (None, 66)                6666      \n",
      "_________________________________________________________________\n",
      "dense_2 (Dense)              (None, 1)                 67        \n",
      "=================================================================\n",
      "Total params: 7,833\n",
      "Trainable params: 7,833\n",
      "Non-trainable params: 0\n",
      "_________________________________________________________________\n",
      "Epoch 1/30\n",
      "15/15 [==============================] - 0s 14ms/step - loss: 0.6872 - accuracy: 0.5122 - val_loss: 0.6824 - val_accuracy: 0.5469\n",
      "Epoch 2/30\n",
      "15/15 [==============================] - 0s 2ms/step - loss: 0.6266 - accuracy: 0.6493 - val_loss: 0.6286 - val_accuracy: 0.6406\n",
      "Epoch 3/30\n",
      "15/15 [==============================] - 0s 2ms/step - loss: 0.5860 - accuracy: 0.7309 - val_loss: 0.5897 - val_accuracy: 0.7188\n",
      "Epoch 4/30\n",
      "15/15 [==============================] - 0s 2ms/step - loss: 0.5531 - accuracy: 0.7483 - val_loss: 0.5514 - val_accuracy: 0.7188\n",
      "Epoch 5/30\n",
      "15/15 [==============================] - 0s 2ms/step - loss: 0.5238 - accuracy: 0.7812 - val_loss: 0.5270 - val_accuracy: 0.7500\n",
      "Epoch 6/30\n",
      "15/15 [==============================] - 0s 2ms/step - loss: 0.5007 - accuracy: 0.7951 - val_loss: 0.5047 - val_accuracy: 0.7969\n",
      "Epoch 7/30\n",
      "15/15 [==============================] - 0s 2ms/step - loss: 0.4807 - accuracy: 0.8003 - val_loss: 0.4788 - val_accuracy: 0.7812\n",
      "Epoch 8/30\n",
      "15/15 [==============================] - 0s 2ms/step - loss: 0.4663 - accuracy: 0.8038 - val_loss: 0.4601 - val_accuracy: 0.7969\n",
      "Epoch 9/30\n",
      "15/15 [==============================] - 0s 2ms/step - loss: 0.4545 - accuracy: 0.8038 - val_loss: 0.4611 - val_accuracy: 0.8125\n",
      "Epoch 10/30\n",
      "15/15 [==============================] - 0s 2ms/step - loss: 0.4452 - accuracy: 0.8038 - val_loss: 0.4562 - val_accuracy: 0.7969\n",
      "Epoch 11/30\n",
      "15/15 [==============================] - 0s 2ms/step - loss: 0.4390 - accuracy: 0.8125 - val_loss: 0.4486 - val_accuracy: 0.8125\n",
      "Epoch 12/30\n",
      "15/15 [==============================] - 0s 3ms/step - loss: 0.4348 - accuracy: 0.8073 - val_loss: 0.4395 - val_accuracy: 0.8125\n",
      "Epoch 13/30\n",
      "15/15 [==============================] - 0s 2ms/step - loss: 0.4297 - accuracy: 0.8142 - val_loss: 0.4315 - val_accuracy: 0.8125\n",
      "Epoch 14/30\n",
      "15/15 [==============================] - 0s 3ms/step - loss: 0.4266 - accuracy: 0.8142 - val_loss: 0.4354 - val_accuracy: 0.7969\n",
      "Epoch 15/30\n",
      "15/15 [==============================] - 0s 3ms/step - loss: 0.4243 - accuracy: 0.8177 - val_loss: 0.4207 - val_accuracy: 0.8281\n",
      "Epoch 16/30\n",
      "15/15 [==============================] - 0s 3ms/step - loss: 0.4213 - accuracy: 0.8090 - val_loss: 0.4305 - val_accuracy: 0.7969\n",
      "Epoch 17/30\n",
      "15/15 [==============================] - 0s 3ms/step - loss: 0.4206 - accuracy: 0.8247 - val_loss: 0.4177 - val_accuracy: 0.8281\n",
      "Epoch 18/30\n",
      "15/15 [==============================] - 0s 2ms/step - loss: 0.4163 - accuracy: 0.8125 - val_loss: 0.4182 - val_accuracy: 0.8281\n",
      "Epoch 19/30\n",
      "15/15 [==============================] - 0s 3ms/step - loss: 0.4156 - accuracy: 0.8194 - val_loss: 0.4163 - val_accuracy: 0.8125\n",
      "Epoch 20/30\n",
      "15/15 [==============================] - 0s 3ms/step - loss: 0.4129 - accuracy: 0.8247 - val_loss: 0.4247 - val_accuracy: 0.7969\n",
      "Epoch 21/30\n",
      "15/15 [==============================] - 0s 4ms/step - loss: 0.4134 - accuracy: 0.8264 - val_loss: 0.4269 - val_accuracy: 0.8125\n",
      "Epoch 22/30\n",
      "15/15 [==============================] - 0s 3ms/step - loss: 0.4106 - accuracy: 0.8264 - val_loss: 0.4139 - val_accuracy: 0.8125\n",
      "Epoch 23/30\n",
      "15/15 [==============================] - 0s 2ms/step - loss: 0.4085 - accuracy: 0.8333 - val_loss: 0.4000 - val_accuracy: 0.8281\n",
      "Epoch 24/30\n",
      "15/15 [==============================] - 0s 3ms/step - loss: 0.4063 - accuracy: 0.8264 - val_loss: 0.4084 - val_accuracy: 0.8125\n",
      "Epoch 25/30\n",
      "15/15 [==============================] - 0s 3ms/step - loss: 0.4055 - accuracy: 0.8316 - val_loss: 0.4092 - val_accuracy: 0.8125\n",
      "Epoch 26/30\n",
      "15/15 [==============================] - 0s 2ms/step - loss: 0.4048 - accuracy: 0.8281 - val_loss: 0.4054 - val_accuracy: 0.8125\n",
      "Epoch 27/30\n",
      "15/15 [==============================] - 0s 3ms/step - loss: 0.4021 - accuracy: 0.8368 - val_loss: 0.3985 - val_accuracy: 0.8125\n",
      "Epoch 28/30\n",
      "15/15 [==============================] - 0s 2ms/step - loss: 0.4023 - accuracy: 0.8333 - val_loss: 0.4024 - val_accuracy: 0.8125\n",
      "Epoch 29/30\n",
      "15/15 [==============================] - 0s 2ms/step - loss: 0.4006 - accuracy: 0.8351 - val_loss: 0.4097 - val_accuracy: 0.8125\n",
      "Epoch 30/30\n",
      "15/15 [==============================] - 0s 2ms/step - loss: 0.4006 - accuracy: 0.8316 - val_loss: 0.4196 - val_accuracy: 0.8281\n"
     ]
    },
    {
     "data": {
      "image/png": "[encoded data removed]",
      "text/plain": [
       "<Figure size 432x288 with 1 Axes>"
      ]
     },
     "metadata": {
      "needs_background": "light"
     },
     "output_type": "display_data"
    }
   ],
   "source": [
    "model = create_network()\n",
    "evaluate(model)"
   ]
  },
  {
   "cell_type": "markdown",
   "metadata": {
    "papermill": {
     "duration": 0.070416,
     "end_time": "2020-12-10T14:04:54.935872",
     "exception": false,
     "start_time": "2020-12-10T14:04:54.865456",
     "status": "completed"
    },
    "tags": []
   },
   "source": [
    "This looks like it is fair on all three sets which is great news!"
   ]
  },
  {
   "cell_type": "code",
   "execution_count": 27,
   "metadata": {
    "execution": {
     "iopub.execute_input": "2020-12-10T14:04:55.087731Z",
     "iopub.status.busy": "2020-12-10T14:04:55.086551Z",
     "iopub.status.idle": "2020-12-10T14:04:55.144856Z",
     "shell.execute_reply": "2020-12-10T14:04:55.144055Z"
    },
    "papermill": {
     "duration": 0.137474,
     "end_time": "2020-12-10T14:04:55.145024",
     "exception": false,
     "start_time": "2020-12-10T14:04:55.007550",
     "status": "completed"
    },
    "tags": []
   },
   "outputs": [
    {
     "name": "stdout",
     "output_type": "stream",
     "text": [
      "3/3 [==============================] - 0s 1ms/step - loss: 0.4459 - accuracy: 0.8472\n",
      " Model Accuracy is : 84.7%\n"
     ]
    }
   ],
   "source": [
    "model_acc = model.evaluate(X_test, y_test)\n",
    "print(\" Model Accuracy is : {0:.1f}%\".format(model_acc[1]*100))"
   ]
  },
  {
   "cell_type": "markdown",
   "metadata": {
    "papermill": {
     "duration": 0.070522,
     "end_time": "2020-12-10T14:04:55.287948",
     "exception": false,
     "start_time": "2020-12-10T14:04:55.217426",
     "status": "completed"
    },
    "tags": []
   },
   "source": [
    "Final predictions on the test set."
   ]
  },
  {
   "cell_type": "code",
   "execution_count": 28,
   "metadata": {
    "execution": {
     "iopub.execute_input": "2020-12-10T14:04:55.438533Z",
     "iopub.status.busy": "2020-12-10T14:04:55.437680Z",
     "iopub.status.idle": "2020-12-10T14:04:55.844249Z",
     "shell.execute_reply": "2020-12-10T14:04:55.842671Z"
    },
    "papermill": {
     "duration": 0.485409,
     "end_time": "2020-12-10T14:04:55.844449",
     "exception": false,
     "start_time": "2020-12-10T14:04:55.359040",
     "status": "completed"
    },
    "tags": []
   },
   "outputs": [
    {
     "name": "stdout",
     "output_type": "stream",
     "text": [
      "Your submission was successfully saved!\n"
     ]
    }
   ],
   "source": [
    "results = model.predict_classes(test_prepared)\n",
    "results = pd.Series(results[:,0], name=\"Survived\")\n",
    "submission = pd.concat([pd.Series(test_set.PassengerId, name=\"PassengerId\"),results],axis = 1)\n",
    "submission.to_csv('my_submission.csv', index=False)\n",
    "print(\"Your submission was successfully saved!\")"
   ]
  }
 ],
 "metadata": {
  "kernelspec": {
   "display_name": "Python 3",
   "language": "python",
   "name": "python3"
  },
  "language_info": {
   "codemirror_mode": {
    "name": "ipython",
    "version": 3
   },
   "file_extension": ".py",
   "mimetype": "text/x-python",
   "name": "python",
   "nbconvert_exporter": "python",
   "pygments_lexer": "ipython3",
   "version": "3.7.6"
  },
  "papermill": {
   "duration": 22.108333,
   "end_time": "2020-12-10T14:04:56.027063",
   "environment_variables": {},
   "exception": null,
   "input_path": "__notebook__.ipynb",
   "output_path": "__notebook__.ipynb",
   "parameters": {},
   "start_time": "2020-12-10T14:04:33.918730",
   "version": "2.1.0"
  }
 },
 "nbformat": 4,
 "nbformat_minor": 4
}
