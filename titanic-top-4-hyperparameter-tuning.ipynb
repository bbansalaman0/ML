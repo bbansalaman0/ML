{
 "cells": [
  {
   "cell_type": "markdown",
   "metadata": {
    "papermill": {
     "duration": 0.052482,
     "end_time": "2020-12-20T07:24:07.778273",
     "exception": false,
     "start_time": "2020-12-20T07:24:07.725791",
     "status": "completed"
    },
    "tags": []
   },
   "source": [
    "![Titanic](https://hips.hearstapps.com/hmg-prod.s3.amazonaws.com/images/launch-titanic-1523648780.jpg)\n",
    " ##  Titanic Survival Prediction"
   ]
  },
  {
   "cell_type": "markdown",
   "metadata": {
    "papermill": {
     "duration": 0.050553,
     "end_time": "2020-12-20T07:24:07.879205",
     "exception": false,
     "start_time": "2020-12-20T07:24:07.828652",
     "status": "completed"
    },
    "tags": []
   },
   "source": [
    "### In this project I tried to make the best model for **Survival Prediction**.I experimented with various different ways of preprocessing ,  filling missing values , model training and hyperparameter tuning.\n",
    "### I will be presenting all the things that I did in this project along with the changes I made to get a better prediction result which got me to **top 4%**.\n",
    "### Throughout the project there will be some important **notes**."
   ]
  },
  {
   "cell_type": "code",
   "execution_count": 1,
   "metadata": {
    "execution": {
     "iopub.execute_input": "2020-12-20T07:24:07.985914Z",
     "iopub.status.busy": "2020-12-20T07:24:07.985258Z",
     "iopub.status.idle": "2020-12-20T07:24:09.031809Z",
     "shell.execute_reply": "2020-12-20T07:24:09.031186Z"
    },
    "papermill": {
     "duration": 1.102075,
     "end_time": "2020-12-20T07:24:09.031934",
     "exception": false,
     "start_time": "2020-12-20T07:24:07.929859",
     "status": "completed"
    },
    "tags": []
   },
   "outputs": [],
   "source": [
    "import pandas as pd\n",
    "import numpy as np\n",
    "import matplotlib.pyplot as plt\n",
    "import seaborn as sns\n",
    "import warnings\n",
    "warnings.filterwarnings('ignore')"
   ]
  },
  {
   "cell_type": "code",
   "execution_count": 2,
   "metadata": {
    "_cell_guid": "79c7e3d0-c299-4dcb-8224-4455121ee9b0",
    "_uuid": "d629ff2d2480ee46fbb7e2d37f6b5fab8052498a",
    "execution": {
     "iopub.execute_input": "2020-12-20T07:24:09.142771Z",
     "iopub.status.busy": "2020-12-20T07:24:09.142058Z",
     "iopub.status.idle": "2020-12-20T07:24:09.168960Z",
     "shell.execute_reply": "2020-12-20T07:24:09.168322Z"
    },
    "papermill": {
     "duration": 0.084663,
     "end_time": "2020-12-20T07:24:09.169077",
     "exception": false,
     "start_time": "2020-12-20T07:24:09.084414",
     "status": "completed"
    },
    "tags": []
   },
   "outputs": [],
   "source": [
    "train_data = pd.read_csv('../git/ML/project titanic survival prediction/train.csv')\n",
    "test_data = pd.read_csv('../git/ML/project titanic survival prediction/test.csv')\n",
    "train = train_data.copy()\n",
    "test = test_data.copy()"
   ]
  },
  {
   "cell_type": "code",
   "execution_count": 3,
   "metadata": {
    "execution": {
     "iopub.execute_input": "2020-12-20T07:24:09.287976Z",
     "iopub.status.busy": "2020-12-20T07:24:09.281023Z",
     "iopub.status.idle": "2020-12-20T07:24:09.306276Z",
     "shell.execute_reply": "2020-12-20T07:24:09.305730Z"
    },
    "papermill": {
     "duration": 0.086434,
     "end_time": "2020-12-20T07:24:09.306404",
     "exception": false,
     "start_time": "2020-12-20T07:24:09.219970",
     "status": "completed"
    },
    "tags": []
   },
   "outputs": [
    {
     "name": "stdout",
     "output_type": "stream",
     "text": [
      "(891, 12)\n"
     ]
    },
    {
     "data": {
      "text/html": [
       "<div>\n",
       "<style scoped>\n",
       "    .dataframe tbody tr th:only-of-type {\n",
       "        vertical-align: middle;\n",
       "    }\n",
       "\n",
       "    .dataframe tbody tr th {\n",
       "        vertical-align: top;\n",
       "    }\n",
       "\n",
       "    .dataframe thead th {\n",
       "        text-align: right;\n",
       "    }\n",
       "</style>\n",
       "<table border=\"1\" class=\"dataframe\">\n",
       "  <thead>\n",
       "    <tr style=\"text-align: right;\">\n",
       "      <th></th>\n",
       "      <th>PassengerId</th>\n",
       "      <th>Survived</th>\n",
       "      <th>Pclass</th>\n",
       "      <th>Name</th>\n",
       "      <th>Sex</th>\n",
       "      <th>Age</th>\n",
       "      <th>SibSp</th>\n",
       "      <th>Parch</th>\n",
       "      <th>Ticket</th>\n",
       "      <th>Fare</th>\n",
       "      <th>Cabin</th>\n",
       "      <th>Embarked</th>\n",
       "    </tr>\n",
       "  </thead>\n",
       "  <tbody>\n",
       "    <tr>\n",
       "      <th>0</th>\n",
       "      <td>1</td>\n",
       "      <td>0</td>\n",
       "      <td>3</td>\n",
       "      <td>Braund, Mr. Owen Harris</td>\n",
       "      <td>male</td>\n",
       "      <td>22.0</td>\n",
       "      <td>1</td>\n",
       "      <td>0</td>\n",
       "      <td>A/5 21171</td>\n",
       "      <td>7.2500</td>\n",
       "      <td>NaN</td>\n",
       "      <td>S</td>\n",
       "    </tr>\n",
       "    <tr>\n",
       "      <th>1</th>\n",
       "      <td>2</td>\n",
       "      <td>1</td>\n",
       "      <td>1</td>\n",
       "      <td>Cumings, Mrs. John Bradley (Florence Briggs Th...</td>\n",
       "      <td>female</td>\n",
       "      <td>38.0</td>\n",
       "      <td>1</td>\n",
       "      <td>0</td>\n",
       "      <td>PC 17599</td>\n",
       "      <td>71.2833</td>\n",
       "      <td>C85</td>\n",
       "      <td>C</td>\n",
       "    </tr>\n",
       "    <tr>\n",
       "      <th>2</th>\n",
       "      <td>3</td>\n",
       "      <td>1</td>\n",
       "      <td>3</td>\n",
       "      <td>Heikkinen, Miss. Laina</td>\n",
       "      <td>female</td>\n",
       "      <td>26.0</td>\n",
       "      <td>0</td>\n",
       "      <td>0</td>\n",
       "      <td>STON/O2. 3101282</td>\n",
       "      <td>7.9250</td>\n",
       "      <td>NaN</td>\n",
       "      <td>S</td>\n",
       "    </tr>\n",
       "    <tr>\n",
       "      <th>3</th>\n",
       "      <td>4</td>\n",
       "      <td>1</td>\n",
       "      <td>1</td>\n",
       "      <td>Futrelle, Mrs. Jacques Heath (Lily May Peel)</td>\n",
       "      <td>female</td>\n",
       "      <td>35.0</td>\n",
       "      <td>1</td>\n",
       "      <td>0</td>\n",
       "      <td>113803</td>\n",
       "      <td>53.1000</td>\n",
       "      <td>C123</td>\n",
       "      <td>S</td>\n",
       "    </tr>\n",
       "    <tr>\n",
       "      <th>4</th>\n",
       "      <td>5</td>\n",
       "      <td>0</td>\n",
       "      <td>3</td>\n",
       "      <td>Allen, Mr. William Henry</td>\n",
       "      <td>male</td>\n",
       "      <td>35.0</td>\n",
       "      <td>0</td>\n",
       "      <td>0</td>\n",
       "      <td>373450</td>\n",
       "      <td>8.0500</td>\n",
       "      <td>NaN</td>\n",
       "      <td>S</td>\n",
       "    </tr>\n",
       "  </tbody>\n",
       "</table>\n",
       "</div>"
      ],
      "text/plain": [
       "   PassengerId  Survived  Pclass  \\\n",
       "0            1         0       3   \n",
       "1            2         1       1   \n",
       "2            3         1       3   \n",
       "3            4         1       1   \n",
       "4            5         0       3   \n",
       "\n",
       "                                                Name     Sex   Age  SibSp  \\\n",
       "0                            Braund, Mr. Owen Harris    male  22.0      1   \n",
       "1  Cumings, Mrs. John Bradley (Florence Briggs Th...  female  38.0      1   \n",
       "2                             Heikkinen, Miss. Laina  female  26.0      0   \n",
       "3       Futrelle, Mrs. Jacques Heath (Lily May Peel)  female  35.0      1   \n",
       "4                           Allen, Mr. William Henry    male  35.0      0   \n",
       "\n",
       "   Parch            Ticket     Fare Cabin Embarked  \n",
       "0      0         A/5 21171   7.2500   NaN        S  \n",
       "1      0          PC 17599  71.2833   C85        C  \n",
       "2      0  STON/O2. 3101282   7.9250   NaN        S  \n",
       "3      0            113803  53.1000  C123        S  \n",
       "4      0            373450   8.0500   NaN        S  "
      ]
     },
     "execution_count": 3,
     "metadata": {},
     "output_type": "execute_result"
    }
   ],
   "source": [
    "print(train.shape)\n",
    "train.head(5)"
   ]
  },
  {
   "cell_type": "code",
   "execution_count": 4,
   "metadata": {
    "execution": {
     "iopub.execute_input": "2020-12-20T07:24:09.431708Z",
     "iopub.status.busy": "2020-12-20T07:24:09.425698Z",
     "iopub.status.idle": "2020-12-20T07:24:09.434783Z",
     "shell.execute_reply": "2020-12-20T07:24:09.435301Z"
    },
    "papermill": {
     "duration": 0.076766,
     "end_time": "2020-12-20T07:24:09.435474",
     "exception": false,
     "start_time": "2020-12-20T07:24:09.358708",
     "status": "completed"
    },
    "tags": []
   },
   "outputs": [],
   "source": [
    "train.drop(['PassengerId'],axis=1,inplace=True)\n",
    "test.drop(['PassengerId'],axis=1,inplace=True)\n",
    "pred = train_data['Survived']"
   ]
  },
  {
   "cell_type": "code",
   "execution_count": 5,
   "metadata": {
    "execution": {
     "iopub.execute_input": "2020-12-20T07:24:09.559783Z",
     "iopub.status.busy": "2020-12-20T07:24:09.553190Z",
     "iopub.status.idle": "2020-12-20T07:24:09.564872Z",
     "shell.execute_reply": "2020-12-20T07:24:09.564118Z"
    },
    "papermill": {
     "duration": 0.077528,
     "end_time": "2020-12-20T07:24:09.564994",
     "exception": false,
     "start_time": "2020-12-20T07:24:09.487466",
     "status": "completed"
    },
    "tags": []
   },
   "outputs": [
    {
     "name": "stdout",
     "output_type": "stream",
     "text": [
      "(418, 10)\n"
     ]
    },
    {
     "data": {
      "text/html": [
       "<div>\n",
       "<style scoped>\n",
       "    .dataframe tbody tr th:only-of-type {\n",
       "        vertical-align: middle;\n",
       "    }\n",
       "\n",
       "    .dataframe tbody tr th {\n",
       "        vertical-align: top;\n",
       "    }\n",
       "\n",
       "    .dataframe thead th {\n",
       "        text-align: right;\n",
       "    }\n",
       "</style>\n",
       "<table border=\"1\" class=\"dataframe\">\n",
       "  <thead>\n",
       "    <tr style=\"text-align: right;\">\n",
       "      <th></th>\n",
       "      <th>Survived</th>\n",
       "      <th>Pclass</th>\n",
       "      <th>Name</th>\n",
       "      <th>Sex</th>\n",
       "      <th>Age</th>\n",
       "      <th>SibSp</th>\n",
       "      <th>Parch</th>\n",
       "      <th>Ticket</th>\n",
       "      <th>Fare</th>\n",
       "      <th>Cabin</th>\n",
       "      <th>Embarked</th>\n",
       "    </tr>\n",
       "  </thead>\n",
       "  <tbody>\n",
       "    <tr>\n",
       "      <th>0</th>\n",
       "      <td>0</td>\n",
       "      <td>3</td>\n",
       "      <td>Braund, Mr. Owen Harris</td>\n",
       "      <td>male</td>\n",
       "      <td>22.0</td>\n",
       "      <td>1</td>\n",
       "      <td>0</td>\n",
       "      <td>A/5 21171</td>\n",
       "      <td>7.2500</td>\n",
       "      <td>NaN</td>\n",
       "      <td>S</td>\n",
       "    </tr>\n",
       "    <tr>\n",
       "      <th>1</th>\n",
       "      <td>1</td>\n",
       "      <td>1</td>\n",
       "      <td>Cumings, Mrs. John Bradley (Florence Briggs Th...</td>\n",
       "      <td>female</td>\n",
       "      <td>38.0</td>\n",
       "      <td>1</td>\n",
       "      <td>0</td>\n",
       "      <td>PC 17599</td>\n",
       "      <td>71.2833</td>\n",
       "      <td>C85</td>\n",
       "      <td>C</td>\n",
       "    </tr>\n",
       "    <tr>\n",
       "      <th>2</th>\n",
       "      <td>1</td>\n",
       "      <td>3</td>\n",
       "      <td>Heikkinen, Miss. Laina</td>\n",
       "      <td>female</td>\n",
       "      <td>26.0</td>\n",
       "      <td>0</td>\n",
       "      <td>0</td>\n",
       "      <td>STON/O2. 3101282</td>\n",
       "      <td>7.9250</td>\n",
       "      <td>NaN</td>\n",
       "      <td>S</td>\n",
       "    </tr>\n",
       "    <tr>\n",
       "      <th>3</th>\n",
       "      <td>1</td>\n",
       "      <td>1</td>\n",
       "      <td>Futrelle, Mrs. Jacques Heath (Lily May Peel)</td>\n",
       "      <td>female</td>\n",
       "      <td>35.0</td>\n",
       "      <td>1</td>\n",
       "      <td>0</td>\n",
       "      <td>113803</td>\n",
       "      <td>53.1000</td>\n",
       "      <td>C123</td>\n",
       "      <td>S</td>\n",
       "    </tr>\n",
       "    <tr>\n",
       "      <th>4</th>\n",
       "      <td>0</td>\n",
       "      <td>3</td>\n",
       "      <td>Allen, Mr. William Henry</td>\n",
       "      <td>male</td>\n",
       "      <td>35.0</td>\n",
       "      <td>0</td>\n",
       "      <td>0</td>\n",
       "      <td>373450</td>\n",
       "      <td>8.0500</td>\n",
       "      <td>NaN</td>\n",
       "      <td>S</td>\n",
       "    </tr>\n",
       "  </tbody>\n",
       "</table>\n",
       "</div>"
      ],
      "text/plain": [
       "   Survived  Pclass                                               Name  \\\n",
       "0         0       3                            Braund, Mr. Owen Harris   \n",
       "1         1       1  Cumings, Mrs. John Bradley (Florence Briggs Th...   \n",
       "2         1       3                             Heikkinen, Miss. Laina   \n",
       "3         1       1       Futrelle, Mrs. Jacques Heath (Lily May Peel)   \n",
       "4         0       3                           Allen, Mr. William Henry   \n",
       "\n",
       "      Sex   Age  SibSp  Parch            Ticket     Fare Cabin Embarked  \n",
       "0    male  22.0      1      0         A/5 21171   7.2500   NaN        S  \n",
       "1  female  38.0      1      0          PC 17599  71.2833   C85        C  \n",
       "2  female  26.0      0      0  STON/O2. 3101282   7.9250   NaN        S  \n",
       "3  female  35.0      1      0            113803  53.1000  C123        S  \n",
       "4    male  35.0      0      0            373450   8.0500   NaN        S  "
      ]
     },
     "execution_count": 5,
     "metadata": {},
     "output_type": "execute_result"
    }
   ],
   "source": [
    "print(test.shape)\n",
    "train.head(5)"
   ]
  },
  {
   "cell_type": "markdown",
   "metadata": {
    "papermill": {
     "duration": 0.053615,
     "end_time": "2020-12-20T07:24:09.670995",
     "exception": false,
     "start_time": "2020-12-20T07:24:09.617380",
     "status": "completed"
    },
    "tags": []
   },
   "source": [
    "# Plan of Action\n",
    "### We will be looking at the following things:\n",
    "  *     Data visualization\n",
    "  *     Data Preprocessing\n",
    "  *     Filling in missing values\n",
    "  *     Encoding"
   ]
  },
  {
   "cell_type": "markdown",
   "metadata": {
    "papermill": {
     "duration": 0.052349,
     "end_time": "2020-12-20T07:24:09.776166",
     "exception": false,
     "start_time": "2020-12-20T07:24:09.723817",
     "status": "completed"
    },
    "tags": []
   },
   "source": [
    "## Missing Values"
   ]
  },
  {
   "cell_type": "code",
   "execution_count": 6,
   "metadata": {
    "execution": {
     "iopub.execute_input": "2020-12-20T07:24:09.888872Z",
     "iopub.status.busy": "2020-12-20T07:24:09.888115Z",
     "iopub.status.idle": "2020-12-20T07:24:09.892401Z",
     "shell.execute_reply": "2020-12-20T07:24:09.891785Z"
    },
    "papermill": {
     "duration": 0.064372,
     "end_time": "2020-12-20T07:24:09.892523",
     "exception": false,
     "start_time": "2020-12-20T07:24:09.828151",
     "status": "completed"
    },
    "tags": []
   },
   "outputs": [
    {
     "data": {
      "text/plain": [
       "Survived      0\n",
       "Pclass        0\n",
       "Name          0\n",
       "Sex           0\n",
       "Age         177\n",
       "SibSp         0\n",
       "Parch         0\n",
       "Ticket        0\n",
       "Fare          0\n",
       "Cabin       687\n",
       "Embarked      2\n",
       "dtype: int64"
      ]
     },
     "execution_count": 6,
     "metadata": {},
     "output_type": "execute_result"
    }
   ],
   "source": [
    "train.isnull().sum()"
   ]
  },
  {
   "cell_type": "code",
   "execution_count": 7,
   "metadata": {
    "execution": {
     "iopub.execute_input": "2020-12-20T07:24:10.007015Z",
     "iopub.status.busy": "2020-12-20T07:24:10.006106Z",
     "iopub.status.idle": "2020-12-20T07:24:10.010412Z",
     "shell.execute_reply": "2020-12-20T07:24:10.009770Z"
    },
    "papermill": {
     "duration": 0.065464,
     "end_time": "2020-12-20T07:24:10.010525",
     "exception": false,
     "start_time": "2020-12-20T07:24:09.945061",
     "status": "completed"
    },
    "tags": []
   },
   "outputs": [
    {
     "data": {
      "text/plain": [
       "Pclass        0\n",
       "Name          0\n",
       "Sex           0\n",
       "Age          86\n",
       "SibSp         0\n",
       "Parch         0\n",
       "Ticket        0\n",
       "Fare          1\n",
       "Cabin       327\n",
       "Embarked      0\n",
       "dtype: int64"
      ]
     },
     "execution_count": 7,
     "metadata": {},
     "output_type": "execute_result"
    }
   ],
   "source": [
    "test.isnull().sum()"
   ]
  },
  {
   "cell_type": "markdown",
   "metadata": {
    "papermill": {
     "duration": 0.052544,
     "end_time": "2020-12-20T07:24:10.117105",
     "exception": false,
     "start_time": "2020-12-20T07:24:10.064561",
     "status": "completed"
    },
    "tags": []
   },
   "source": [
    "### This is the list of our missing values from the training and test set."
   ]
  },
  {
   "cell_type": "markdown",
   "metadata": {
    "papermill": {
     "duration": 0.053875,
     "end_time": "2020-12-20T07:24:10.223950",
     "exception": false,
     "start_time": "2020-12-20T07:24:10.170075",
     "status": "completed"
    },
    "tags": []
   },
   "source": [
    "# Features"
   ]
  },
  {
   "cell_type": "markdown",
   "metadata": {
    "papermill": {
     "duration": 0.052361,
     "end_time": "2020-12-20T07:24:10.330201",
     "exception": false,
     "start_time": "2020-12-20T07:24:10.277840",
     "status": "completed"
    },
    "tags": []
   },
   "source": [
    "### In this section we will look at all the features in our dataset. There will be visualization of data using different graphs and preprocessing on the training and test set.\n",
    "\n",
    "### Note: Similar preprocessing will be done on training and test set. "
   ]
  },
  {
   "cell_type": "markdown",
   "metadata": {
    "papermill": {
     "duration": 0.055207,
     "end_time": "2020-12-20T07:24:10.438339",
     "exception": false,
     "start_time": "2020-12-20T07:24:10.383132",
     "status": "completed"
    },
    "tags": []
   },
   "source": [
    "### 1. Sex"
   ]
  },
  {
   "cell_type": "code",
   "execution_count": 8,
   "metadata": {
    "execution": {
     "iopub.execute_input": "2020-12-20T07:24:10.550045Z",
     "iopub.status.busy": "2020-12-20T07:24:10.549287Z",
     "iopub.status.idle": "2020-12-20T07:24:10.762175Z",
     "shell.execute_reply": "2020-12-20T07:24:10.762689Z"
    },
    "papermill": {
     "duration": 0.271681,
     "end_time": "2020-12-20T07:24:10.762866",
     "exception": false,
     "start_time": "2020-12-20T07:24:10.491185",
     "status": "completed"
    },
    "tags": []
   },
   "outputs": [
    {
     "data": {
      "text/plain": [
       "<AxesSubplot:xlabel='Sex', ylabel='count'>"
      ]
     },
     "execution_count": 8,
     "metadata": {},
     "output_type": "execute_result"
    },
    {
     "data": {
      "image/png": "[encoded data removed]",
      "text/plain": [
       "<Figure size 576x360 with 1 Axes>"
      ]
     },
     "metadata": {
      "needs_background": "light"
     },
     "output_type": "display_data"
    }
   ],
   "source": [
    "plt.figure(figsize=(8, 5))\n",
    "sns.set_style('whitegrid')\n",
    "sns.countplot(x = 'Sex',hue='Survived',data=train_data, palette='rainbow')"
   ]
  },
  {
   "cell_type": "code",
   "execution_count": 9,
   "metadata": {
    "execution": {
     "iopub.execute_input": "2020-12-20T07:24:10.888841Z",
     "iopub.status.busy": "2020-12-20T07:24:10.880429Z",
     "iopub.status.idle": "2020-12-20T07:24:10.892449Z",
     "shell.execute_reply": "2020-12-20T07:24:10.891917Z"
    },
    "papermill": {
     "duration": 0.074069,
     "end_time": "2020-12-20T07:24:10.892582",
     "exception": false,
     "start_time": "2020-12-20T07:24:10.818513",
     "status": "completed"
    },
    "tags": []
   },
   "outputs": [],
   "source": [
    "sex1 = pd.get_dummies(train['Sex'])\n",
    "sex2 = pd.get_dummies(test['Sex'])\n",
    "\n",
    "train.drop(['Sex'],axis=1,inplace=True)\n",
    "test.drop(['Sex'],axis=1,inplace=True)\n",
    "\n",
    "train = pd.concat([train,sex1],axis=1)\n",
    "test = pd.concat([test,sex2],axis=1)"
   ]
  },
  {
   "cell_type": "code",
   "execution_count": 10,
   "metadata": {},
   "outputs": [
    {
     "data": {
      "text/html": [
       "<div>\n",
       "<style scoped>\n",
       "    .dataframe tbody tr th:only-of-type {\n",
       "        vertical-align: middle;\n",
       "    }\n",
       "\n",
       "    .dataframe tbody tr th {\n",
       "        vertical-align: top;\n",
       "    }\n",
       "\n",
       "    .dataframe thead th {\n",
       "        text-align: right;\n",
       "    }\n",
       "</style>\n",
       "<table border=\"1\" class=\"dataframe\">\n",
       "  <thead>\n",
       "    <tr style=\"text-align: right;\">\n",
       "      <th></th>\n",
       "      <th>Survived</th>\n",
       "      <th>Pclass</th>\n",
       "      <th>Name</th>\n",
       "      <th>Age</th>\n",
       "      <th>SibSp</th>\n",
       "      <th>Parch</th>\n",
       "      <th>Ticket</th>\n",
       "      <th>Fare</th>\n",
       "      <th>Cabin</th>\n",
       "      <th>Embarked</th>\n",
       "      <th>female</th>\n",
       "      <th>male</th>\n",
       "    </tr>\n",
       "  </thead>\n",
       "  <tbody>\n",
       "    <tr>\n",
       "      <th>0</th>\n",
       "      <td>0</td>\n",
       "      <td>3</td>\n",
       "      <td>Braund, Mr. Owen Harris</td>\n",
       "      <td>22.0</td>\n",
       "      <td>1</td>\n",
       "      <td>0</td>\n",
       "      <td>A/5 21171</td>\n",
       "      <td>7.2500</td>\n",
       "      <td>NaN</td>\n",
       "      <td>S</td>\n",
       "      <td>0</td>\n",
       "      <td>1</td>\n",
       "    </tr>\n",
       "    <tr>\n",
       "      <th>1</th>\n",
       "      <td>1</td>\n",
       "      <td>1</td>\n",
       "      <td>Cumings, Mrs. John Bradley (Florence Briggs Th...</td>\n",
       "      <td>38.0</td>\n",
       "      <td>1</td>\n",
       "      <td>0</td>\n",
       "      <td>PC 17599</td>\n",
       "      <td>71.2833</td>\n",
       "      <td>C85</td>\n",
       "      <td>C</td>\n",
       "      <td>1</td>\n",
       "      <td>0</td>\n",
       "    </tr>\n",
       "  </tbody>\n",
       "</table>\n",
       "</div>"
      ],
      "text/plain": [
       "   Survived  Pclass                                               Name   Age  \\\n",
       "0         0       3                            Braund, Mr. Owen Harris  22.0   \n",
       "1         1       1  Cumings, Mrs. John Bradley (Florence Briggs Th...  38.0   \n",
       "\n",
       "   SibSp  Parch     Ticket     Fare Cabin Embarked  female  male  \n",
       "0      1      0  A/5 21171   7.2500   NaN        S       0     1  \n",
       "1      1      0   PC 17599  71.2833   C85        C       1     0  "
      ]
     },
     "execution_count": 10,
     "metadata": {},
     "output_type": "execute_result"
    }
   ],
   "source": [
    "train.head(2)"
   ]
  },
  {
   "cell_type": "code",
   "execution_count": 11,
   "metadata": {},
   "outputs": [
    {
     "data": {
      "text/html": [
       "<div>\n",
       "<style scoped>\n",
       "    .dataframe tbody tr th:only-of-type {\n",
       "        vertical-align: middle;\n",
       "    }\n",
       "\n",
       "    .dataframe tbody tr th {\n",
       "        vertical-align: top;\n",
       "    }\n",
       "\n",
       "    .dataframe thead th {\n",
       "        text-align: right;\n",
       "    }\n",
       "</style>\n",
       "<table border=\"1\" class=\"dataframe\">\n",
       "  <thead>\n",
       "    <tr style=\"text-align: right;\">\n",
       "      <th></th>\n",
       "      <th>Pclass</th>\n",
       "      <th>Name</th>\n",
       "      <th>Age</th>\n",
       "      <th>SibSp</th>\n",
       "      <th>Parch</th>\n",
       "      <th>Ticket</th>\n",
       "      <th>Fare</th>\n",
       "      <th>Cabin</th>\n",
       "      <th>Embarked</th>\n",
       "      <th>female</th>\n",
       "      <th>male</th>\n",
       "    </tr>\n",
       "  </thead>\n",
       "  <tbody>\n",
       "    <tr>\n",
       "      <th>0</th>\n",
       "      <td>3</td>\n",
       "      <td>Kelly, Mr. James</td>\n",
       "      <td>34.5</td>\n",
       "      <td>0</td>\n",
       "      <td>0</td>\n",
       "      <td>330911</td>\n",
       "      <td>7.8292</td>\n",
       "      <td>NaN</td>\n",
       "      <td>Q</td>\n",
       "      <td>0</td>\n",
       "      <td>1</td>\n",
       "    </tr>\n",
       "    <tr>\n",
       "      <th>1</th>\n",
       "      <td>3</td>\n",
       "      <td>Wilkes, Mrs. James (Ellen Needs)</td>\n",
       "      <td>47.0</td>\n",
       "      <td>1</td>\n",
       "      <td>0</td>\n",
       "      <td>363272</td>\n",
       "      <td>7.0000</td>\n",
       "      <td>NaN</td>\n",
       "      <td>S</td>\n",
       "      <td>1</td>\n",
       "      <td>0</td>\n",
       "    </tr>\n",
       "  </tbody>\n",
       "</table>\n",
       "</div>"
      ],
      "text/plain": [
       "   Pclass                              Name   Age  SibSp  Parch  Ticket  \\\n",
       "0       3                  Kelly, Mr. James  34.5      0      0  330911   \n",
       "1       3  Wilkes, Mrs. James (Ellen Needs)  47.0      1      0  363272   \n",
       "\n",
       "     Fare Cabin Embarked  female  male  \n",
       "0  7.8292   NaN        Q       0     1  \n",
       "1  7.0000   NaN        S       1     0  "
      ]
     },
     "execution_count": 11,
     "metadata": {},
     "output_type": "execute_result"
    }
   ],
   "source": [
    "test.head(2)"
   ]
  },
  {
   "cell_type": "markdown",
   "metadata": {
    "papermill": {
     "duration": 0.053389,
     "end_time": "2020-12-20T07:24:11.001681",
     "exception": false,
     "start_time": "2020-12-20T07:24:10.948292",
     "status": "completed"
    },
    "tags": []
   },
   "source": [
    "### Here  \".get_dummies()\"  will convert this column and make 2 dummy columns of male and female. This is done in order to convert the categorical data into numerical."
   ]
  },
  {
   "cell_type": "code",
   "execution_count": 12,
   "metadata": {
    "execution": {
     "iopub.execute_input": "2020-12-20T07:24:11.119183Z",
     "iopub.status.busy": "2020-12-20T07:24:11.118561Z",
     "iopub.status.idle": "2020-12-20T07:24:11.122568Z",
     "shell.execute_reply": "2020-12-20T07:24:11.121940Z"
    },
    "papermill": {
     "duration": 0.067338,
     "end_time": "2020-12-20T07:24:11.122683",
     "exception": false,
     "start_time": "2020-12-20T07:24:11.055345",
     "status": "completed"
    },
    "tags": []
   },
   "outputs": [],
   "source": [
    "train.drop(['female'],axis=1,inplace=True) \n",
    "test.drop(['female'],axis=1,inplace=True) "
   ]
  },
  {
   "cell_type": "code",
   "execution_count": 13,
   "metadata": {},
   "outputs": [
    {
     "data": {
      "text/html": [
       "<div>\n",
       "<style scoped>\n",
       "    .dataframe tbody tr th:only-of-type {\n",
       "        vertical-align: middle;\n",
       "    }\n",
       "\n",
       "    .dataframe tbody tr th {\n",
       "        vertical-align: top;\n",
       "    }\n",
       "\n",
       "    .dataframe thead th {\n",
       "        text-align: right;\n",
       "    }\n",
       "</style>\n",
       "<table border=\"1\" class=\"dataframe\">\n",
       "  <thead>\n",
       "    <tr style=\"text-align: right;\">\n",
       "      <th></th>\n",
       "      <th>Survived</th>\n",
       "      <th>Pclass</th>\n",
       "      <th>Name</th>\n",
       "      <th>Age</th>\n",
       "      <th>SibSp</th>\n",
       "      <th>Parch</th>\n",
       "      <th>Ticket</th>\n",
       "      <th>Fare</th>\n",
       "      <th>Cabin</th>\n",
       "      <th>Embarked</th>\n",
       "      <th>male</th>\n",
       "    </tr>\n",
       "  </thead>\n",
       "  <tbody>\n",
       "    <tr>\n",
       "      <th>0</th>\n",
       "      <td>0</td>\n",
       "      <td>3</td>\n",
       "      <td>Braund, Mr. Owen Harris</td>\n",
       "      <td>22.0</td>\n",
       "      <td>1</td>\n",
       "      <td>0</td>\n",
       "      <td>A/5 21171</td>\n",
       "      <td>7.2500</td>\n",
       "      <td>NaN</td>\n",
       "      <td>S</td>\n",
       "      <td>1</td>\n",
       "    </tr>\n",
       "    <tr>\n",
       "      <th>1</th>\n",
       "      <td>1</td>\n",
       "      <td>1</td>\n",
       "      <td>Cumings, Mrs. John Bradley (Florence Briggs Th...</td>\n",
       "      <td>38.0</td>\n",
       "      <td>1</td>\n",
       "      <td>0</td>\n",
       "      <td>PC 17599</td>\n",
       "      <td>71.2833</td>\n",
       "      <td>C85</td>\n",
       "      <td>C</td>\n",
       "      <td>0</td>\n",
       "    </tr>\n",
       "  </tbody>\n",
       "</table>\n",
       "</div>"
      ],
      "text/plain": [
       "   Survived  Pclass                                               Name   Age  \\\n",
       "0         0       3                            Braund, Mr. Owen Harris  22.0   \n",
       "1         1       1  Cumings, Mrs. John Bradley (Florence Briggs Th...  38.0   \n",
       "\n",
       "   SibSp  Parch     Ticket     Fare Cabin Embarked  male  \n",
       "0      1      0  A/5 21171   7.2500   NaN        S     1  \n",
       "1      1      0   PC 17599  71.2833   C85        C     0  "
      ]
     },
     "execution_count": 13,
     "metadata": {},
     "output_type": "execute_result"
    }
   ],
   "source": [
    "train.head(2)"
   ]
  },
  {
   "cell_type": "code",
   "execution_count": 14,
   "metadata": {},
   "outputs": [
    {
     "data": {
      "text/html": [
       "<div>\n",
       "<style scoped>\n",
       "    .dataframe tbody tr th:only-of-type {\n",
       "        vertical-align: middle;\n",
       "    }\n",
       "\n",
       "    .dataframe tbody tr th {\n",
       "        vertical-align: top;\n",
       "    }\n",
       "\n",
       "    .dataframe thead th {\n",
       "        text-align: right;\n",
       "    }\n",
       "</style>\n",
       "<table border=\"1\" class=\"dataframe\">\n",
       "  <thead>\n",
       "    <tr style=\"text-align: right;\">\n",
       "      <th></th>\n",
       "      <th>Pclass</th>\n",
       "      <th>Name</th>\n",
       "      <th>Age</th>\n",
       "      <th>SibSp</th>\n",
       "      <th>Parch</th>\n",
       "      <th>Ticket</th>\n",
       "      <th>Fare</th>\n",
       "      <th>Cabin</th>\n",
       "      <th>Embarked</th>\n",
       "      <th>male</th>\n",
       "    </tr>\n",
       "  </thead>\n",
       "  <tbody>\n",
       "    <tr>\n",
       "      <th>0</th>\n",
       "      <td>3</td>\n",
       "      <td>Kelly, Mr. James</td>\n",
       "      <td>34.5</td>\n",
       "      <td>0</td>\n",
       "      <td>0</td>\n",
       "      <td>330911</td>\n",
       "      <td>7.8292</td>\n",
       "      <td>NaN</td>\n",
       "      <td>Q</td>\n",
       "      <td>1</td>\n",
       "    </tr>\n",
       "    <tr>\n",
       "      <th>1</th>\n",
       "      <td>3</td>\n",
       "      <td>Wilkes, Mrs. James (Ellen Needs)</td>\n",
       "      <td>47.0</td>\n",
       "      <td>1</td>\n",
       "      <td>0</td>\n",
       "      <td>363272</td>\n",
       "      <td>7.0000</td>\n",
       "      <td>NaN</td>\n",
       "      <td>S</td>\n",
       "      <td>0</td>\n",
       "    </tr>\n",
       "  </tbody>\n",
       "</table>\n",
       "</div>"
      ],
      "text/plain": [
       "   Pclass                              Name   Age  SibSp  Parch  Ticket  \\\n",
       "0       3                  Kelly, Mr. James  34.5      0      0  330911   \n",
       "1       3  Wilkes, Mrs. James (Ellen Needs)  47.0      1      0  363272   \n",
       "\n",
       "     Fare Cabin Embarked  male  \n",
       "0  7.8292   NaN        Q     1  \n",
       "1  7.0000   NaN        S     0  "
      ]
     },
     "execution_count": 14,
     "metadata": {},
     "output_type": "execute_result"
    }
   ],
   "source": [
    "test.head(2)"
   ]
  },
  {
   "cell_type": "markdown",
   "metadata": {
    "papermill": {
     "duration": 0.054397,
     "end_time": "2020-12-20T07:24:11.232441",
     "exception": false,
     "start_time": "2020-12-20T07:24:11.178044",
     "status": "completed"
    },
    "tags": []
   },
   "source": [
    "### We will be dropping 1 column as we get all the necessary information from the other one."
   ]
  },
  {
   "cell_type": "markdown",
   "metadata": {
    "papermill": {
     "duration": 0.054269,
     "end_time": "2020-12-20T07:24:11.341746",
     "exception": false,
     "start_time": "2020-12-20T07:24:11.287477",
     "status": "completed"
    },
    "tags": []
   },
   "source": [
    "## 2. Pclass"
   ]
  },
  {
   "cell_type": "code",
   "execution_count": 15,
   "metadata": {
    "execution": {
     "iopub.execute_input": "2020-12-20T07:24:11.492263Z",
     "iopub.status.busy": "2020-12-20T07:24:11.483795Z",
     "iopub.status.idle": "2020-12-20T07:24:11.715038Z",
     "shell.execute_reply": "2020-12-20T07:24:11.714217Z"
    },
    "papermill": {
     "duration": 0.318504,
     "end_time": "2020-12-20T07:24:11.715161",
     "exception": false,
     "start_time": "2020-12-20T07:24:11.396657",
     "status": "completed"
    },
    "tags": []
   },
   "outputs": [
    {
     "data": {
      "text/plain": [
       "<AxesSubplot:xlabel='Pclass', ylabel='Age'>"
      ]
     },
     "execution_count": 15,
     "metadata": {},
     "output_type": "execute_result"
    },
    {
     "data": {
      "image/png": "[encoded data removed]",
      "text/plain": [
       "<Figure size 720x648 with 1 Axes>"
      ]
     },
     "metadata": {},
     "output_type": "display_data"
    }
   ],
   "source": [
    "plt.figure(figsize=(10, 9))\n",
    "sns.boxplot(x='Pclass',y='Age',data=train_data,palette='rainbow')\n"
   ]
  },
  {
   "cell_type": "code",
   "execution_count": 16,
   "metadata": {},
   "outputs": [
    {
     "data": {
      "text/plain": [
       "Pclass\n",
       "1    38.233441\n",
       "2    29.877630\n",
       "3    25.140620\n",
       "Name: Age, dtype: float64"
      ]
     },
     "execution_count": 16,
     "metadata": {},
     "output_type": "execute_result"
    }
   ],
   "source": [
    "train_data.groupby(['Pclass'])['Age'].mean()"
   ]
  },
  {
   "cell_type": "code",
   "execution_count": 17,
   "metadata": {
    "execution": {
     "iopub.execute_input": "2020-12-20T07:24:11.840417Z",
     "iopub.status.busy": "2020-12-20T07:24:11.839629Z",
     "iopub.status.idle": "2020-12-20T07:24:12.019964Z",
     "shell.execute_reply": "2020-12-20T07:24:12.019393Z"
    },
    "papermill": {
     "duration": 0.247181,
     "end_time": "2020-12-20T07:24:12.020082",
     "exception": false,
     "start_time": "2020-12-20T07:24:11.772901",
     "status": "completed"
    },
    "tags": []
   },
   "outputs": [
    {
     "data": {
      "text/plain": [
       "<AxesSubplot:xlabel='Pclass', ylabel='count'>"
      ]
     },
     "execution_count": 17,
     "metadata": {},
     "output_type": "execute_result"
    },
    {
     "data": {
      "image/png": "[encoded data removed]",
      "text/plain": [
       "<Figure size 576x360 with 1 Axes>"
      ]
     },
     "metadata": {},
     "output_type": "display_data"
    }
   ],
   "source": [
    "plt.figure(figsize=(8, 5))\n",
    "sns.set_style('whitegrid')\n",
    "sns.countplot(x = 'Pclass',hue='Survived',data=train_data,palette='deep')"
   ]
  },
  {
   "cell_type": "markdown",
   "metadata": {
    "papermill": {
     "duration": 0.0566,
     "end_time": "2020-12-20T07:24:12.135209",
     "exception": false,
     "start_time": "2020-12-20T07:24:12.078609",
     "status": "completed"
    },
    "tags": []
   },
   "source": [
    "### Here we can see that people from higher class(**1 being the highest**) had a better chance of survival."
   ]
  },
  {
   "cell_type": "markdown",
   "metadata": {
    "papermill": {
     "duration": 0.056426,
     "end_time": "2020-12-20T07:24:12.248479",
     "exception": false,
     "start_time": "2020-12-20T07:24:12.192053",
     "status": "completed"
    },
    "tags": []
   },
   "source": [
    "## 3. Age"
   ]
  },
  {
   "cell_type": "code",
   "execution_count": 18,
   "metadata": {},
   "outputs": [
    {
     "data": {
      "text/plain": [
       "Text(0, 0.5, 'Density')"
      ]
     },
     "execution_count": 18,
     "metadata": {},
     "output_type": "execute_result"
    },
    {
     "data": {
      "image/png": "[encoded data removed]",
      "text/plain": [
       "<Figure size 1152x360 with 1 Axes>"
      ]
     },
     "metadata": {},
     "output_type": "display_data"
    }
   ],
   "source": [
    "plt.figure(figsize=(16, 5))\n",
    "for x in [1,2,3]:    ## for 3 classes\n",
    "    sns.kdeplot(data=train_data.Age[train_data.Pclass == x],cut = 0, clip=(0,200)).grid(False)\n",
    "    \n",
    "plt.title(\"Age vs Pclass\")\n",
    "plt.legend((\"1st\",\"2nd\",\"3rd\"))\n",
    "plt.xlabel(\"Age\")\n",
    "plt.ylabel(\"Density\")"
   ]
  },
  {
   "cell_type": "code",
   "execution_count": 19,
   "metadata": {
    "execution": {
     "iopub.execute_input": "2020-12-20T07:24:12.378836Z",
     "iopub.status.busy": "2020-12-20T07:24:12.377762Z",
     "iopub.status.idle": "2020-12-20T07:24:12.699671Z",
     "shell.execute_reply": "2020-12-20T07:24:12.699093Z"
    },
    "papermill": {
     "duration": 0.393933,
     "end_time": "2020-12-20T07:24:12.699798",
     "exception": false,
     "start_time": "2020-12-20T07:24:12.305865",
     "status": "completed"
    },
    "tags": []
   },
   "outputs": [
    {
     "data": {
      "text/plain": [
       "Text(0, 0.5, 'Density')"
      ]
     },
     "execution_count": 19,
     "metadata": {},
     "output_type": "execute_result"
    },
    {
     "data": {
      "image/png": "[encoded data removed]",
      "text/plain": [
       "<Figure size 1152x360 with 1 Axes>"
      ]
     },
     "metadata": {},
     "output_type": "display_data"
    }
   ],
   "source": [
    "plt.figure(figsize=(16, 5))\n",
    "for x in [1,2,3]:    ## for 3 classes\n",
    "    sns.kdeplot(data=train_data.Age[train_data.Pclass == x],cut = 0).grid(False)\n",
    "    \n",
    "plt.title(\"Age vs Pclass\")\n",
    "plt.legend((\"1st\",\"2nd\",\"3rd\"))\n",
    "plt.xlabel(\"Age\")\n",
    "plt.ylabel(\"Density\")"
   ]
  },
  {
   "cell_type": "markdown",
   "metadata": {
    "papermill": {
     "duration": 0.062563,
     "end_time": "2020-12-20T07:24:12.822410",
     "exception": false,
     "start_time": "2020-12-20T07:24:12.759847",
     "status": "completed"
    },
    "tags": []
   },
   "source": [
    "#### This graph shows the density of people who belong to the 3 class along with the age."
   ]
  },
  {
   "cell_type": "markdown",
   "metadata": {
    "papermill": {
     "duration": 0.060614,
     "end_time": "2020-12-20T07:24:12.949631",
     "exception": false,
     "start_time": "2020-12-20T07:24:12.889017",
     "status": "completed"
    },
    "tags": []
   },
   "source": [
    "### The missing values have to be filled with the median value."
   ]
  },
  {
   "cell_type": "code",
   "execution_count": 20,
   "metadata": {
    "execution": {
     "iopub.execute_input": "2020-12-20T07:24:13.078081Z",
     "iopub.status.busy": "2020-12-20T07:24:13.077399Z",
     "iopub.status.idle": "2020-12-20T07:24:13.084634Z",
     "shell.execute_reply": "2020-12-20T07:24:13.084071Z"
    },
    "papermill": {
     "duration": 0.074605,
     "end_time": "2020-12-20T07:24:13.084770",
     "exception": false,
     "start_time": "2020-12-20T07:24:13.010165",
     "status": "completed"
    },
    "tags": []
   },
   "outputs": [
    {
     "data": {
      "text/plain": [
       "count    714.000000\n",
       "mean      29.699118\n",
       "std       14.526497\n",
       "min        0.420000\n",
       "25%       20.125000\n",
       "50%       28.000000\n",
       "75%       38.000000\n",
       "max       80.000000\n",
       "Name: Age, dtype: float64"
      ]
     },
     "execution_count": 20,
     "metadata": {},
     "output_type": "execute_result"
    }
   ],
   "source": [
    "train['Age'].describe()"
   ]
  },
  {
   "cell_type": "code",
   "execution_count": 21,
   "metadata": {},
   "outputs": [
    {
     "data": {
      "text/plain": [
       "count    332.000000\n",
       "mean      30.272590\n",
       "std       14.181209\n",
       "min        0.170000\n",
       "25%       21.000000\n",
       "50%       27.000000\n",
       "75%       39.000000\n",
       "max       76.000000\n",
       "Name: Age, dtype: float64"
      ]
     },
     "execution_count": 21,
     "metadata": {},
     "output_type": "execute_result"
    }
   ],
   "source": [
    "test['Age'].describe()"
   ]
  },
  {
   "cell_type": "markdown",
   "metadata": {
    "papermill": {
     "duration": 0.059654,
     "end_time": "2020-12-20T07:24:13.205394",
     "exception": false,
     "start_time": "2020-12-20T07:24:13.145740",
     "status": "completed"
    },
    "tags": []
   },
   "source": [
    "### Out of these all values, '**50%**' gives us the median value."
   ]
  },
  {
   "cell_type": "code",
   "execution_count": 22,
   "metadata": {
    "execution": {
     "iopub.execute_input": "2020-12-20T07:24:13.338146Z",
     "iopub.status.busy": "2020-12-20T07:24:13.334005Z",
     "iopub.status.idle": "2020-12-20T07:24:13.343979Z",
     "shell.execute_reply": "2020-12-20T07:24:13.343360Z"
    },
    "papermill": {
     "duration": 0.077313,
     "end_time": "2020-12-20T07:24:13.344091",
     "exception": false,
     "start_time": "2020-12-20T07:24:13.266778",
     "status": "completed"
    },
    "tags": []
   },
   "outputs": [],
   "source": [
    "train[\"Age\"].fillna(train['Age'].describe().loc[['50%']][0], inplace = True) \n",
    "test[\"Age\"].fillna(test['Age'].describe().loc[['50%']][0], inplace = True) "
   ]
  },
  {
   "cell_type": "markdown",
   "metadata": {
    "papermill": {
     "duration": 0.065262,
     "end_time": "2020-12-20T07:24:13.469731",
     "exception": false,
     "start_time": "2020-12-20T07:24:13.404469",
     "status": "completed"
    },
    "tags": []
   },
   "source": [
    "## 4. Fare"
   ]
  },
  {
   "cell_type": "code",
   "execution_count": 23,
   "metadata": {
    "execution": {
     "iopub.execute_input": "2020-12-20T07:24:13.606703Z",
     "iopub.status.busy": "2020-12-20T07:24:13.605778Z",
     "iopub.status.idle": "2020-12-20T07:24:13.959777Z",
     "shell.execute_reply": "2020-12-20T07:24:13.960370Z"
    },
    "papermill": {
     "duration": 0.431243,
     "end_time": "2020-12-20T07:24:13.960520",
     "exception": false,
     "start_time": "2020-12-20T07:24:13.529277",
     "status": "completed"
    },
    "tags": []
   },
   "outputs": [
    {
     "data": {
      "text/plain": [
       "Text(0.5, 1.0, 'Fare distribution for all the people')"
      ]
     },
     "execution_count": 23,
     "metadata": {},
     "output_type": "execute_result"
    },
    {
     "data": {
      "image/png": "[encoded data removed]",
      "text/plain": [
       "<Figure size 1152x360 with 1 Axes>"
      ]
     },
     "metadata": {},
     "output_type": "display_data"
    }
   ],
   "source": [
    "f, axes = plt.subplots(1,1, figsize = (16, 5))\n",
    "g1 = sns.distplot(train[\"Fare\"], color=\"orange\",ax = axes)\n",
    "plt.title(\"Fare distribution for all the people\")"
   ]
  },
  {
   "cell_type": "code",
   "execution_count": 24,
   "metadata": {
    "execution": {
     "iopub.execute_input": "2020-12-20T07:24:14.102466Z",
     "iopub.status.busy": "2020-12-20T07:24:14.091873Z",
     "iopub.status.idle": "2020-12-20T07:24:14.107019Z",
     "shell.execute_reply": "2020-12-20T07:24:14.106410Z"
    },
    "papermill": {
     "duration": 0.08431,
     "end_time": "2020-12-20T07:24:14.107144",
     "exception": false,
     "start_time": "2020-12-20T07:24:14.022834",
     "status": "completed"
    },
    "tags": []
   },
   "outputs": [],
   "source": [
    "Fare_0 = []\n",
    "Fare_1 = []\n",
    "for i in range(0,891):\n",
    "    if train_data[\"Survived\"][i] == 0:\n",
    "        Fare_0.append(train[\"Fare\"][i])\n",
    "    else:\n",
    "        Fare_1.append(train[\"Fare\"][i])"
   ]
  },
  {
   "cell_type": "code",
   "execution_count": 25,
   "metadata": {
    "execution": {
     "iopub.execute_input": "2020-12-20T07:24:14.324432Z",
     "iopub.status.busy": "2020-12-20T07:24:14.239984Z",
     "iopub.status.idle": "2020-12-20T07:24:14.960163Z",
     "shell.execute_reply": "2020-12-20T07:24:14.959483Z"
    },
    "papermill": {
     "duration": 0.790585,
     "end_time": "2020-12-20T07:24:14.960298",
     "exception": false,
     "start_time": "2020-12-20T07:24:14.169713",
     "status": "completed"
    },
    "tags": []
   },
   "outputs": [
    {
     "data": {
      "image/png": "[encoded data removed]",
      "text/plain": [
       "<Figure size 1152x216 with 1 Axes>"
      ]
     },
     "metadata": {},
     "output_type": "display_data"
    },
    {
     "data": {
      "image/png": "[encoded data removed]",
      "text/plain": [
       "<Figure size 1152x216 with 1 Axes>"
      ]
     },
     "metadata": {},
     "output_type": "display_data"
    }
   ],
   "source": [
    "f, axes = plt.subplots(1,1, figsize = (16, 3))\n",
    "g1 = sns.distplot(Fare_0, color=\"red\",ax = axes)\n",
    "plt.title(\"Fare distribution for the people who did not survive\")\n",
    "\n",
    "f, axes = plt.subplots(1,1, figsize = (16, 3))\n",
    "g1 = sns.distplot(Fare_1, color=\"blue\",ax = axes)\n",
    "plt.title(\"Fare distribution for the people who survived\")\n",
    "\n",
    "plt.show()"
   ]
  },
  {
   "cell_type": "code",
   "execution_count": 26,
   "metadata": {},
   "outputs": [
    {
     "data": {
      "text/plain": [
       "count    417.000000\n",
       "mean      35.627188\n",
       "std       55.907576\n",
       "min        0.000000\n",
       "25%        7.895800\n",
       "50%       14.454200\n",
       "75%       31.500000\n",
       "max      512.329200\n",
       "Name: Fare, dtype: float64"
      ]
     },
     "execution_count": 26,
     "metadata": {},
     "output_type": "execute_result"
    }
   ],
   "source": [
    "test[\"Fare\"].describe()"
   ]
  },
  {
   "cell_type": "code",
   "execution_count": 27,
   "metadata": {
    "execution": {
     "iopub.execute_input": "2020-12-20T07:24:15.095932Z",
     "iopub.status.busy": "2020-12-20T07:24:15.093289Z",
     "iopub.status.idle": "2020-12-20T07:24:15.099326Z",
     "shell.execute_reply": "2020-12-20T07:24:15.098635Z"
    },
    "papermill": {
     "duration": 0.076752,
     "end_time": "2020-12-20T07:24:15.099445",
     "exception": false,
     "start_time": "2020-12-20T07:24:15.022693",
     "status": "completed"
    },
    "tags": []
   },
   "outputs": [],
   "source": [
    "test[\"Fare\"].fillna(test['Fare'].describe().loc[['50%']][0], inplace = True) "
   ]
  },
  {
   "cell_type": "markdown",
   "metadata": {
    "papermill": {
     "duration": 0.061079,
     "end_time": "2020-12-20T07:24:15.221968",
     "exception": false,
     "start_time": "2020-12-20T07:24:15.160889",
     "status": "completed"
    },
    "tags": []
   },
   "source": [
    "### \"Fare\" column tells us about the amount of money paid by the passengers. Here we can see that passengers had a greater probability of surviving if they had payed more."
   ]
  },
  {
   "cell_type": "markdown",
   "metadata": {
    "papermill": {
     "duration": 0.061155,
     "end_time": "2020-12-20T07:24:15.345097",
     "exception": false,
     "start_time": "2020-12-20T07:24:15.283942",
     "status": "completed"
    },
    "tags": []
   },
   "source": [
    "## 5. Embarked"
   ]
  },
  {
   "cell_type": "markdown",
   "metadata": {
    "papermill": {
     "duration": 0.069525,
     "end_time": "2020-12-20T07:24:15.476214",
     "exception": false,
     "start_time": "2020-12-20T07:24:15.406689",
     "status": "completed"
    },
    "tags": []
   },
   "source": [
    "### This column holds the embarkation records for all the passengers.\n",
    "#### They stand for:\n",
    "* S - Southampton\n",
    "* C - Cherbourg\n",
    "* Q - Queenstown"
   ]
  },
  {
   "cell_type": "code",
   "execution_count": 28,
   "metadata": {
    "execution": {
     "iopub.execute_input": "2020-12-20T07:24:15.615657Z",
     "iopub.status.busy": "2020-12-20T07:24:15.612619Z",
     "iopub.status.idle": "2020-12-20T07:24:15.778755Z",
     "shell.execute_reply": "2020-12-20T07:24:15.778212Z"
    },
    "papermill": {
     "duration": 0.240303,
     "end_time": "2020-12-20T07:24:15.778899",
     "exception": false,
     "start_time": "2020-12-20T07:24:15.538596",
     "status": "completed"
    },
    "tags": []
   },
   "outputs": [
    {
     "data": {
      "text/plain": [
       "<AxesSubplot:xlabel='Embarked', ylabel='count'>"
      ]
     },
     "execution_count": 28,
     "metadata": {},
     "output_type": "execute_result"
    },
    {
     "data": {
      "image/png": "[encoded data removed]",
      "text/plain": [
       "<Figure size 576x360 with 1 Axes>"
      ]
     },
     "metadata": {},
     "output_type": "display_data"
    }
   ],
   "source": [
    "plt.figure(figsize=(8, 5))\n",
    "sns.set_style('whitegrid')\n",
    "sns.countplot(x = 'Embarked',hue='Survived',data=train_data, palette = \"Set2\" )"
   ]
  },
  {
   "cell_type": "code",
   "execution_count": 29,
   "metadata": {
    "execution": {
     "iopub.execute_input": "2020-12-20T07:24:15.912263Z",
     "iopub.status.busy": "2020-12-20T07:24:15.911643Z",
     "iopub.status.idle": "2020-12-20T07:24:15.914716Z",
     "shell.execute_reply": "2020-12-20T07:24:15.914061Z"
    },
    "papermill": {
     "duration": 0.072699,
     "end_time": "2020-12-20T07:24:15.914851",
     "exception": false,
     "start_time": "2020-12-20T07:24:15.842152",
     "status": "completed"
    },
    "tags": []
   },
   "outputs": [],
   "source": [
    "train[\"Embarked\"].fillna(\"S\", inplace = True) \n",
    "test[\"Embarked\"].fillna(\"S\", inplace = True) "
   ]
  },
  {
   "cell_type": "markdown",
   "metadata": {
    "papermill": {
     "duration": 0.062666,
     "end_time": "2020-12-20T07:24:16.041788",
     "exception": false,
     "start_time": "2020-12-20T07:24:15.979122",
     "status": "completed"
    },
    "tags": []
   },
   "source": [
    "### Filling the missing values with 'S' as it is the most frequently occuring value."
   ]
  },
  {
   "cell_type": "code",
   "execution_count": 30,
   "metadata": {
    "execution": {
     "iopub.execute_input": "2020-12-20T07:24:16.185311Z",
     "iopub.status.busy": "2020-12-20T07:24:16.184344Z",
     "iopub.status.idle": "2020-12-20T07:24:16.187884Z",
     "shell.execute_reply": "2020-12-20T07:24:16.187267Z"
    },
    "papermill": {
     "duration": 0.081482,
     "end_time": "2020-12-20T07:24:16.188019",
     "exception": false,
     "start_time": "2020-12-20T07:24:16.106537",
     "status": "completed"
    },
    "tags": []
   },
   "outputs": [],
   "source": [
    "embark1 = pd.get_dummies(train['Embarked'])\n",
    "embark2 = pd.get_dummies(test['Embarked'])\n",
    "\n",
    "train.drop(['Embarked'],axis=1,inplace=True)\n",
    "test.drop(['Embarked'],axis=1,inplace=True)\n",
    "\n",
    "train = pd.concat([train,embark1],axis=1)\n",
    "test = pd.concat([test,embark2],axis=1)"
   ]
  },
  {
   "cell_type": "markdown",
   "metadata": {
    "papermill": {
     "duration": 0.063201,
     "end_time": "2020-12-20T07:24:16.315361",
     "exception": false,
     "start_time": "2020-12-20T07:24:16.252160",
     "status": "completed"
    },
    "tags": []
   },
   "source": [
    "## 6. SibSp and Parch"
   ]
  },
  {
   "cell_type": "markdown",
   "metadata": {
    "papermill": {
     "duration": 0.06353,
     "end_time": "2020-12-20T07:24:16.442578",
     "exception": false,
     "start_time": "2020-12-20T07:24:16.379048",
     "status": "completed"
    },
    "tags": []
   },
   "source": [
    "### SibSp tells us about the passengers' siblings and spouse.\n",
    "### Parch tells us about the passengers' parents and children."
   ]
  },
  {
   "cell_type": "code",
   "execution_count": 31,
   "metadata": {
    "execution": {
     "iopub.execute_input": "2020-12-20T07:24:16.579415Z",
     "iopub.status.busy": "2020-12-20T07:24:16.578525Z",
     "iopub.status.idle": "2020-12-20T07:24:17.163815Z",
     "shell.execute_reply": "2020-12-20T07:24:17.163106Z"
    },
    "papermill": {
     "duration": 0.656979,
     "end_time": "2020-12-20T07:24:17.163930",
     "exception": false,
     "start_time": "2020-12-20T07:24:16.506951",
     "status": "completed"
    },
    "tags": []
   },
   "outputs": [
    {
     "data": {
      "image/png": "[encoded data removed]",
      "text/plain": [
       "<Figure size 1008x432 with 1 Axes>"
      ]
     },
     "metadata": {},
     "output_type": "display_data"
    },
    {
     "data": {
      "image/png": "[encoded data removed]",
      "text/plain": [
       "<Figure size 1008x432 with 1 Axes>"
      ]
     },
     "metadata": {},
     "output_type": "display_data"
    }
   ],
   "source": [
    "plt.figure(figsize=(14, 6))\n",
    "ax = sns.countplot(y=\"Survived\", hue=\"SibSp\", data=train ,color = \"Orange\" )\n",
    "\n",
    "plt.figure(figsize=(14, 6))\n",
    "ax = sns.countplot(y=\"Survived\", hue=\"Parch\", data=train , color = \"Green\" )\n",
    "\n",
    "plt.show()"
   ]
  },
  {
   "cell_type": "code",
   "execution_count": 32,
   "metadata": {
    "execution": {
     "iopub.execute_input": "2020-12-20T07:24:17.300854Z",
     "iopub.status.busy": "2020-12-20T07:24:17.299918Z",
     "iopub.status.idle": "2020-12-20T07:24:17.329143Z",
     "shell.execute_reply": "2020-12-20T07:24:17.328633Z"
    },
    "papermill": {
     "duration": 0.100134,
     "end_time": "2020-12-20T07:24:17.329292",
     "exception": false,
     "start_time": "2020-12-20T07:24:17.229158",
     "status": "completed"
    },
    "tags": []
   },
   "outputs": [],
   "source": [
    "def fam(x):\n",
    "    if  (x['SibSp'] + x['Parch'])  > 0:\n",
    "        return 1\n",
    "    else:\n",
    "        return 0\n",
    "\n",
    "train['Family'] = train.apply(fam, axis = 1)\n",
    "test['Family'] = test.apply(fam, axis = 1)"
   ]
  },
  {
   "cell_type": "markdown",
   "metadata": {
    "papermill": {
     "duration": 0.071516,
     "end_time": "2020-12-20T07:24:17.465487",
     "exception": false,
     "start_time": "2020-12-20T07:24:17.393971",
     "status": "completed"
    },
    "tags": []
   },
   "source": [
    "### Here we will be combining the SibSp and Parch column into one column and determining whether the passenger has a family or not."
   ]
  },
  {
   "cell_type": "code",
   "execution_count": 33,
   "metadata": {
    "execution": {
     "iopub.execute_input": "2020-12-20T07:24:17.601015Z",
     "iopub.status.busy": "2020-12-20T07:24:17.600265Z",
     "iopub.status.idle": "2020-12-20T07:24:17.605816Z",
     "shell.execute_reply": "2020-12-20T07:24:17.605269Z"
    },
    "papermill": {
     "duration": 0.075707,
     "end_time": "2020-12-20T07:24:17.605927",
     "exception": false,
     "start_time": "2020-12-20T07:24:17.530220",
     "status": "completed"
    },
    "tags": []
   },
   "outputs": [],
   "source": [
    "train = train.drop(['SibSp','Parch'],axis=1)\n",
    "test = test.drop(['SibSp','Parch'],axis=1)"
   ]
  },
  {
   "cell_type": "code",
   "execution_count": 34,
   "metadata": {
    "execution": {
     "iopub.execute_input": "2020-12-20T07:24:17.743453Z",
     "iopub.status.busy": "2020-12-20T07:24:17.742652Z",
     "iopub.status.idle": "2020-12-20T07:24:17.894278Z",
     "shell.execute_reply": "2020-12-20T07:24:17.894891Z"
    },
    "papermill": {
     "duration": 0.224256,
     "end_time": "2020-12-20T07:24:17.895030",
     "exception": false,
     "start_time": "2020-12-20T07:24:17.670774",
     "status": "completed"
    },
    "tags": []
   },
   "outputs": [
    {
     "data": {
      "text/plain": [
       "<matplotlib.legend.Legend at 0x7fd5af2c9dc0>"
      ]
     },
     "execution_count": 34,
     "metadata": {},
     "output_type": "execute_result"
    },
    {
     "data": {
      "image/png": "[encoded data removed]",
      "text/plain": [
       "<Figure size 432x432 with 1 Axes>"
      ]
     },
     "metadata": {},
     "output_type": "display_data"
    }
   ],
   "source": [
    "plt.figure(figsize=(6, 6))\n",
    "sns.set_style('whitegrid')\n",
    "sns.countplot(x = 'Family',hue='Survived',data=train, palette=\"YlOrBr\" )\n",
    "plt.legend((\"Not Survived\",\"Survived\"))"
   ]
  },
  {
   "cell_type": "markdown",
   "metadata": {
    "papermill": {
     "duration": 0.064952,
     "end_time": "2020-12-20T07:24:18.027541",
     "exception": false,
     "start_time": "2020-12-20T07:24:17.962589",
     "status": "completed"
    },
    "tags": []
   },
   "source": [
    "### Here we can see that a passenger having no family had a lesser chance of survival."
   ]
  },
  {
   "cell_type": "markdown",
   "metadata": {
    "papermill": {
     "duration": 0.065854,
     "end_time": "2020-12-20T07:24:18.160189",
     "exception": false,
     "start_time": "2020-12-20T07:24:18.094335",
     "status": "completed"
    },
    "tags": []
   },
   "source": [
    "### Note: These 2 columns were not giving any valuable information/trend that could have helped in getting accurate prediction, hence they were combined."
   ]
  },
  {
   "cell_type": "markdown",
   "metadata": {
    "papermill": {
     "duration": 0.065701,
     "end_time": "2020-12-20T07:24:18.291980",
     "exception": false,
     "start_time": "2020-12-20T07:24:18.226279",
     "status": "completed"
    },
    "tags": []
   },
   "source": [
    "## 7. Cabin"
   ]
  },
  {
   "cell_type": "markdown",
   "metadata": {
    "papermill": {
     "duration": 0.064992,
     "end_time": "2020-12-20T07:24:18.422288",
     "exception": false,
     "start_time": "2020-12-20T07:24:18.357296",
     "status": "completed"
    },
    "tags": []
   },
   "source": [
    "### \"Cabin\" is an interesting column telling us about the cabin which was occupied by the passenger."
   ]
  },
  {
   "cell_type": "code",
   "execution_count": 35,
   "metadata": {
    "execution": {
     "iopub.execute_input": "2020-12-20T07:24:18.562074Z",
     "iopub.status.busy": "2020-12-20T07:24:18.561251Z",
     "iopub.status.idle": "2020-12-20T07:24:18.564175Z",
     "shell.execute_reply": "2020-12-20T07:24:18.563706Z"
    },
    "papermill": {
     "duration": 0.076383,
     "end_time": "2020-12-20T07:24:18.564307",
     "exception": false,
     "start_time": "2020-12-20T07:24:18.487924",
     "status": "completed"
    },
    "tags": []
   },
   "outputs": [],
   "source": [
    "train[\"Cabin\"] = pd.Series([i[0] if not pd.isnull(i) else 'X' for i in train['Cabin'] ])\n",
    "test[\"Cabin\"] = pd.Series([i[0] if not pd.isnull(i) else 'X' for i in test['Cabin'] ])"
   ]
  },
  {
   "cell_type": "markdown",
   "metadata": {
    "papermill": {
     "duration": 0.065028,
     "end_time": "2020-12-20T07:24:18.695662",
     "exception": false,
     "start_time": "2020-12-20T07:24:18.630634",
     "status": "completed"
    },
    "tags": []
   },
   "source": [
    "#### Here we will be taking the prefix values of the cabin number. The missing values will be replaced with 'X'."
   ]
  },
  {
   "cell_type": "code",
   "execution_count": 36,
   "metadata": {
    "execution": {
     "iopub.execute_input": "2020-12-20T07:24:18.835000Z",
     "iopub.status.busy": "2020-12-20T07:24:18.833972Z",
     "iopub.status.idle": "2020-12-20T07:24:19.318837Z",
     "shell.execute_reply": "2020-12-20T07:24:19.318346Z"
    },
    "papermill": {
     "duration": 0.557991,
     "end_time": "2020-12-20T07:24:19.318949",
     "exception": false,
     "start_time": "2020-12-20T07:24:18.760958",
     "status": "completed"
    },
    "tags": []
   },
   "outputs": [
    {
     "data": {
      "text/plain": [
       "<Figure size 576x360 with 0 Axes>"
      ]
     },
     "metadata": {},
     "output_type": "display_data"
    },
    {
     "data": {
      "image/png": "[encoded data removed]",
      "text/plain": [
       "<Figure size 360x360 with 1 Axes>"
      ]
     },
     "metadata": {},
     "output_type": "display_data"
    }
   ],
   "source": [
    "plt.figure(figsize=(8, 5))\n",
    "g = sns.catplot(y=\"Survived\",x=\"Cabin\",data=train,kind=\"bar\",order=['A','B','C','D','E','F','G','X'])\n"
   ]
  },
  {
   "cell_type": "markdown",
   "metadata": {
    "papermill": {
     "duration": 0.067494,
     "end_time": "2020-12-20T07:24:19.455069",
     "exception": false,
     "start_time": "2020-12-20T07:24:19.387575",
     "status": "completed"
    },
    "tags": []
   },
   "source": [
    "#### These cabins will be mapped with a numeric value."
   ]
  },
  {
   "cell_type": "code",
   "execution_count": 37,
   "metadata": {
    "execution": {
     "iopub.execute_input": "2020-12-20T07:24:19.599708Z",
     "iopub.status.busy": "2020-12-20T07:24:19.599000Z",
     "iopub.status.idle": "2020-12-20T07:24:19.602263Z",
     "shell.execute_reply": "2020-12-20T07:24:19.601763Z"
    },
    "papermill": {
     "duration": 0.080519,
     "end_time": "2020-12-20T07:24:19.602381",
     "exception": false,
     "start_time": "2020-12-20T07:24:19.521862",
     "status": "completed"
    },
    "tags": []
   },
   "outputs": [],
   "source": [
    "train[\"Cabin\"] = train[\"Cabin\"].map({\"X\":0, \"A\":1, \"B\" : 2 , \"C\":3, \"D\":4, \"E\":5, \"F\":6, \"G\":7,\"T\":0})\n",
    "train[\"Cabin\"] = train[\"Cabin\"].astype(int)\n",
    "test[\"Cabin\"] = test[\"Cabin\"].map({\"X\":0, \"A\":1, \"B\" : 2 , \"C\":3, \"D\":4, \"E\":5, \"F\":6, \"G\":7,\"T\":0})\n",
    "test[\"Cabin\"] = test[\"Cabin\"].astype(int)"
   ]
  },
  {
   "cell_type": "markdown",
   "metadata": {
    "papermill": {
     "duration": 0.066386,
     "end_time": "2020-12-20T07:24:19.735828",
     "exception": false,
     "start_time": "2020-12-20T07:24:19.669442",
     "status": "completed"
    },
    "tags": []
   },
   "source": [
    "### Note : This column has **not** helped me much ( I have explained about it later)."
   ]
  },
  {
   "cell_type": "markdown",
   "metadata": {
    "papermill": {
     "duration": 0.066302,
     "end_time": "2020-12-20T07:24:19.868796",
     "exception": false,
     "start_time": "2020-12-20T07:24:19.802494",
     "status": "completed"
    },
    "tags": []
   },
   "source": [
    "## 8. Name & Titles"
   ]
  },
  {
   "cell_type": "markdown",
   "metadata": {
    "papermill": {
     "duration": 0.06806,
     "end_time": "2020-12-20T07:24:20.003836",
     "exception": false,
     "start_time": "2020-12-20T07:24:19.935776",
     "status": "completed"
    },
    "tags": []
   },
   "source": [
    "### In this dataset we have a \"Name\" column mentioning the name of every passenger. These names also have a title along with them which can be useful."
   ]
  },
  {
   "cell_type": "markdown",
   "metadata": {
    "papermill": {
     "duration": 0.067635,
     "end_time": "2020-12-20T07:24:20.139524",
     "exception": false,
     "start_time": "2020-12-20T07:24:20.071889",
     "status": "completed"
    },
    "tags": []
   },
   "source": [
    "#### We will be splitting the title from the name."
   ]
  },
  {
   "cell_type": "code",
   "execution_count": 38,
   "metadata": {},
   "outputs": [
    {
     "data": {
      "text/html": [
       "<div>\n",
       "<style scoped>\n",
       "    .dataframe tbody tr th:only-of-type {\n",
       "        vertical-align: middle;\n",
       "    }\n",
       "\n",
       "    .dataframe tbody tr th {\n",
       "        vertical-align: top;\n",
       "    }\n",
       "\n",
       "    .dataframe thead th {\n",
       "        text-align: right;\n",
       "    }\n",
       "</style>\n",
       "<table border=\"1\" class=\"dataframe\">\n",
       "  <thead>\n",
       "    <tr style=\"text-align: right;\">\n",
       "      <th></th>\n",
       "      <th>Survived</th>\n",
       "      <th>Pclass</th>\n",
       "      <th>Name</th>\n",
       "      <th>Age</th>\n",
       "      <th>Ticket</th>\n",
       "      <th>Fare</th>\n",
       "      <th>Cabin</th>\n",
       "      <th>male</th>\n",
       "      <th>C</th>\n",
       "      <th>Q</th>\n",
       "      <th>S</th>\n",
       "      <th>Family</th>\n",
       "    </tr>\n",
       "  </thead>\n",
       "  <tbody>\n",
       "    <tr>\n",
       "      <th>0</th>\n",
       "      <td>0</td>\n",
       "      <td>3</td>\n",
       "      <td>Braund, Mr. Owen Harris</td>\n",
       "      <td>22.0</td>\n",
       "      <td>A/5 21171</td>\n",
       "      <td>7.2500</td>\n",
       "      <td>0</td>\n",
       "      <td>1</td>\n",
       "      <td>0</td>\n",
       "      <td>0</td>\n",
       "      <td>1</td>\n",
       "      <td>1</td>\n",
       "    </tr>\n",
       "    <tr>\n",
       "      <th>1</th>\n",
       "      <td>1</td>\n",
       "      <td>1</td>\n",
       "      <td>Cumings, Mrs. John Bradley (Florence Briggs Th...</td>\n",
       "      <td>38.0</td>\n",
       "      <td>PC 17599</td>\n",
       "      <td>71.2833</td>\n",
       "      <td>3</td>\n",
       "      <td>0</td>\n",
       "      <td>1</td>\n",
       "      <td>0</td>\n",
       "      <td>0</td>\n",
       "      <td>1</td>\n",
       "    </tr>\n",
       "    <tr>\n",
       "      <th>2</th>\n",
       "      <td>1</td>\n",
       "      <td>3</td>\n",
       "      <td>Heikkinen, Miss. Laina</td>\n",
       "      <td>26.0</td>\n",
       "      <td>STON/O2. 3101282</td>\n",
       "      <td>7.9250</td>\n",
       "      <td>0</td>\n",
       "      <td>0</td>\n",
       "      <td>0</td>\n",
       "      <td>0</td>\n",
       "      <td>1</td>\n",
       "      <td>0</td>\n",
       "    </tr>\n",
       "    <tr>\n",
       "      <th>3</th>\n",
       "      <td>1</td>\n",
       "      <td>1</td>\n",
       "      <td>Futrelle, Mrs. Jacques Heath (Lily May Peel)</td>\n",
       "      <td>35.0</td>\n",
       "      <td>113803</td>\n",
       "      <td>53.1000</td>\n",
       "      <td>3</td>\n",
       "      <td>0</td>\n",
       "      <td>0</td>\n",
       "      <td>0</td>\n",
       "      <td>1</td>\n",
       "      <td>1</td>\n",
       "    </tr>\n",
       "    <tr>\n",
       "      <th>4</th>\n",
       "      <td>0</td>\n",
       "      <td>3</td>\n",
       "      <td>Allen, Mr. William Henry</td>\n",
       "      <td>35.0</td>\n",
       "      <td>373450</td>\n",
       "      <td>8.0500</td>\n",
       "      <td>0</td>\n",
       "      <td>1</td>\n",
       "      <td>0</td>\n",
       "      <td>0</td>\n",
       "      <td>1</td>\n",
       "      <td>0</td>\n",
       "    </tr>\n",
       "  </tbody>\n",
       "</table>\n",
       "</div>"
      ],
      "text/plain": [
       "   Survived  Pclass                                               Name   Age  \\\n",
       "0         0       3                            Braund, Mr. Owen Harris  22.0   \n",
       "1         1       1  Cumings, Mrs. John Bradley (Florence Briggs Th...  38.0   \n",
       "2         1       3                             Heikkinen, Miss. Laina  26.0   \n",
       "3         1       1       Futrelle, Mrs. Jacques Heath (Lily May Peel)  35.0   \n",
       "4         0       3                           Allen, Mr. William Henry  35.0   \n",
       "\n",
       "             Ticket     Fare  Cabin  male  C  Q  S  Family  \n",
       "0         A/5 21171   7.2500      0     1  0  0  1       1  \n",
       "1          PC 17599  71.2833      3     0  1  0  0       1  \n",
       "2  STON/O2. 3101282   7.9250      0     0  0  0  1       0  \n",
       "3            113803  53.1000      3     0  0  0  1       1  \n",
       "4            373450   8.0500      0     1  0  0  1       0  "
      ]
     },
     "execution_count": 38,
     "metadata": {},
     "output_type": "execute_result"
    }
   ],
   "source": [
    "train.head()"
   ]
  },
  {
   "cell_type": "code",
   "execution_count": 39,
   "metadata": {
    "execution": {
     "iopub.execute_input": "2020-12-20T07:24:20.284973Z",
     "iopub.status.busy": "2020-12-20T07:24:20.284178Z",
     "iopub.status.idle": "2020-12-20T07:24:20.286993Z",
     "shell.execute_reply": "2020-12-20T07:24:20.286503Z"
    },
    "papermill": {
     "duration": 0.079994,
     "end_time": "2020-12-20T07:24:20.287107",
     "exception": false,
     "start_time": "2020-12-20T07:24:20.207113",
     "status": "completed"
    },
    "tags": []
   },
   "outputs": [],
   "source": [
    "train_title = [i.split(\",\")[1].split(\".\")[0].strip() for i in train[\"Name\"]]\n",
    "train[\"Title\"] = pd.Series(train_title)\n",
    "test_title = [i.split(\",\")[1].split(\".\")[0].strip() for i in test[\"Name\"]]\n",
    "test[\"Title\"] = pd.Series(test_title)"
   ]
  },
  {
   "cell_type": "code",
   "execution_count": 40,
   "metadata": {
    "execution": {
     "iopub.execute_input": "2020-12-20T07:24:20.429406Z",
     "iopub.status.busy": "2020-12-20T07:24:20.427775Z",
     "iopub.status.idle": "2020-12-20T07:24:20.434141Z",
     "shell.execute_reply": "2020-12-20T07:24:20.433541Z"
    },
    "papermill": {
     "duration": 0.079985,
     "end_time": "2020-12-20T07:24:20.434282",
     "exception": false,
     "start_time": "2020-12-20T07:24:20.354297",
     "status": "completed"
    },
    "tags": []
   },
   "outputs": [],
   "source": [
    "train = train.drop(['Name'], axis = 1)\n",
    "test = test.drop(['Name'], axis = 1)"
   ]
  },
  {
   "cell_type": "code",
   "execution_count": 41,
   "metadata": {
    "execution": {
     "iopub.execute_input": "2020-12-20T07:24:20.576374Z",
     "iopub.status.busy": "2020-12-20T07:24:20.575667Z",
     "iopub.status.idle": "2020-12-20T07:24:20.828706Z",
     "shell.execute_reply": "2020-12-20T07:24:20.828182Z"
    },
    "papermill": {
     "duration": 0.327284,
     "end_time": "2020-12-20T07:24:20.828822",
     "exception": false,
     "start_time": "2020-12-20T07:24:20.501538",
     "status": "completed"
    },
    "tags": []
   },
   "outputs": [
    {
     "data": {
      "image/png": "[encoded data removed]",
      "text/plain": [
       "<Figure size 1008x432 with 1 Axes>"
      ]
     },
     "metadata": {},
     "output_type": "display_data"
    }
   ],
   "source": [
    "plt.figure(figsize=(14, 6))\n",
    "g = sns.countplot(x=\"Title\",data=train)\n",
    "g = plt.setp(g.get_xticklabels(), rotation=45) "
   ]
  },
  {
   "cell_type": "markdown",
   "metadata": {
    "papermill": {
     "duration": 0.070167,
     "end_time": "2020-12-20T07:24:20.967049",
     "exception": false,
     "start_time": "2020-12-20T07:24:20.896882",
     "status": "completed"
    },
    "tags": []
   },
   "source": [
    "#### Here we have our titles mapped with numeric values."
   ]
  },
  {
   "cell_type": "code",
   "execution_count": 42,
   "metadata": {
    "execution": {
     "iopub.execute_input": "2020-12-20T07:24:21.120186Z",
     "iopub.status.busy": "2020-12-20T07:24:21.119570Z",
     "iopub.status.idle": "2020-12-20T07:24:21.122363Z",
     "shell.execute_reply": "2020-12-20T07:24:21.121730Z"
    },
    "papermill": {
     "duration": 0.087278,
     "end_time": "2020-12-20T07:24:21.122474",
     "exception": false,
     "start_time": "2020-12-20T07:24:21.035196",
     "status": "completed"
    },
    "tags": []
   },
   "outputs": [],
   "source": [
    "train[\"Title\"] = train[\"Title\"].replace(['Lady', 'the Countess','Countess','Capt', 'Col','Don', 'Dr', 'Major', 'Rev', 'Sir', 'Jonkheer', 'Dona'], 'Rare')\n",
    "train[\"Title\"] = train[\"Title\"].map({\"Master\":0, \"Miss\":1, \"Ms\" : 1 , \"Mme\":1, \"Mlle\":1, \"Mrs\":1, \"Mr\":2, \"Rare\":3})\n",
    "train[\"Title\"] = train[\"Title\"].astype(int)\n",
    "test[\"Title\"] = test[\"Title\"].replace(['Lady', 'the Countess','Countess','Capt', 'Col','Don', 'Dr', 'Major', 'Rev', 'Sir', 'Jonkheer', 'Dona'], 'Rare')\n",
    "test[\"Title\"] = test[\"Title\"].map({\"Master\":0, \"Miss\":1, \"Ms\" : 1 , \"Mme\":1, \"Mlle\":1, \"Mrs\":1, \"Mr\":2, \"Rare\":3})\n",
    "test[\"Title\"] = test[\"Title\"].astype(int)"
   ]
  },
  {
   "cell_type": "markdown",
   "metadata": {
    "papermill": {
     "duration": 0.068827,
     "end_time": "2020-12-20T07:24:21.259918",
     "exception": false,
     "start_time": "2020-12-20T07:24:21.191091",
     "status": "completed"
    },
    "tags": []
   },
   "source": [
    "## 9. Ticket"
   ]
  },
  {
   "cell_type": "markdown",
   "metadata": {
    "papermill": {
     "duration": 0.067894,
     "end_time": "2020-12-20T07:24:21.396385",
     "exception": false,
     "start_time": "2020-12-20T07:24:21.328491",
     "status": "completed"
    },
    "tags": []
   },
   "source": [
    "### This column has the ticket number of all the passengers. Here we will be taking the ticket prefix."
   ]
  },
  {
   "cell_type": "code",
   "execution_count": 43,
   "metadata": {
    "execution": {
     "iopub.execute_input": "2020-12-20T07:24:21.545935Z",
     "iopub.status.busy": "2020-12-20T07:24:21.545286Z",
     "iopub.status.idle": "2020-12-20T07:24:21.548341Z",
     "shell.execute_reply": "2020-12-20T07:24:21.547838Z"
    },
    "papermill": {
     "duration": 0.083204,
     "end_time": "2020-12-20T07:24:21.548470",
     "exception": false,
     "start_time": "2020-12-20T07:24:21.465266",
     "status": "completed"
    },
    "tags": []
   },
   "outputs": [],
   "source": [
    "Ticket1 = []\n",
    "for i in list(train.Ticket):\n",
    "    if not i.isdigit() :\n",
    "        Ticket1.append(i.replace(\".\",\"\").replace(\"/\",\"\").strip().split(' ')[0]) #Take prefix\n",
    "    else:\n",
    "        Ticket1.append(\"X\")\n",
    "train[\"Ticket\"] = Ticket1\n",
    "\n",
    "Ticket2 = []\n",
    "for j in list(test.Ticket):\n",
    "    if not j.isdigit() :\n",
    "        Ticket2.append(j.replace(\".\",\"\").replace(\"/\",\"\").strip().split(' ')[0]) #Take prefix\n",
    "    else:\n",
    "        Ticket2.append(\"X\")\n",
    "test[\"Ticket\"] = Ticket2"
   ]
  },
  {
   "cell_type": "markdown",
   "metadata": {
    "papermill": {
     "duration": 0.068652,
     "end_time": "2020-12-20T07:24:21.685721",
     "exception": false,
     "start_time": "2020-12-20T07:24:21.617069",
     "status": "completed"
    },
    "tags": []
   },
   "source": [
    "### Here is a tricky part. The training set and test set have a few tickets which are unique to themselves."
   ]
  },
  {
   "cell_type": "code",
   "execution_count": 44,
   "metadata": {
    "execution": {
     "iopub.execute_input": "2020-12-20T07:24:21.827952Z",
     "iopub.status.busy": "2020-12-20T07:24:21.827311Z",
     "iopub.status.idle": "2020-12-20T07:24:21.832818Z",
     "shell.execute_reply": "2020-12-20T07:24:21.832131Z"
    },
    "papermill": {
     "duration": 0.078464,
     "end_time": "2020-12-20T07:24:21.832932",
     "exception": false,
     "start_time": "2020-12-20T07:24:21.754468",
     "status": "completed"
    },
    "tags": []
   },
   "outputs": [
    {
     "data": {
      "text/plain": [
       "array(['A4', 'A5', 'AS', 'C', 'CA', 'CASOTON', 'FC', 'FCC', 'Fa', 'LINE',\n",
       "       'PC', 'PP', 'PPP', 'SC', 'SCA4', 'SCAH', 'SCOW', 'SCPARIS',\n",
       "       'SCParis', 'SOC', 'SOP', 'SOPP', 'SOTONO2', 'SOTONOQ', 'SP',\n",
       "       'STONO', 'STONO2', 'SWPP', 'WC', 'WEP', 'X'], dtype=object)"
      ]
     },
     "execution_count": 44,
     "metadata": {},
     "output_type": "execute_result"
    }
   ],
   "source": [
    "train[\"Ticket\"].sort_values().unique()"
   ]
  },
  {
   "cell_type": "code",
   "execution_count": 45,
   "metadata": {
    "execution": {
     "iopub.execute_input": "2020-12-20T07:24:21.996630Z",
     "iopub.status.busy": "2020-12-20T07:24:21.995699Z",
     "iopub.status.idle": "2020-12-20T07:24:22.001483Z",
     "shell.execute_reply": "2020-12-20T07:24:22.000951Z"
    },
    "papermill": {
     "duration": 0.099219,
     "end_time": "2020-12-20T07:24:22.001604",
     "exception": false,
     "start_time": "2020-12-20T07:24:21.902385",
     "status": "completed"
    },
    "tags": []
   },
   "outputs": [
    {
     "data": {
      "text/plain": [
       "array(['A', 'A4', 'A5', 'AQ3', 'AQ4', 'C', 'CA', 'FC', 'FCC', 'LP', 'PC',\n",
       "       'PP', 'SC', 'SCA3', 'SCA4', 'SCAH', 'SCPARIS', 'SCParis', 'SOC',\n",
       "       'SOPP', 'SOTONO2', 'SOTONOQ', 'STONO', 'STONO2', 'STONOQ', 'WC',\n",
       "       'WEP', 'X'], dtype=object)"
      ]
     },
     "execution_count": 45,
     "metadata": {},
     "output_type": "execute_result"
    }
   ],
   "source": [
    "test[\"Ticket\"].sort_values().unique()"
   ]
  },
  {
   "cell_type": "code",
   "execution_count": 46,
   "metadata": {
    "execution": {
     "iopub.execute_input": "2020-12-20T07:24:22.173566Z",
     "iopub.status.busy": "2020-12-20T07:24:22.172710Z",
     "iopub.status.idle": "2020-12-20T07:24:22.177052Z",
     "shell.execute_reply": "2020-12-20T07:24:22.176440Z"
    },
    "papermill": {
     "duration": 0.082077,
     "end_time": "2020-12-20T07:24:22.177166",
     "exception": false,
     "start_time": "2020-12-20T07:24:22.095089",
     "status": "completed"
    },
    "tags": []
   },
   "outputs": [
    {
     "data": {
      "text/plain": [
       "array(['A', 'A4', 'A5', 'AQ3', 'AQ4', 'AS', 'C', 'CA', 'CASOTON', 'FC',\n",
       "       'FCC', 'Fa', 'LINE', 'LP', 'PC', 'PP', 'PPP', 'SC', 'SCA3', 'SCA4',\n",
       "       'SCAH', 'SCOW', 'SCPARIS', 'SCParis', 'SOC', 'SOP', 'SOPP',\n",
       "       'SOTONO2', 'SOTONOQ', 'SP', 'STONO', 'STONO2', 'STONOQ', 'SWPP',\n",
       "       'WC', 'WEP', 'X'], dtype=object)"
      ]
     },
     "execution_count": 46,
     "metadata": {},
     "output_type": "execute_result"
    }
   ],
   "source": [
    "#  Unique values ( prensent in either of the columns ) form both train and test\n",
    "np.union1d(train[\"Ticket\"], test[\"Ticket\"])"
   ]
  },
  {
   "cell_type": "code",
   "execution_count": 47,
   "metadata": {},
   "outputs": [
    {
     "data": {
      "text/plain": [
       "array(['A4', 'A5', 'C', 'CA', 'FC', 'FCC', 'PC', 'PP', 'SC', 'SCA4',\n",
       "       'SCAH', 'SCPARIS', 'SCParis', 'SOC', 'SOPP', 'SOTONO2', 'SOTONOQ',\n",
       "       'STONO', 'STONO2', 'WC', 'WEP', 'X'], dtype=object)"
      ]
     },
     "execution_count": 47,
     "metadata": {},
     "output_type": "execute_result"
    }
   ],
   "source": [
    "#  Common unique values ( prensent in both of the columns )  form both train and test\n",
    "np.intersect1d(train[\"Ticket\"], test[\"Ticket\"])"
   ]
  },
  {
   "cell_type": "code",
   "execution_count": 48,
   "metadata": {},
   "outputs": [
    {
     "data": {
      "text/plain": [
       "array(['AS', 'CASOTON', 'Fa', 'LINE', 'PPP', 'SCOW', 'SOP', 'SP', 'SWPP'],\n",
       "      dtype=object)"
      ]
     },
     "execution_count": 48,
     "metadata": {},
     "output_type": "execute_result"
    }
   ],
   "source": [
    "# Common unique values(prensent in the 'train' data columns but not in 'test' data column)form both train and test\n",
    "np.setdiff1d(train[\"Ticket\"], test[\"Ticket\"])"
   ]
  },
  {
   "cell_type": "code",
   "execution_count": 49,
   "metadata": {},
   "outputs": [
    {
     "data": {
      "text/plain": [
       "array(['A', 'AQ3', 'AQ4', 'LP', 'SCA3', 'STONOQ'], dtype=object)"
      ]
     },
     "execution_count": 49,
     "metadata": {},
     "output_type": "execute_result"
    }
   ],
   "source": [
    "# Common unique values(prensent in the 'test' data columns but not in 'train' data column) form both train and test\n",
    "np.setdiff1d( test[\"Ticket\"], train[\"Ticket\"])"
   ]
  },
  {
   "cell_type": "markdown",
   "metadata": {
    "papermill": {
     "duration": 0.069555,
     "end_time": "2020-12-20T07:24:22.361049",
     "exception": false,
     "start_time": "2020-12-20T07:24:22.291494",
     "status": "completed"
    },
    "tags": []
   },
   "source": [
    "### These above tickets are common in both the sets."
   ]
  },
  {
   "cell_type": "code",
   "execution_count": 50,
   "metadata": {
    "execution": {
     "iopub.execute_input": "2020-12-20T07:24:22.510109Z",
     "iopub.status.busy": "2020-12-20T07:24:22.509473Z",
     "iopub.status.idle": "2020-12-20T07:24:22.518216Z",
     "shell.execute_reply": "2020-12-20T07:24:22.517715Z"
    },
    "papermill": {
     "duration": 0.08763,
     "end_time": "2020-12-20T07:24:22.518367",
     "exception": false,
     "start_time": "2020-12-20T07:24:22.430737",
     "status": "completed"
    },
    "tags": []
   },
   "outputs": [],
   "source": [
    "train= pd.get_dummies(train, columns = [\"Ticket\"], prefix=\"T\")\n",
    "test = pd.get_dummies(test, columns = [\"Ticket\"], prefix=\"T\")"
   ]
  },
  {
   "cell_type": "markdown",
   "metadata": {
    "papermill": {
     "duration": 0.072232,
     "end_time": "2020-12-20T07:24:22.661257",
     "exception": false,
     "start_time": "2020-12-20T07:24:22.589025",
     "status": "completed"
    },
    "tags": []
   },
   "source": [
    "### In order to maintain the same number of columns I had to tamper the test set and had to remove these unique tickets. Same was done with training set.\n",
    "\n",
    "### These are the following unique tickets which are dropped."
   ]
  },
  {
   "cell_type": "code",
   "execution_count": 51,
   "metadata": {
    "execution": {
     "iopub.execute_input": "2020-12-20T07:24:22.809892Z",
     "iopub.status.busy": "2020-12-20T07:24:22.809182Z",
     "iopub.status.idle": "2020-12-20T07:24:22.815584Z",
     "shell.execute_reply": "2020-12-20T07:24:22.814841Z"
    },
    "papermill": {
     "duration": 0.082586,
     "end_time": "2020-12-20T07:24:22.815744",
     "exception": false,
     "start_time": "2020-12-20T07:24:22.733158",
     "status": "completed"
    },
    "tags": []
   },
   "outputs": [],
   "source": [
    "train = train.drop(['T_SP','T_SOP','T_Fa','T_LINE','T_SWPP','T_SCOW','T_PPP','T_AS','T_CASOTON'],axis = 1)\n",
    "test = test.drop(['T_SCA3','T_STONOQ','T_AQ4','T_A','T_LP','T_AQ3'],axis = 1)"
   ]
  },
  {
   "cell_type": "code",
   "execution_count": 52,
   "metadata": {
    "execution": {
     "iopub.execute_input": "2020-12-20T07:24:22.966101Z",
     "iopub.status.busy": "2020-12-20T07:24:22.965447Z",
     "iopub.status.idle": "2020-12-20T07:24:22.968603Z",
     "shell.execute_reply": "2020-12-20T07:24:22.969093Z"
    },
    "papermill": {
     "duration": 0.0831,
     "end_time": "2020-12-20T07:24:22.969308",
     "exception": false,
     "start_time": "2020-12-20T07:24:22.886208",
     "status": "completed"
    },
    "tags": []
   },
   "outputs": [],
   "source": [
    "train.drop(['Survived'],axis=1,inplace=True)"
   ]
  },
  {
   "cell_type": "code",
   "execution_count": 53,
   "metadata": {
    "execution": {
     "iopub.execute_input": "2020-12-20T07:24:23.132680Z",
     "iopub.status.busy": "2020-12-20T07:24:23.131942Z",
     "iopub.status.idle": "2020-12-20T07:24:23.137317Z",
     "shell.execute_reply": "2020-12-20T07:24:23.136734Z"
    },
    "papermill": {
     "duration": 0.095979,
     "end_time": "2020-12-20T07:24:23.137436",
     "exception": false,
     "start_time": "2020-12-20T07:24:23.041457",
     "status": "completed"
    },
    "tags": []
   },
   "outputs": [
    {
     "data": {
      "text/html": [
       "<div>\n",
       "<style scoped>\n",
       "    .dataframe tbody tr th:only-of-type {\n",
       "        vertical-align: middle;\n",
       "    }\n",
       "\n",
       "    .dataframe tbody tr th {\n",
       "        vertical-align: top;\n",
       "    }\n",
       "\n",
       "    .dataframe thead th {\n",
       "        text-align: right;\n",
       "    }\n",
       "</style>\n",
       "<table border=\"1\" class=\"dataframe\">\n",
       "  <thead>\n",
       "    <tr style=\"text-align: right;\">\n",
       "      <th></th>\n",
       "      <th>Pclass</th>\n",
       "      <th>Age</th>\n",
       "      <th>Fare</th>\n",
       "      <th>Cabin</th>\n",
       "      <th>male</th>\n",
       "      <th>C</th>\n",
       "      <th>Q</th>\n",
       "      <th>S</th>\n",
       "      <th>Family</th>\n",
       "      <th>Title</th>\n",
       "      <th>...</th>\n",
       "      <th>T_SCParis</th>\n",
       "      <th>T_SOC</th>\n",
       "      <th>T_SOPP</th>\n",
       "      <th>T_SOTONO2</th>\n",
       "      <th>T_SOTONOQ</th>\n",
       "      <th>T_STONO</th>\n",
       "      <th>T_STONO2</th>\n",
       "      <th>T_WC</th>\n",
       "      <th>T_WEP</th>\n",
       "      <th>T_X</th>\n",
       "    </tr>\n",
       "  </thead>\n",
       "  <tbody>\n",
       "    <tr>\n",
       "      <th>0</th>\n",
       "      <td>3</td>\n",
       "      <td>22.0</td>\n",
       "      <td>7.2500</td>\n",
       "      <td>0</td>\n",
       "      <td>1</td>\n",
       "      <td>0</td>\n",
       "      <td>0</td>\n",
       "      <td>1</td>\n",
       "      <td>1</td>\n",
       "      <td>2</td>\n",
       "      <td>...</td>\n",
       "      <td>0</td>\n",
       "      <td>0</td>\n",
       "      <td>0</td>\n",
       "      <td>0</td>\n",
       "      <td>0</td>\n",
       "      <td>0</td>\n",
       "      <td>0</td>\n",
       "      <td>0</td>\n",
       "      <td>0</td>\n",
       "      <td>0</td>\n",
       "    </tr>\n",
       "    <tr>\n",
       "      <th>1</th>\n",
       "      <td>1</td>\n",
       "      <td>38.0</td>\n",
       "      <td>71.2833</td>\n",
       "      <td>3</td>\n",
       "      <td>0</td>\n",
       "      <td>1</td>\n",
       "      <td>0</td>\n",
       "      <td>0</td>\n",
       "      <td>1</td>\n",
       "      <td>1</td>\n",
       "      <td>...</td>\n",
       "      <td>0</td>\n",
       "      <td>0</td>\n",
       "      <td>0</td>\n",
       "      <td>0</td>\n",
       "      <td>0</td>\n",
       "      <td>0</td>\n",
       "      <td>0</td>\n",
       "      <td>0</td>\n",
       "      <td>0</td>\n",
       "      <td>0</td>\n",
       "    </tr>\n",
       "    <tr>\n",
       "      <th>2</th>\n",
       "      <td>3</td>\n",
       "      <td>26.0</td>\n",
       "      <td>7.9250</td>\n",
       "      <td>0</td>\n",
       "      <td>0</td>\n",
       "      <td>0</td>\n",
       "      <td>0</td>\n",
       "      <td>1</td>\n",
       "      <td>0</td>\n",
       "      <td>1</td>\n",
       "      <td>...</td>\n",
       "      <td>0</td>\n",
       "      <td>0</td>\n",
       "      <td>0</td>\n",
       "      <td>0</td>\n",
       "      <td>0</td>\n",
       "      <td>0</td>\n",
       "      <td>1</td>\n",
       "      <td>0</td>\n",
       "      <td>0</td>\n",
       "      <td>0</td>\n",
       "    </tr>\n",
       "    <tr>\n",
       "      <th>3</th>\n",
       "      <td>1</td>\n",
       "      <td>35.0</td>\n",
       "      <td>53.1000</td>\n",
       "      <td>3</td>\n",
       "      <td>0</td>\n",
       "      <td>0</td>\n",
       "      <td>0</td>\n",
       "      <td>1</td>\n",
       "      <td>1</td>\n",
       "      <td>1</td>\n",
       "      <td>...</td>\n",
       "      <td>0</td>\n",
       "      <td>0</td>\n",
       "      <td>0</td>\n",
       "      <td>0</td>\n",
       "      <td>0</td>\n",
       "      <td>0</td>\n",
       "      <td>0</td>\n",
       "      <td>0</td>\n",
       "      <td>0</td>\n",
       "      <td>1</td>\n",
       "    </tr>\n",
       "    <tr>\n",
       "      <th>4</th>\n",
       "      <td>3</td>\n",
       "      <td>35.0</td>\n",
       "      <td>8.0500</td>\n",
       "      <td>0</td>\n",
       "      <td>1</td>\n",
       "      <td>0</td>\n",
       "      <td>0</td>\n",
       "      <td>1</td>\n",
       "      <td>0</td>\n",
       "      <td>2</td>\n",
       "      <td>...</td>\n",
       "      <td>0</td>\n",
       "      <td>0</td>\n",
       "      <td>0</td>\n",
       "      <td>0</td>\n",
       "      <td>0</td>\n",
       "      <td>0</td>\n",
       "      <td>0</td>\n",
       "      <td>0</td>\n",
       "      <td>0</td>\n",
       "      <td>1</td>\n",
       "    </tr>\n",
       "  </tbody>\n",
       "</table>\n",
       "<p>5 rows × 32 columns</p>\n",
       "</div>"
      ],
      "text/plain": [
       "   Pclass   Age     Fare  Cabin  male  C  Q  S  Family  Title  ...  T_SCParis  \\\n",
       "0       3  22.0   7.2500      0     1  0  0  1       1      2  ...          0   \n",
       "1       1  38.0  71.2833      3     0  1  0  0       1      1  ...          0   \n",
       "2       3  26.0   7.9250      0     0  0  0  1       0      1  ...          0   \n",
       "3       1  35.0  53.1000      3     0  0  0  1       1      1  ...          0   \n",
       "4       3  35.0   8.0500      0     1  0  0  1       0      2  ...          0   \n",
       "\n",
       "   T_SOC  T_SOPP  T_SOTONO2  T_SOTONOQ  T_STONO  T_STONO2  T_WC  T_WEP  T_X  \n",
       "0      0       0          0          0        0         0     0      0    0  \n",
       "1      0       0          0          0        0         0     0      0    0  \n",
       "2      0       0          0          0        0         1     0      0    0  \n",
       "3      0       0          0          0        0         0     0      0    1  \n",
       "4      0       0          0          0        0         0     0      0    1  \n",
       "\n",
       "[5 rows x 32 columns]"
      ]
     },
     "execution_count": 53,
     "metadata": {},
     "output_type": "execute_result"
    }
   ],
   "source": [
    "train.head(5)"
   ]
  },
  {
   "cell_type": "markdown",
   "metadata": {
    "papermill": {
     "duration": 0.072698,
     "end_time": "2020-12-20T07:24:23.281428",
     "exception": false,
     "start_time": "2020-12-20T07:24:23.208730",
     "status": "completed"
    },
    "tags": []
   },
   "source": [
    "### This is our final training set after preprocessing."
   ]
  },
  {
   "cell_type": "markdown",
   "metadata": {
    "papermill": {
     "duration": 0.071956,
     "end_time": "2020-12-20T07:24:23.425171",
     "exception": false,
     "start_time": "2020-12-20T07:24:23.353215",
     "status": "completed"
    },
    "tags": []
   },
   "source": [
    "### Note: In the above feature preprocessing, the values that I have used for filling missing values were chosen after experimenting with different values. I took these values as they gave me the best result. Median values are best suited for missing values in most of the Machine-Learning models."
   ]
  },
  {
   "cell_type": "markdown",
   "metadata": {
    "papermill": {
     "duration": 0.070797,
     "end_time": "2020-12-20T07:24:23.567442",
     "exception": false,
     "start_time": "2020-12-20T07:24:23.496645",
     "status": "completed"
    },
    "tags": []
   },
   "source": [
    "## Checking for missing values for the new dataframes"
   ]
  },
  {
   "cell_type": "code",
   "execution_count": 54,
   "metadata": {
    "execution": {
     "iopub.execute_input": "2020-12-20T07:24:23.716590Z",
     "iopub.status.busy": "2020-12-20T07:24:23.715822Z",
     "iopub.status.idle": "2020-12-20T07:24:23.724577Z",
     "shell.execute_reply": "2020-12-20T07:24:23.725373Z"
    },
    "papermill": {
     "duration": 0.08678,
     "end_time": "2020-12-20T07:24:23.725601",
     "exception": false,
     "start_time": "2020-12-20T07:24:23.638821",
     "status": "completed"
    },
    "tags": []
   },
   "outputs": [
    {
     "name": "stdout",
     "output_type": "stream",
     "text": [
      "Pclass       0\n",
      "Age          0\n",
      "Fare         0\n",
      "Cabin        0\n",
      "male         0\n",
      "C            0\n",
      "Q            0\n",
      "S            0\n",
      "Family       0\n",
      "Title        0\n",
      "T_A4         0\n",
      "T_A5         0\n",
      "T_C          0\n",
      "T_CA         0\n",
      "T_FC         0\n",
      "T_FCC        0\n",
      "T_PC         0\n",
      "T_PP         0\n",
      "T_SC         0\n",
      "T_SCA4       0\n",
      "T_SCAH       0\n",
      "T_SCPARIS    0\n",
      "T_SCParis    0\n",
      "T_SOC        0\n",
      "T_SOPP       0\n",
      "T_SOTONO2    0\n",
      "T_SOTONOQ    0\n",
      "T_STONO      0\n",
      "T_STONO2     0\n",
      "T_WC         0\n",
      "T_WEP        0\n",
      "T_X          0\n",
      "dtype: int64\n",
      "Number of columns are : 32\n"
     ]
    }
   ],
   "source": [
    "print(train.isnull().sum())\n",
    "print(\"Number of columns are :\",train.isnull().sum().count())"
   ]
  },
  {
   "cell_type": "code",
   "execution_count": 55,
   "metadata": {
    "execution": {
     "iopub.execute_input": "2020-12-20T07:24:23.880090Z",
     "iopub.status.busy": "2020-12-20T07:24:23.876761Z",
     "iopub.status.idle": "2020-12-20T07:24:23.885193Z",
     "shell.execute_reply": "2020-12-20T07:24:23.884387Z"
    },
    "papermill": {
     "duration": 0.085356,
     "end_time": "2020-12-20T07:24:23.885412",
     "exception": false,
     "start_time": "2020-12-20T07:24:23.800056",
     "status": "completed"
    },
    "tags": []
   },
   "outputs": [
    {
     "name": "stdout",
     "output_type": "stream",
     "text": [
      "Pclass       0\n",
      "Age          0\n",
      "Fare         0\n",
      "Cabin        0\n",
      "male         0\n",
      "C            0\n",
      "Q            0\n",
      "S            0\n",
      "Family       0\n",
      "Title        0\n",
      "T_A4         0\n",
      "T_A5         0\n",
      "T_C          0\n",
      "T_CA         0\n",
      "T_FC         0\n",
      "T_FCC        0\n",
      "T_PC         0\n",
      "T_PP         0\n",
      "T_SC         0\n",
      "T_SCA4       0\n",
      "T_SCAH       0\n",
      "T_SCPARIS    0\n",
      "T_SCParis    0\n",
      "T_SOC        0\n",
      "T_SOPP       0\n",
      "T_SOTONO2    0\n",
      "T_SOTONOQ    0\n",
      "T_STONO      0\n",
      "T_STONO2     0\n",
      "T_WC         0\n",
      "T_WEP        0\n",
      "T_X          0\n",
      "dtype: int64\n",
      "Number of columns are : 32\n"
     ]
    }
   ],
   "source": [
    "print(test.isnull().sum())\n",
    "print(\"Number of columns are :\",test.isnull().sum().count())"
   ]
  },
  {
   "cell_type": "markdown",
   "metadata": {
    "papermill": {
     "duration": 0.075222,
     "end_time": "2020-12-20T07:24:24.036861",
     "exception": false,
     "start_time": "2020-12-20T07:24:23.961639",
     "status": "completed"
    },
    "tags": []
   },
   "source": [
    "### We can now proceed further as there are no missing values in the training and test set."
   ]
  },
  {
   "cell_type": "markdown",
   "metadata": {
    "papermill": {
     "duration": 0.073767,
     "end_time": "2020-12-20T07:24:24.184492",
     "exception": false,
     "start_time": "2020-12-20T07:24:24.110725",
     "status": "completed"
    },
    "tags": []
   },
   "source": [
    "## Feature Scaling with Standardization\n",
    "  "
   ]
  },
  {
   "cell_type": "markdown",
   "metadata": {
    "papermill": {
     "duration": 0.072787,
     "end_time": "2020-12-20T07:24:24.330356",
     "exception": false,
     "start_time": "2020-12-20T07:24:24.257569",
     "status": "completed"
    },
    "tags": []
   },
   "source": [
    "### Applying standarization as part of our data normalization."
   ]
  },
  {
   "cell_type": "code",
   "execution_count": 56,
   "metadata": {},
   "outputs": [
    {
     "name": "stdout",
     "output_type": "stream",
     "text": [
      "0      0\n",
      "1      1\n",
      "2      1\n",
      "3      1\n",
      "4      0\n",
      "      ..\n",
      "886    0\n",
      "887    1\n",
      "888    0\n",
      "889    1\n",
      "890    0\n",
      "Name: Survived, Length: 891, dtype: int64\n",
      "----------------------------------------------------------------------------------------------------\n",
      "[0 1 1 1 0 0 0 0 1 1 1 1 0 0 0 1 0 1 0 1 0 1 1 1 0 1 0 0 1 0 0 1 1 0 0 0 1\n",
      " 0 0 1 0 0 0 1 1 0 0 1 0 0 0 0 1 1 0 1 1 0 1 0 0 1 0 0 0 1 1 0 1 0 0 0 0 0\n",
      " 1 0 0 0 1 1 0 1 1 0 1 1 0 0 1 0 0 0 0 0 0 0 0 1 1 0 0 0 0 0 0 0 1 1 0 1 0\n",
      " 0 0 0 0 0 0 0 0 0 0 0 0 1 0 1 0 1 1 0 0 0 0 1 0 0 1 0 0 0 0 1 1 0 0 0 1 0\n",
      " 0 0 0 1 0 0 0 0 1 0 0 0 0 1 0 0 0 1 1 0 0 0 0 0 1 0 0 0 0 0 0 0 0 0 0 1 1\n",
      " 0 1 1 0 0 1 0 1 1 1 1 0 0 1 0 0 0 0 0 1 0 0 1 1 1 0 1 0 0 0 1 1 0 1 0 1 0\n",
      " 0 0 1 0 1 0 0 0 1 0 0 1 0 0 0 1 0 0 0 1 0 0 0 0 0 1 1 0 0 0 0 0 0 1 1 1 1\n",
      " 1 0 1 0 0 0 0 0 1 1 1 0 1 1 0 1 1 0 0 0 1 0 0 0 1 0 0 1 0 1 1 1 1 0 0 0 0\n",
      " 0 0 1 1 1 1 0 1 0 1 1 1 0 1 1 1 0 0 0 1 1 0 1 1 0 0 1 1 0 1 0 1 1 1 1 0 0\n",
      " 0 1 0 0 1 1 0 1 1 0 0 0 1 1 1 1 0 0 0 0 0 0 0 1 0 1 1 0 0 0 0 0 0 1 1 1 1\n",
      " 1 0 0 0 0 1 1 0 0 0 1 1 0 1 0 0 0 1 0 1 1 1 0 1 1 0 0 0 0 1 1 0 0 0 0 0 0\n",
      " 1 0 0 0 0 1 0 1 0 1 1 0 0 0 0 0 0 0 0 1 1 0 1 1 1 1 0 0 1 0 1 0 0 1 0 0 1\n",
      " 1 1 1 1 1 1 0 0 0 1 0 1 0 1 1 0 1 0 0 0 0 0 0 0 0 1 0 0 1 1 0 0 0 0 0 1 0\n",
      " 0 0 1 1 0 1 0 0 1 0 0 0 0 0 0 1 0 0 0 0 0 0 0 1 0 1 1 0 1 1 0 1 1 0 0 1 0\n",
      " 1 0 1 0 0 1 0 0 1 0 0 0 1 0 0 1 0 1 0 1 0 1 1 0 0 1 0 0 1 1 0 1 1 0 0 1 1\n",
      " 0 1 0 1 1 0 0 0 0 0 0 0 0 0 1 1 1 1 1 0 0 1 1 0 1 1 1 0 0 0 1 0 1 0 0 0 1\n",
      " 0 0 0 0 1 0 0 1 1 0 0 0 1 0 0 1 1 1 0 0 1 0 0 1 0 0 1 0 0 1 1 0 0 0 0 1 0\n",
      " 0 1 0 1 0 0 1 0 0 0 0 0 1 0 1 1 1 0 1 0 1 0 1 0 1 0 0 0 0 0 0 1 0 0 0 1 0\n",
      " 0 0 0 1 1 0 0 1 0 0 0 1 0 1 0 1 0 0 0 0 0 0 0 1 1 1 1 0 0 0 0 1 0 0 1 1 0\n",
      " 0 0 0 1 1 1 1 1 0 1 0 0 0 1 1 0 0 1 0 0 0 1 0 1 1 0 0 1 0 0 0 0 0 0 1 0 0\n",
      " 1 0 1 0 1 0 0 1 0 0 1 1 0 0 1 1 0 0 0 1 0 0 1 1 0 1 0 0 0 0 0 0 0 0 1 0 0\n",
      " 1 0 1 1 1 0 0 0 0 1 0 1 0 0 0 0 0 0 0 1 1 0 0 0 1 1 1 1 0 0 0 0 1 0 0 0 0\n",
      " 0 0 0 0 0 0 1 1 0 1 0 0 0 1 1 1 1 1 0 0 0 1 0 0 1 1 0 0 1 0 0 0 0 0 0 1 0\n",
      " 0 0 1 0 1 1 1 1 0 0 0 1 0 0 1 1 0 0 1 0 1 0 0 1 1 0 0 0 1 1 0 0 0 0 0 0 1\n",
      " 0 1 0]\n"
     ]
    }
   ],
   "source": [
    "print(pred)\n",
    "print('-'*100)\n",
    "print(np.ravel(pred))"
   ]
  },
  {
   "cell_type": "code",
   "execution_count": 57,
   "metadata": {},
   "outputs": [
    {
     "data": {
      "text/plain": [
       "((891, 32), (418, 32))"
      ]
     },
     "execution_count": 57,
     "metadata": {},
     "output_type": "execute_result"
    }
   ],
   "source": [
    "train.shape, test.shape"
   ]
  },
  {
   "cell_type": "code",
   "execution_count": 58,
   "metadata": {
    "execution": {
     "iopub.execute_input": "2020-12-20T07:24:24.483158Z",
     "iopub.status.busy": "2020-12-20T07:24:24.482499Z",
     "iopub.status.idle": "2020-12-20T07:24:24.552007Z",
     "shell.execute_reply": "2020-12-20T07:24:24.551320Z"
    },
    "papermill": {
     "duration": 0.148205,
     "end_time": "2020-12-20T07:24:24.552125",
     "exception": false,
     "start_time": "2020-12-20T07:24:24.403920",
     "status": "completed"
    },
    "tags": []
   },
   "outputs": [],
   "source": [
    "from sklearn.preprocessing import StandardScaler\n",
    "sc = StandardScaler()\n",
    "train2 = sc.fit_transform(train)\n",
    "test2 = sc.transform(test)"
   ]
  },
  {
   "cell_type": "markdown",
   "metadata": {
    "papermill": {
     "duration": 0.071869,
     "end_time": "2020-12-20T07:24:24.696530",
     "exception": false,
     "start_time": "2020-12-20T07:24:24.624661",
     "status": "completed"
    },
    "tags": []
   },
   "source": [
    "# Model Training "
   ]
  },
  {
   "cell_type": "markdown",
   "metadata": {
    "papermill": {
     "duration": 0.071908,
     "end_time": "2020-12-20T07:24:24.841190",
     "exception": false,
     "start_time": "2020-12-20T07:24:24.769282",
     "status": "completed"
    },
    "tags": []
   },
   "source": [
    "### In this section we will be training various models using different classifiers. Out of them all, we will be choosing the best classifier to give us the most accurate prediction."
   ]
  },
  {
   "cell_type": "code",
   "execution_count": 59,
   "metadata": {
    "execution": {
     "iopub.execute_input": "2020-12-20T07:24:24.996905Z",
     "iopub.status.busy": "2020-12-20T07:24:24.996271Z",
     "iopub.status.idle": "2020-12-20T07:25:22.528855Z",
     "shell.execute_reply": "2020-12-20T07:25:22.528200Z"
    },
    "papermill": {
     "duration": 57.61514,
     "end_time": "2020-12-20T07:25:22.528981",
     "exception": false,
     "start_time": "2020-12-20T07:24:24.913841",
     "status": "completed"
    },
    "tags": []
   },
   "outputs": [],
   "source": [
    "from sklearn.pipeline import Pipeline\n",
    "from sklearn import svm\n",
    "from sklearn.linear_model import LogisticRegression\n",
    "from sklearn.ensemble import RandomForestClassifier, AdaBoostClassifier\n",
    "import xgboost as xgb\n",
    "from sklearn.neighbors import KNeighborsClassifier\n",
    "from sklearn.ensemble import GradientBoostingClassifier\n",
    "from sklearn import metrics\n",
    "from sklearn.model_selection import KFold, cross_val_score\n",
    "\n",
    "KFold_Score = pd.DataFrame()\n",
    "classifiers = ['Linear SVM', 'Radial SVM', 'LogisticRegression', \n",
    "               'RandomForestClassifier', 'AdaBoostClassifier', \n",
    "               'XGBoostClassifier', 'KNeighborsClassifier','GradientBoostingClassifier']\n",
    "models = [svm.SVC(kernel='linear'),\n",
    "          svm.SVC(kernel='rbf'),\n",
    "          LogisticRegression(max_iter = 1000),\n",
    "          RandomForestClassifier(n_estimators=200, random_state=0),\n",
    "          AdaBoostClassifier(random_state = 0),\n",
    "          xgb.XGBClassifier(n_estimators=100),\n",
    "          KNeighborsClassifier(),\n",
    "          GradientBoostingClassifier(random_state=0)\n",
    "         ]\n",
    "j = 0\n",
    "for i in models:\n",
    "    model = i\n",
    "    cv = KFold(n_splits=5, random_state=0, shuffle=True)\n",
    "    KFold_Score[classifiers[j]] = (cross_val_score(model, train, np.ravel(pred), scoring = 'accuracy', cv=cv, n_jobs= -1))\n",
    "    j = j+1"
   ]
  },
  {
   "cell_type": "code",
   "execution_count": 60,
   "metadata": {},
   "outputs": [
    {
     "data": {
      "text/plain": [
       "0    0.837989\n",
       "1    0.848315\n",
       "2    0.842697\n",
       "3    0.842697\n",
       "4    0.820225\n",
       "Name: RandomForestClassifier, dtype: float64"
      ]
     },
     "execution_count": 60,
     "metadata": {},
     "output_type": "execute_result"
    }
   ],
   "source": [
    "KFold_Score[classifiers[3]]"
   ]
  },
  {
   "cell_type": "markdown",
   "metadata": {
    "papermill": {
     "duration": 0.072638,
     "end_time": "2020-12-20T07:25:22.674294",
     "exception": false,
     "start_time": "2020-12-20T07:25:22.601656",
     "status": "completed"
    },
    "tags": []
   },
   "source": [
    "### Using K-Folds Cross validation to evaluate the prformance of our models"
   ]
  },
  {
   "cell_type": "code",
   "execution_count": 61,
   "metadata": {
    "execution": {
     "iopub.execute_input": "2020-12-20T07:25:22.837400Z",
     "iopub.status.busy": "2020-12-20T07:25:22.836364Z",
     "iopub.status.idle": "2020-12-20T07:25:22.840696Z",
     "shell.execute_reply": "2020-12-20T07:25:22.840191Z"
    },
    "papermill": {
     "duration": 0.09416,
     "end_time": "2020-12-20T07:25:22.840819",
     "exception": false,
     "start_time": "2020-12-20T07:25:22.746659",
     "status": "completed"
    },
    "tags": []
   },
   "outputs": [
    {
     "data": {
      "text/html": [
       "<div>\n",
       "<style scoped>\n",
       "    .dataframe tbody tr th:only-of-type {\n",
       "        vertical-align: middle;\n",
       "    }\n",
       "\n",
       "    .dataframe tbody tr th {\n",
       "        vertical-align: top;\n",
       "    }\n",
       "\n",
       "    .dataframe thead th {\n",
       "        text-align: right;\n",
       "    }\n",
       "</style>\n",
       "<table border=\"1\" class=\"dataframe\">\n",
       "  <thead>\n",
       "    <tr style=\"text-align: right;\">\n",
       "      <th></th>\n",
       "      <th>Fold 1</th>\n",
       "      <th>Fold 2</th>\n",
       "      <th>Fold 3</th>\n",
       "      <th>Fold 4</th>\n",
       "      <th>Fold 5</th>\n",
       "      <th>Mean</th>\n",
       "    </tr>\n",
       "  </thead>\n",
       "  <tbody>\n",
       "    <tr>\n",
       "      <th>RandomForestClassifier</th>\n",
       "      <td>0.837989</td>\n",
       "      <td>0.848315</td>\n",
       "      <td>0.842697</td>\n",
       "      <td>0.842697</td>\n",
       "      <td>0.820225</td>\n",
       "      <td>0.838384</td>\n",
       "    </tr>\n",
       "    <tr>\n",
       "      <th>GradientBoostingClassifier</th>\n",
       "      <td>0.843575</td>\n",
       "      <td>0.814607</td>\n",
       "      <td>0.825843</td>\n",
       "      <td>0.825843</td>\n",
       "      <td>0.803371</td>\n",
       "      <td>0.822648</td>\n",
       "    </tr>\n",
       "    <tr>\n",
       "      <th>XGBoostClassifier</th>\n",
       "      <td>0.837989</td>\n",
       "      <td>0.808989</td>\n",
       "      <td>0.842697</td>\n",
       "      <td>0.814607</td>\n",
       "      <td>0.786517</td>\n",
       "      <td>0.818160</td>\n",
       "    </tr>\n",
       "    <tr>\n",
       "      <th>LogisticRegression</th>\n",
       "      <td>0.810056</td>\n",
       "      <td>0.786517</td>\n",
       "      <td>0.814607</td>\n",
       "      <td>0.808989</td>\n",
       "      <td>0.825843</td>\n",
       "      <td>0.809202</td>\n",
       "    </tr>\n",
       "    <tr>\n",
       "      <th>AdaBoostClassifier</th>\n",
       "      <td>0.810056</td>\n",
       "      <td>0.792135</td>\n",
       "      <td>0.780899</td>\n",
       "      <td>0.786517</td>\n",
       "      <td>0.814607</td>\n",
       "      <td>0.796843</td>\n",
       "    </tr>\n",
       "    <tr>\n",
       "      <th>Linear SVM</th>\n",
       "      <td>0.787709</td>\n",
       "      <td>0.769663</td>\n",
       "      <td>0.792135</td>\n",
       "      <td>0.786517</td>\n",
       "      <td>0.803371</td>\n",
       "      <td>0.787879</td>\n",
       "    </tr>\n",
       "    <tr>\n",
       "      <th>KNeighborsClassifier</th>\n",
       "      <td>0.720670</td>\n",
       "      <td>0.707865</td>\n",
       "      <td>0.707865</td>\n",
       "      <td>0.685393</td>\n",
       "      <td>0.679775</td>\n",
       "      <td>0.700314</td>\n",
       "    </tr>\n",
       "    <tr>\n",
       "      <th>Radial SVM</th>\n",
       "      <td>0.709497</td>\n",
       "      <td>0.640449</td>\n",
       "      <td>0.719101</td>\n",
       "      <td>0.685393</td>\n",
       "      <td>0.606742</td>\n",
       "      <td>0.672237</td>\n",
       "    </tr>\n",
       "  </tbody>\n",
       "</table>\n",
       "</div>"
      ],
      "text/plain": [
       "                              Fold 1    Fold 2    Fold 3    Fold 4    Fold 5  \\\n",
       "RandomForestClassifier      0.837989  0.848315  0.842697  0.842697  0.820225   \n",
       "GradientBoostingClassifier  0.843575  0.814607  0.825843  0.825843  0.803371   \n",
       "XGBoostClassifier           0.837989  0.808989  0.842697  0.814607  0.786517   \n",
       "LogisticRegression          0.810056  0.786517  0.814607  0.808989  0.825843   \n",
       "AdaBoostClassifier          0.810056  0.792135  0.780899  0.786517  0.814607   \n",
       "Linear SVM                  0.787709  0.769663  0.792135  0.786517  0.803371   \n",
       "KNeighborsClassifier        0.720670  0.707865  0.707865  0.685393  0.679775   \n",
       "Radial SVM                  0.709497  0.640449  0.719101  0.685393  0.606742   \n",
       "\n",
       "                                Mean  \n",
       "RandomForestClassifier      0.838384  \n",
       "GradientBoostingClassifier  0.822648  \n",
       "XGBoostClassifier           0.818160  \n",
       "LogisticRegression          0.809202  \n",
       "AdaBoostClassifier          0.796843  \n",
       "Linear SVM                  0.787879  \n",
       "KNeighborsClassifier        0.700314  \n",
       "Radial SVM                  0.672237  "
      ]
     },
     "execution_count": 61,
     "metadata": {},
     "output_type": "execute_result"
    }
   ],
   "source": [
    "mean = pd.DataFrame(KFold_Score.mean(), index= classifiers)\n",
    "KFold_Score = pd.concat([KFold_Score,mean.T])\n",
    "KFold_Score.index=['Fold 1','Fold 2','Fold 3','Fold 4','Fold 5','Mean']\n",
    "KFold_Score.T.sort_values(by=['Mean'], ascending = False)"
   ]
  },
  {
   "cell_type": "markdown",
   "metadata": {
    "papermill": {
     "duration": 0.074048,
     "end_time": "2020-12-20T07:25:22.988174",
     "exception": false,
     "start_time": "2020-12-20T07:25:22.914126",
     "status": "completed"
    },
    "tags": []
   },
   "source": [
    "### Here RandomForestClassifier is giving the highest accuracy."
   ]
  },
  {
   "cell_type": "markdown",
   "metadata": {
    "papermill": {
     "duration": 0.074351,
     "end_time": "2020-12-20T07:25:23.135880",
     "exception": false,
     "start_time": "2020-12-20T07:25:23.061529",
     "status": "completed"
    },
    "tags": []
   },
   "source": [
    "# Hyperparameter Tuning "
   ]
  },
  {
   "cell_type": "markdown",
   "metadata": {
    "papermill": {
     "duration": 0.074305,
     "end_time": "2020-12-20T07:25:23.290321",
     "exception": false,
     "start_time": "2020-12-20T07:25:23.216016",
     "status": "completed"
    },
    "tags": []
   },
   "source": [
    "### This is the most important section of this project. Here, the ultimate goal is to find an optimal combination of hyperparameters that minimizes a predefined loss function to give better results."
   ]
  },
  {
   "cell_type": "markdown",
   "metadata": {
    "papermill": {
     "duration": 0.072785,
     "end_time": "2020-12-20T07:25:23.436402",
     "exception": false,
     "start_time": "2020-12-20T07:25:23.363617",
     "status": "completed"
    },
    "tags": []
   },
   "source": [
    "## Important Note:\n",
    "### I had done this project 3 months before creating this notebook. After completing it I experimented with 'Hyperparamter Tuning' as well as 'Principle Component Analysis' to get a better score. When I finally got my best result I decided to make a notebook on kaggle. While creating this project I had made a few changes in the order of preprocessing, due to which the \"Fare\" column and \"Pclass\" column had their positions interchanged. I did not realise it before but on training the model with the same hyperparamters I was getting a lower accuracy. I was suprised by the fact that even with the columns interchanging we get a different prediction result. Hence inorder to overcome this problem I interchanged the 2 columns.   "
   ]
  },
  {
   "cell_type": "code",
   "execution_count": 62,
   "metadata": {
    "execution": {
     "iopub.execute_input": "2020-12-20T07:25:23.587622Z",
     "iopub.status.busy": "2020-12-20T07:25:23.586841Z",
     "iopub.status.idle": "2020-12-20T07:25:23.589874Z",
     "shell.execute_reply": "2020-12-20T07:25:23.589222Z"
    },
    "papermill": {
     "duration": 0.080538,
     "end_time": "2020-12-20T07:25:23.589986",
     "exception": false,
     "start_time": "2020-12-20T07:25:23.509448",
     "status": "completed"
    },
    "tags": []
   },
   "outputs": [],
   "source": [
    "col_name1 = list(train.columns)\n",
    "col_name2 = list(test.columns)"
   ]
  },
  {
   "cell_type": "code",
   "execution_count": 63,
   "metadata": {
    "execution": {
     "iopub.execute_input": "2020-12-20T07:25:23.741892Z",
     "iopub.status.busy": "2020-12-20T07:25:23.741216Z",
     "iopub.status.idle": "2020-12-20T07:25:23.744257Z",
     "shell.execute_reply": "2020-12-20T07:25:23.743624Z"
    },
    "papermill": {
     "duration": 0.081365,
     "end_time": "2020-12-20T07:25:23.744377",
     "exception": false,
     "start_time": "2020-12-20T07:25:23.663012",
     "status": "completed"
    },
    "tags": []
   },
   "outputs": [],
   "source": [
    "col_name1[0],col_name1[2] = col_name1[2],col_name1[0]\n",
    "col_name2[0],col_name2[2] = col_name2[2],col_name2[0]"
   ]
  },
  {
   "cell_type": "code",
   "execution_count": 64,
   "metadata": {
    "execution": {
     "iopub.execute_input": "2020-12-20T07:25:23.899139Z",
     "iopub.status.busy": "2020-12-20T07:25:23.898268Z",
     "iopub.status.idle": "2020-12-20T07:25:23.901765Z",
     "shell.execute_reply": "2020-12-20T07:25:23.901289Z"
    },
    "papermill": {
     "duration": 0.083853,
     "end_time": "2020-12-20T07:25:23.901877",
     "exception": false,
     "start_time": "2020-12-20T07:25:23.818024",
     "status": "completed"
    },
    "tags": []
   },
   "outputs": [],
   "source": [
    "train_new = train[col_name1]\n",
    "test_new = test[col_name2]"
   ]
  },
  {
   "cell_type": "markdown",
   "metadata": {
    "papermill": {
     "duration": 0.073989,
     "end_time": "2020-12-20T07:25:24.050160",
     "exception": false,
     "start_time": "2020-12-20T07:25:23.976171",
     "status": "completed"
    },
    "tags": []
   },
   "source": [
    "## Important Note:\n",
    "### As I had mentioned earlier in feature preprocessing, the \"Cabin\" column does not help us in getting a better prediction and here is why:-\n",
    "### First of all we need to understand that this is a \"Survival Prediction\". Many things took place at the actually event which we don't have an account of. "
   ]
  },
  {
   "cell_type": "markdown",
   "metadata": {
    "papermill": {
     "duration": 0.075131,
     "end_time": "2020-12-20T07:25:24.199706",
     "exception": false,
     "start_time": "2020-12-20T07:25:24.124575",
     "status": "completed"
    },
    "tags": []
   },
   "source": [
    "![](http://www.historyonthenet.com/wp-content/uploads/2014/08/MGY_Cutaway2.JPG)"
   ]
  },
  {
   "cell_type": "markdown",
   "metadata": {
    "papermill": {
     "duration": 0.072798,
     "end_time": "2020-12-20T07:25:24.347077",
     "exception": false,
     "start_time": "2020-12-20T07:25:24.274279",
     "status": "completed"
    },
    "tags": []
   },
   "source": [
    "### This is a picture of the Titanic which has mapped various locations such as dining room ,quarters ,etc. of the ship. In an actual sinking emergency (just like the one here) all the passengers irrespective of their cabin would gather around at the port side and starboard side of the ship for evacuation. Similar thing must have happened with Titanic. Therefore it does not matter which cabin you are occupying.\n",
    "### Women and children had the first preference, along with them there were people who belonged to the higher class. This data is covered under the \"Sex\" , \"Pclass\" and \"Age\" column. "
   ]
  },
  {
   "cell_type": "markdown",
   "metadata": {
    "papermill": {
     "duration": 0.072509,
     "end_time": "2020-12-20T07:25:24.493006",
     "exception": false,
     "start_time": "2020-12-20T07:25:24.420497",
     "status": "completed"
    },
    "tags": []
   },
   "source": [
    "### Considering this I droped the \"Cabin\" column."
   ]
  },
  {
   "cell_type": "code",
   "execution_count": 65,
   "metadata": {
    "execution": {
     "iopub.execute_input": "2020-12-20T07:25:24.647028Z",
     "iopub.status.busy": "2020-12-20T07:25:24.645715Z",
     "iopub.status.idle": "2020-12-20T07:25:24.650373Z",
     "shell.execute_reply": "2020-12-20T07:25:24.649749Z"
    },
    "papermill": {
     "duration": 0.084702,
     "end_time": "2020-12-20T07:25:24.650483",
     "exception": false,
     "start_time": "2020-12-20T07:25:24.565781",
     "status": "completed"
    },
    "tags": []
   },
   "outputs": [],
   "source": [
    "train_new = train_new.drop(['Cabin'],axis = 1)\n",
    "test_new = test_new.drop(['Cabin'],axis = 1)"
   ]
  },
  {
   "cell_type": "code",
   "execution_count": 66,
   "metadata": {
    "execution": {
     "iopub.execute_input": "2020-12-20T07:25:24.804524Z",
     "iopub.status.busy": "2020-12-20T07:25:24.803864Z",
     "iopub.status.idle": "2020-12-20T07:25:24.813101Z",
     "shell.execute_reply": "2020-12-20T07:25:24.812598Z"
    },
    "papermill": {
     "duration": 0.089189,
     "end_time": "2020-12-20T07:25:24.813249",
     "exception": false,
     "start_time": "2020-12-20T07:25:24.724060",
     "status": "completed"
    },
    "tags": []
   },
   "outputs": [],
   "source": [
    "sc = StandardScaler()\n",
    "train3 = sc.fit_transform(train_new)\n",
    "test3 = sc.transform(test_new)"
   ]
  },
  {
   "cell_type": "markdown",
   "metadata": {
    "papermill": {
     "duration": 0.074809,
     "end_time": "2020-12-20T07:25:24.961706",
     "exception": false,
     "start_time": "2020-12-20T07:25:24.886897",
     "status": "completed"
    },
    "tags": []
   },
   "source": [
    "### Applying RandomForestClassifier with hyperparameter tuning on our new training set."
   ]
  },
  {
   "cell_type": "markdown",
   "metadata": {
    "papermill": {
     "duration": 0.073848,
     "end_time": "2020-12-20T07:25:25.109339",
     "exception": false,
     "start_time": "2020-12-20T07:25:25.035491",
     "status": "completed"
    },
    "tags": []
   },
   "source": [
    "### Note: I have performed numerous permutations with various hyperparameters but the given following are the ones which gave me the best result."
   ]
  },
  {
   "cell_type": "code",
   "execution_count": 67,
   "metadata": {
    "execution": {
     "iopub.execute_input": "2020-12-20T07:25:25.262729Z",
     "iopub.status.busy": "2020-12-20T07:25:25.262038Z",
     "iopub.status.idle": "2020-12-20T07:25:25.264423Z",
     "shell.execute_reply": "2020-12-20T07:25:25.264850Z"
    },
    "papermill": {
     "duration": 0.0819,
     "end_time": "2020-12-20T07:25:25.264994",
     "exception": false,
     "start_time": "2020-12-20T07:25:25.183094",
     "status": "completed"
    },
    "tags": []
   },
   "outputs": [],
   "source": [
    "rfc = RandomForestClassifier(random_state=0)"
   ]
  },
  {
   "cell_type": "code",
   "execution_count": 68,
   "metadata": {
    "execution": {
     "iopub.execute_input": "2020-12-20T07:25:25.419132Z",
     "iopub.status.busy": "2020-12-20T07:25:25.418106Z",
     "iopub.status.idle": "2020-12-20T07:25:25.421188Z",
     "shell.execute_reply": "2020-12-20T07:25:25.420576Z"
    },
    "papermill": {
     "duration": 0.082402,
     "end_time": "2020-12-20T07:25:25.421327",
     "exception": false,
     "start_time": "2020-12-20T07:25:25.338925",
     "status": "completed"
    },
    "tags": []
   },
   "outputs": [],
   "source": [
    "param_grid = { \n",
    "    'n_estimators': [ 200,300],\n",
    "    'max_features': ['auto', 'sqrt'],\n",
    "    'max_depth' : [6,7,8],\n",
    "    'criterion' :['gini', 'entropy']\n",
    "}"
   ]
  },
  {
   "cell_type": "code",
   "execution_count": 69,
   "metadata": {
    "execution": {
     "iopub.execute_input": "2020-12-20T07:25:25.575509Z",
     "iopub.status.busy": "2020-12-20T07:25:25.573750Z",
     "iopub.status.idle": "2020-12-20T07:26:20.265385Z",
     "shell.execute_reply": "2020-12-20T07:26:20.265900Z"
    },
    "papermill": {
     "duration": 54.771039,
     "end_time": "2020-12-20T07:26:20.266043",
     "exception": false,
     "start_time": "2020-12-20T07:25:25.495004",
     "status": "completed"
    },
    "tags": []
   },
   "outputs": [
    {
     "data": {
      "text/plain": [
       "{'criterion': 'gini',\n",
       " 'max_depth': 8,\n",
       " 'max_features': 'auto',\n",
       " 'n_estimators': 200}"
      ]
     },
     "execution_count": 69,
     "metadata": {},
     "output_type": "execute_result"
    }
   ],
   "source": [
    "from sklearn.model_selection import GridSearchCV\n",
    "CV_rfc = GridSearchCV(estimator=rfc, param_grid=param_grid, cv= 5, n_jobs=-1)\n",
    "CV_rfc.fit(train3,pred )\n",
    "CV_rfc.best_params_"
   ]
  },
  {
   "cell_type": "code",
   "execution_count": 70,
   "metadata": {
    "execution": {
     "iopub.execute_input": "2020-12-20T07:26:20.421850Z",
     "iopub.status.busy": "2020-12-20T07:26:20.420870Z",
     "iopub.status.idle": "2020-12-20T07:26:20.777686Z",
     "shell.execute_reply": "2020-12-20T07:26:20.777172Z"
    },
    "papermill": {
     "duration": 0.437307,
     "end_time": "2020-12-20T07:26:20.777801",
     "exception": false,
     "start_time": "2020-12-20T07:26:20.340494",
     "status": "completed"
    },
    "tags": []
   },
   "outputs": [
    {
     "data": {
      "text/plain": [
       "RandomForestClassifier(max_depth=8, n_estimators=200, random_state=0)"
      ]
     },
     "execution_count": 70,
     "metadata": {},
     "output_type": "execute_result"
    }
   ],
   "source": [
    "rfc1=RandomForestClassifier(random_state=0, n_estimators= 200, criterion = 'gini',max_features = 'auto',max_depth = 8)\n",
    "rfc1.fit(train3, pred)"
   ]
  },
  {
   "cell_type": "code",
   "execution_count": 71,
   "metadata": {
    "execution": {
     "iopub.execute_input": "2020-12-20T07:26:20.933323Z",
     "iopub.status.busy": "2020-12-20T07:26:20.932637Z",
     "iopub.status.idle": "2020-12-20T07:26:20.965069Z",
     "shell.execute_reply": "2020-12-20T07:26:20.964406Z"
    },
    "papermill": {
     "duration": 0.112208,
     "end_time": "2020-12-20T07:26:20.965206",
     "exception": false,
     "start_time": "2020-12-20T07:26:20.852998",
     "status": "completed"
    },
    "tags": []
   },
   "outputs": [
    {
     "name": "stdout",
     "output_type": "stream",
     "text": [
      "[0 0 0 0 1 0 0 0 1 0 0 0 1 0 1 1 0 0 0 1 0 1 1 1 1 0 1 0 0 0 0 0 1 0 1 0 0\n",
      " 0 0 0 0 0 0 1 1 0 0 0 1 1 0 0 1 1 0 0 0 0 0 1 0 0 0 1 1 1 1 0 0 1 1 0 0 0\n",
      " 1 0 0 1 0 1 1 0 0 0 0 0 1 0 1 1 1 0 1 0 0 0 1 0 0 0 1 0 0 0 1 0 0 0 0 0 0\n",
      " 1 1 1 1 0 0 1 0 1 1 0 1 0 0 1 0 1 0 0 0 1 0 0 0 0 0 0 0 0 0 1 0 0 0 0 0 0\n",
      " 0 0 1 0 0 1 0 0 1 0 0 0 1 1 1 0 0 0 0 0 1 0 0 0 0 0 0 1 1 0 1 1 0 0 1 0 1\n",
      " 0 1 0 0 0 0 0 0 0 1 0 1 1 0 0 1 1 1 1 0 0 0 0 1 0 0 0 0 1 0 0 1 0 1 0 1 0\n",
      " 1 0 1 1 0 1 0 0 0 1 0 0 0 0 0 0 1 1 1 1 0 0 0 0 1 0 1 0 1 0 0 0 0 0 0 0 1\n",
      " 0 0 0 1 1 0 0 0 0 0 0 0 0 1 1 0 1 0 0 0 0 0 1 1 1 0 0 0 0 0 0 0 0 0 0 0 0\n",
      " 1 0 0 0 0 0 0 0 1 1 0 1 0 0 0 0 0 0 1 1 0 0 0 0 0 0 0 0 1 0 1 0 0 0 1 0 0\n",
      " 1 0 0 0 0 0 1 0 0 0 1 0 1 0 1 0 1 1 0 0 0 1 0 1 0 0 1 0 1 1 0 1 0 0 0 1 0\n",
      " 0 1 0 0 1 1 0 0 0 0 0 0 1 1 0 1 0 0 0 0 0 1 0 0 0 1 0 1 0 0 1 0 1 0 0 0 0\n",
      " 0 1 0 1 1 0 0 1 0 0 1]\n"
     ]
    }
   ],
   "source": [
    "pred3= rfc1.predict(test3)\n",
    "print(pred3)"
   ]
  },
  {
   "cell_type": "markdown",
   "metadata": {
    "papermill": {
     "duration": 0.075871,
     "end_time": "2020-12-20T07:26:21.118190",
     "exception": false,
     "start_time": "2020-12-20T07:26:21.042319",
     "status": "completed"
    },
    "tags": []
   },
   "source": [
    "#### This result got me **Top 4%**."
   ]
  },
  {
   "cell_type": "code",
   "execution_count": 72,
   "metadata": {
    "execution": {
     "iopub.execute_input": "2020-12-20T07:26:21.277805Z",
     "iopub.status.busy": "2020-12-20T07:26:21.277141Z",
     "iopub.status.idle": "2020-12-20T07:26:21.507688Z",
     "shell.execute_reply": "2020-12-20T07:26:21.506968Z"
    },
    "papermill": {
     "duration": 0.313372,
     "end_time": "2020-12-20T07:26:21.507811",
     "exception": false,
     "start_time": "2020-12-20T07:26:21.194439",
     "status": "completed"
    },
    "tags": []
   },
   "outputs": [],
   "source": [
    "pred_test = pred3\n",
    "output = pd.DataFrame({'PassengerId': test_data.PassengerId, 'Survived': pred_test})\n",
    "output.to_csv('../git/ML/project titanic survival prediction/submission.csv', index=False)"
   ]
  },
  {
   "cell_type": "markdown",
   "metadata": {
    "papermill": {
     "duration": 0.075426,
     "end_time": "2020-12-20T07:26:21.659792",
     "exception": false,
     "start_time": "2020-12-20T07:26:21.584366",
     "status": "completed"
    },
    "tags": []
   },
   "source": [
    "## Final Note:\n",
    "### I have experimented a lot with this project and tried many different things.I also used Neural Netowrks and Ensembling models to get a better prediction result. But most of my efforts have been in Hyperparamter tuning. Initially I had included more parameters thinking that it would give me better result. But if you do a lot of hyperparamter tuning the model will not give a good result on the test set as it will be fine-tuned for the training set. \n",
    "### So try your best in getting a better prediction and let me know what gave you a better result :)"
   ]
  },
  {
   "cell_type": "code",
   "execution_count": null,
   "metadata": {
    "papermill": {
     "duration": 0.076849,
     "end_time": "2020-12-20T07:26:21.812357",
     "exception": false,
     "start_time": "2020-12-20T07:26:21.735508",
     "status": "completed"
    },
    "tags": []
   },
   "outputs": [],
   "source": []
  }
 ],
 "metadata": {
  "hide_input": false,
  "kernelspec": {
   "display_name": "Python 3",
   "language": "python",
   "name": "python3"
  },
  "language_info": {
   "codemirror_mode": {
    "name": "ipython",
    "version": 3
   },
   "file_extension": ".py",
   "mimetype": "text/x-python",
   "name": "python",
   "nbconvert_exporter": "python",
   "pygments_lexer": "ipython3",
   "version": "3.8.5"
  },
  "papermill": {
   "duration": 138.916152,
   "end_time": "2020-12-20T07:26:21.997146",
   "environment_variables": {},
   "exception": null,
   "input_path": "__notebook__.ipynb",
   "output_path": "__notebook__.ipynb",
   "parameters": {},
   "start_time": "2020-12-20T07:24:03.080994",
   "version": "2.1.0"
  },
  "toc": {
   "base_numbering": 1,
   "nav_menu": {},
   "number_sections": true,
   "sideBar": true,
   "skip_h1_title": false,
   "title_cell": "Table of Contents",
   "title_sidebar": "Contents",
   "toc_cell": false,
   "toc_position": {},
   "toc_section_display": true,
   "toc_window_display": false
  }
 },
 "nbformat": 4,
 "nbformat_minor": 4
}
